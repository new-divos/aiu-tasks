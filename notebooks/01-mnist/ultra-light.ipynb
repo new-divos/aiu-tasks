{
 "cells": [
  {
   "cell_type": "markdown",
   "source": [
    "# Распознавание рукописных цифр MNIST"
   ],
   "metadata": {
    "collapsed": false,
    "pycharm": {
     "name": "#%% md\n"
    }
   }
  },
  {
   "cell_type": "code",
   "execution_count": 1,
   "outputs": [],
   "source": [
    "from pathlib import Path\n",
    "\n",
    "import numpy as np\n",
    "\n",
    "from tensorflow.keras.datasets import mnist\n",
    "from tensorflow.keras.models import Sequential\n",
    "from tensorflow.keras.layers import Dense\n",
    "from tensorflow.keras.optimizers import Adam\n",
    "from tensorflow.keras import utils\n",
    "\n",
    "from PIL import Image\n",
    "\n",
    "from matplotlib import pyplot as plt\n",
    "%matplotlib inline"
   ],
   "metadata": {
    "collapsed": false,
    "pycharm": {
     "name": "#%%\n"
    }
   }
  },
  {
   "cell_type": "markdown",
   "source": [
    "## Подготовка данных"
   ],
   "metadata": {
    "collapsed": false,
    "pycharm": {
     "name": "#%% md\n"
    }
   }
  },
  {
   "cell_type": "markdown",
   "source": [
    "Загрузка данных MNIST"
   ],
   "metadata": {
    "collapsed": false,
    "pycharm": {
     "name": "#%% md\n"
    }
   }
  },
  {
   "cell_type": "code",
   "execution_count": 2,
   "outputs": [],
   "source": [
    "(x_train_org, y_train_org), (x_test_org, y_test_org) =\\\n",
    "    mnist.load_data()"
   ],
   "metadata": {
    "collapsed": false,
    "pycharm": {
     "name": "#%%\n"
    }
   }
  },
  {
   "cell_type": "code",
   "execution_count": 3,
   "outputs": [
    {
     "output_type": "stream",
     "name": "stdout",
     "text": [
      "(60000, 28, 28)\n"
     ]
    }
   ],
   "source": [
    "print(x_train_org.shape)"
   ],
   "metadata": {
    "collapsed": false,
    "pycharm": {
     "name": "#%%\n"
    }
   }
  },
  {
   "cell_type": "markdown",
   "source": [
    "Контрольное отображение цифры из набора"
   ],
   "metadata": {
    "collapsed": false,
    "pycharm": {
     "name": "#%% md\n"
    }
   }
  },
  {
   "cell_type": "code",
   "execution_count": 4,
   "outputs": [
    {
     "output_type": "display_data",
     "data": {
      "text/plain": "<Figure size 432x288 with 1 Axes>",
      "image/svg+xml": "<?xml version=\"1.0\" encoding=\"utf-8\" standalone=\"no\"?>\r\n<!DOCTYPE svg PUBLIC \"-//W3C//DTD SVG 1.1//EN\"\r\n  \"http://www.w3.org/Graphics/SVG/1.1/DTD/svg11.dtd\">\r\n<!-- Created with matplotlib (https://matplotlib.org/) -->\r\n<svg height=\"246.958125pt\" version=\"1.1\" viewBox=\"0 0 231.84 246.958125\" width=\"231.84pt\" xmlns=\"http://www.w3.org/2000/svg\" xmlns:xlink=\"http://www.w3.org/1999/xlink\">\r\n <metadata>\r\n  <rdf:RDF xmlns:cc=\"http://creativecommons.org/ns#\" xmlns:dc=\"http://purl.org/dc/elements/1.1/\" xmlns:rdf=\"http://www.w3.org/1999/02/22-rdf-syntax-ns#\">\r\n   <cc:Work>\r\n    <dc:type rdf:resource=\"http://purl.org/dc/dcmitype/StillImage\"/>\r\n    <dc:date>2020-10-14T23:41:18.547889</dc:date>\r\n    <dc:format>image/svg+xml</dc:format>\r\n    <dc:creator>\r\n     <cc:Agent>\r\n      <dc:title>Matplotlib v3.3.2, https://matplotlib.org/</dc:title>\r\n     </cc:Agent>\r\n    </dc:creator>\r\n   </cc:Work>\r\n  </rdf:RDF>\r\n </metadata>\r\n <defs>\r\n  <style type=\"text/css\">*{stroke-linecap:butt;stroke-linejoin:round;}</style>\r\n </defs>\r\n <g id=\"figure_1\">\r\n  <g id=\"patch_1\">\r\n   <path d=\"M 0 246.958125 \r\nL 231.84 246.958125 \r\nL 231.84 0 \r\nL 0 0 \r\nz\r\n\" style=\"fill:none;\"/>\r\n  </g>\r\n  <g id=\"axes_1\">\r\n   <g clip-path=\"url(#p28af154455)\">\r\n    <image height=\"218\" id=\"image5b5c625708\" transform=\"scale(1 -1)translate(0 -218)\" width=\"218\" x=\"7.2\" xlink:href=\"data:image/png;base64,\r\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\" y=\"-21.758125\"/>\r\n   </g>\r\n   <g id=\"text_1\">\r\n    <!-- 2 -->\r\n    <g transform=\"translate(112.1025 16.318125)scale(0.12 -0.12)\">\r\n     <defs>\r\n      <path d=\"M 19.1875 8.296875 \r\nL 53.609375 8.296875 \r\nL 53.609375 0 \r\nL 7.328125 0 \r\nL 7.328125 8.296875 \r\nQ 12.9375 14.109375 22.625 23.890625 \r\nQ 32.328125 33.6875 34.8125 36.53125 \r\nQ 39.546875 41.84375 41.421875 45.53125 \r\nQ 43.3125 49.21875 43.3125 52.78125 \r\nQ 43.3125 58.59375 39.234375 62.25 \r\nQ 35.15625 65.921875 28.609375 65.921875 \r\nQ 23.96875 65.921875 18.8125 64.3125 \r\nQ 13.671875 62.703125 7.8125 59.421875 \r\nL 7.8125 69.390625 \r\nQ 13.765625 71.78125 18.9375 73 \r\nQ 24.125 74.21875 28.421875 74.21875 \r\nQ 39.75 74.21875 46.484375 68.546875 \r\nQ 53.21875 62.890625 53.21875 53.421875 \r\nQ 53.21875 48.921875 51.53125 44.890625 \r\nQ 49.859375 40.875 45.40625 35.40625 \r\nQ 44.1875 33.984375 37.640625 27.21875 \r\nQ 31.109375 20.453125 19.1875 8.296875 \r\nz\r\n\" id=\"DejaVuSans-50\"/>\r\n     </defs>\r\n     <use xlink:href=\"#DejaVuSans-50\"/>\r\n    </g>\r\n   </g>\r\n  </g>\r\n </g>\r\n <defs>\r\n  <clipPath id=\"p28af154455\">\r\n   <rect height=\"217.44\" width=\"217.44\" x=\"7.2\" y=\"22.318125\"/>\r\n  </clipPath>\r\n </defs>\r\n</svg>\r\n",
      "image/png": "[encoded data removed]"
     },
     "metadata": {
      "needs_background": "light"
     }
    }
   ],
   "source": [
    "n = 143\n",
    "plt.imshow(Image.fromarray(x_train_org[n]).convert('RGB'))\n",
    "\n",
    "plt.title(str(y_train_org[n]))\n",
    "plt.axis('off')\n",
    "\n",
    "plt.show();"
   ],
   "metadata": {
    "collapsed": false,
    "pycharm": {
     "name": "#%%\n"
    }
   }
  },
  {
   "cell_type": "markdown",
   "source": [
    "Отобразить примеры цифр из набора"
   ],
   "metadata": {
    "collapsed": false,
    "pycharm": {
     "name": "#%% md\n"
    }
   }
  },
  {
   "cell_type": "code",
   "execution_count": 5,
   "outputs": [
    {
     "output_type": "display_data",
     "data": {
      "text/plain": "<Figure size 864x360 with 10 Axes>",
      "image/svg+xml": "<?xml version=\"1.0\" encoding=\"utf-8\" standalone=\"no\"?>\r\n<!DOCTYPE svg PUBLIC \"-//W3C//DTD SVG 1.1//EN\"\r\n  \"http://www.w3.org/Graphics/SVG/1.1/DTD/svg11.dtd\">\r\n<!-- Created with matplotlib (https://matplotlib.org/) -->\r\n<svg height=\"293.220946pt\" version=\"1.1\" viewBox=\"0 0 684 293.220946\" width=\"684pt\" xmlns=\"http://www.w3.org/2000/svg\" xmlns:xlink=\"http://www.w3.org/1999/xlink\">\r\n <metadata>\r\n  <rdf:RDF xmlns:cc=\"http://creativecommons.org/ns#\" xmlns:dc=\"http://purl.org/dc/elements/1.1/\" xmlns:rdf=\"http://www.w3.org/1999/02/22-rdf-syntax-ns#\">\r\n   <cc:Work>\r\n    <dc:type rdf:resource=\"http://purl.org/dc/dcmitype/StillImage\"/>\r\n    <dc:date>2020-10-14T23:41:19.194907</dc:date>\r\n    <dc:format>image/svg+xml</dc:format>\r\n    <dc:creator>\r\n     <cc:Agent>\r\n      <dc:title>Matplotlib v3.3.2, https://matplotlib.org/</dc:title>\r\n     </cc:Agent>\r\n    </dc:creator>\r\n   </cc:Work>\r\n  </rdf:RDF>\r\n </metadata>\r\n <defs>\r\n  <style type=\"text/css\">*{stroke-linecap:butt;stroke-linejoin:round;}</style>\r\n </defs>\r\n <g id=\"figure_1\">\r\n  <g id=\"patch_1\">\r\n   <path d=\"M 0 293.220946 \r\nL 684 293.220946 \r\nL 684 -0 \r\nL 0 -0 \r\nz\r\n\" style=\"fill:none;\"/>\r\n  </g>\r\n  <g id=\"axes_1\">\r\n   <g clip-path=\"url(#p811150f608)\">\r\n    <image height=\"116\" id=\"image437c6f3a46\" transform=\"scale(1 -1)translate(0 -116)\" width=\"116\" x=\"7.2\" xlink:href=\"data:image/png;base64,\r\niVBORw0KGgoAAAANSUhEUgAAAHQAAAB0CAYAAABUmhYnAAAEsUlEQVR4nO2dSyh1bRiG3/0nkmJg4jRgYOqQnMqhDDGTYzFkIsqplIzMlMiEkoGUc1EOSSnJYYCJoZlDSAYOKYRv+j3P2v9e//r+tdfe+/7ua3atWu96c/f0WO9619o+Y8yPITD8E+oJEHdhoGAwUDAYKBgMFAwGCgYDBYOBgsFAwWCgYDBQMBgoGAwUDAYKBgMFg4GCERWKiyYnJwtva2sTPjAwINzn81nG+PmRz+XHxsaET0xMCL+4uHA8z0iEFQoGAwWDgYLhMx5sEktLSxO+tLQkPD8/P+D5/6WHah4fH4XPz88L7+zsDHh+pMIKBYOBgsFAwfCkh9bW1gqfm5tzdP79/b3l2PPzs/DMzExHYx4fHwvf3d0VPjg46Gi8cIEVCgYDBYOBghGStVzN19eX8MnJSeHT09OWc/R9ZlFRkfDm5mbh2dnZwouLi4WnpqYK99eT9Xqx7sPhACsUDAYKBgMFw5Meqtditd/d3Qnv6OhwfI2rqyvher1Y09XVJVw/g62rq7Oc8/n5KZw9lAQdBgoGAwXDkx6qn11qX11d9WIagpGREeF6Lbe3t9dyTlNTk/C4uDjhNTU1Ls3uz2GFgsFAwWCgYITF81B9D5mRkRHsKdkSExNjOabvVfv7+4Xf3NwIb21tFb69ve3S7P4dVigYDBQMBgoGAwUjLB5w639A9MtMt7e3Xk7HGGPM+/u75djQ0JDwqCj55+vr6xPe3d0t/ODgQPjr6+v/maJfWKFgMFAwGCgYniwsVFdXC19cXBQeHR0tvKenR/jo6GhQ5uU2erObfgihX0Jub293fQ6sUDAYKBgMFAxPeqjm8PBQeGFhofC9vT3hFRUVQZ+TG+ie+f39Lfzo6Eh4SUmJ63NghYLBQMFgoGCEZC1Xr3Hu7+8LLysrE15eXm4ZQ/fZcED3TLvNccGAFQoGAwWDgYIRkh56dnYmfHNzU3hlZaXwtbU1yxj19fXCT05OhMfGxgq/vr52PM9IhBUKBgMFg4GCEZIeqvfr6OefLy8vwhsaGixjzMzMCNf7jvT+n+XlZcfzdJvLy8ugX4MVCgYDBYOBghGS56F25OTkCNcv4xpjTHx8fMAxtra2hDc2NgrX68NZWVnCp6amLGM+PDwEvKbeU/T29hbwmvp+3A1YoWAwUDAYKBgMFIyw/KdIk5eXZzm2s7MjPCEhIeAY+oH4+vq68OHhYeH+XpCqqqoSnp6eLlx/zWVhYUG4vwUSt2GFgsFAwWCgYITFC792nJ6eWo5tbGwI1wsHGruNZ3oDV1JSkmWM3Nxc4fqr2XabxLyAFQoGAwWDgYIRET3UH/pXgfUvSczOzgrXv5Boh7+Fc/2RC38bwH/n/Pzc0TXdgBUKBgMFg4GCERFruX9CQUGB8JWVFeEpKSnC9T2j3qhmjDEfHx/CExMThZeWlgrX98/6/GDACgWDgYLBQMGA7aEau41ndpvO/PH09CRc99RQwAoFg4GCwUDB+Gt6qEbvU9IfUmxpabGco1+QGh8fFx6MjdNOYYWCwUDBYKBg/LU9FBVWKBgMFAwGCgYDBYOBgsFAwWCgYDBQMBgoGAwUDAYKBgMFg4GCwUDBYKBgMFAwfgHvRjtzL/vFKAAAAABJRU5ErkJggg==\" y=\"-21.766401\"/>\r\n   </g>\r\n   <g id=\"text_1\">\r\n    <!-- 0 -->\r\n    <g transform=\"translate(61.106638 16.318125)scale(0.12 -0.12)\">\r\n     <defs>\r\n      <path d=\"M 31.78125 66.40625 \r\nQ 24.171875 66.40625 20.328125 58.90625 \r\nQ 16.5 51.421875 16.5 36.375 \r\nQ 16.5 21.390625 20.328125 13.890625 \r\nQ 24.171875 6.390625 31.78125 6.390625 \r\nQ 39.453125 6.390625 43.28125 13.890625 \r\nQ 47.125 21.390625 47.125 36.375 \r\nQ 47.125 51.421875 43.28125 58.90625 \r\nQ 39.453125 66.40625 31.78125 66.40625 \r\nz\r\nM 31.78125 74.21875 \r\nQ 44.046875 74.21875 50.515625 64.515625 \r\nQ 56.984375 54.828125 56.984375 36.375 \r\nQ 56.984375 17.96875 50.515625 8.265625 \r\nQ 44.046875 -1.421875 31.78125 -1.421875 \r\nQ 19.53125 -1.421875 13.0625 8.265625 \r\nQ 6.59375 17.96875 6.59375 36.375 \r\nQ 6.59375 54.828125 13.0625 64.515625 \r\nQ 19.53125 74.21875 31.78125 74.21875 \r\nz\r\n\" id=\"DejaVuSans-48\"/>\r\n     </defs>\r\n     <use xlink:href=\"#DejaVuSans-48\"/>\r\n    </g>\r\n   </g>\r\n  </g>\r\n  <g id=\"axes_2\">\r\n   <g clip-path=\"url(#p66fa9acc9a)\">\r\n    <image height=\"116\" id=\"image99a702a0f1\" transform=\"scale(1 -1)translate(0 -116)\" width=\"116\" x=\"145.737931\" xlink:href=\"data:image/png;base64,\r\niVBORw0KGgoAAAANSUhEUgAAAHQAAAB0CAYAAABUmhYnAAADbUlEQVR4nO2dvUorURRGT+RCCgsRBA0REbGwsLAWm6CFhV0C6cS/wocISGJrZ5HCQrExFhbWgoR0vkEsRFNqZcBCC+Ot9xk11zsTM/Nlre4bPMOGlc2eiWcyKefchwMZhvpdAEQLQsVAqBgIFQOhYiBUDISKgVAxECoGQsVAqBh/+l2Ac85NTEyYfH5+bvLS0lJgzf39vcmzs7PRF5ZA6FAxECoGQsVAqBixuCiam5szeXFxsU+VJB86VAyEioFQMRAqBkLFQKgYCBUjFvehz8/PJj8+PpqcyWQCa7LZrMkHBwcml0olk19fX0NUmBzoUDEQKgZCxUi5GD6sdHx8bPLGxkbgbzqdzrfnmJmZMbnVaoWuKwnQoWIgVAyEihHLGerz/v4eONZthq6vr5t8dnYWaU1xhQ4VA6FiIFSMRMzQp6enwLHR0dFv19zc3Ji8urpq8svLS/jCYggdKgZCxUCoGImYoQsLC4FjFxcXJk9NTX17jsvLS5MLhULouuIIHSoGQsVAqBgIFSMRF0WfUa1WTd7Z2fnR+vn5eZNvb29D1xQH6FAxECoGQsVI7Aydnp42+e7u7kfrT09PTd7c3AxbUiygQ8VAqBgIFSMWDyv9Dw8PDybn83mTT05OTB4eHjbZ34g9Pj5usv/AVFKgQ8VAqBgIFSOx96Hd2N3dNfnw8NDkoSH7Wb66ujK5WCwGztlutyOqrnfQoWIgVAyEiiE7Q/3vev1NZf7GM//hp/39/cA5K5VKJLX1EjpUDISKgVAxZGeoz9jYmMn+d7X+DPV/DMu54L3p9fV1NMVFCB0qBkLFQKgYAzNDfY6Ojkze2trquqZer5u8vLwcZUmRQIeKgVAxECoGQsUY2Isi/xWWtVrNZH/T2Gdsb2+b7G/e7gd0qBgIFQOhYgzsDPVZWVkx2Z+pzjk3MjJicrPZNHltbc1k/x8Av/FmCjpUDISKgVAxmKFfsLe3Fzjmv63Jx9+8ncvlTG40GuEL6wIdKgZCxUCoGIl94LfXfPYmpre3N5PT6fRvlfPP0KFiIFQMhIrBDP0C/0c3nHNucnLS5HK5bLJ/H5pKpSKvqxt0qBgIFQOhYvBdrhh0qBgIFQOhYiBUDISKgVAxECoGQsVAqBgIFQOhYiBUDISKgVAxECoGQsVAqBgIFQOhYiBUjL/+AJ6H2KgGSAAAAABJRU5ErkJggg==\" y=\"-21.766401\"/>\r\n   </g>\r\n   <g id=\"text_2\">\r\n    <!-- 1 -->\r\n    <g transform=\"translate(199.644569 16.318125)scale(0.12 -0.12)\">\r\n     <defs>\r\n      <path d=\"M 12.40625 8.296875 \r\nL 28.515625 8.296875 \r\nL 28.515625 63.921875 \r\nL 10.984375 60.40625 \r\nL 10.984375 69.390625 \r\nL 28.421875 72.90625 \r\nL 38.28125 72.90625 \r\nL 38.28125 8.296875 \r\nL 54.390625 8.296875 \r\nL 54.390625 0 \r\nL 12.40625 0 \r\nz\r\n\" id=\"DejaVuSans-49\"/>\r\n     </defs>\r\n     <use xlink:href=\"#DejaVuSans-49\"/>\r\n    </g>\r\n   </g>\r\n  </g>\r\n  <g id=\"axes_3\">\r\n   <g clip-path=\"url(#p26530a83c4)\">\r\n    <image height=\"116\" id=\"imagea50ae4922b\" transform=\"scale(1 -1)translate(0 -116)\" width=\"116\" x=\"284.275862\" xlink:href=\"data:image/png;base64,\r\niVBORw0KGgoAAAANSUhEUgAAAHQAAAB0CAYAAABUmhYnAAAEqElEQVR4nO2dTSilfRjGj/GSfC0UxYpYEBY08rFBKRrlYyVRk42yEcVISSgpRUnZCEsLYVYSooRZzMJWoTQW8lFIiHy8m3dz3Y/OGc6cOedc7/Xb/Z6ej3+uubvP8zz/5z8hLpfr1SVo+OTvAYg/iwIlQ4GSoUDJUKBkKFAyFCgZCpQMBUqGAiVDgZKhQMlQoGQoUDIUKBkKlAwFSoYCJUOBkqFAyfjHFyeNiYkBr6mpAc/NzQU/OzsDn56eBr+8vHRc4/Hx0YsR8qIKJUOBkqFAyQhx+WCi9e7uLnh2drZX51taWnJs29zcBP/+/Tv40dER+NPTk1djCBZUoWQoUDIUKBk+6aEnJyfg8fHx4A8PD+B7e3vgUVFR4Glpae8eQ19fH/jQ0BD48/Pzu88ZDKhCyVCgZChQMnzSQ1taWsDHx8fB7+7uwJubm8FXVlbA8/PzHddoamoC//LlC3hERAT4wMAA+MzMDPjx8bHjGt5SX18P3tDQ4Hb/9vZ2x7b9/f13XVMVSoYCJUOBkuGTHhoaGgo+ODgI3tHRAX57ewve3d0NPjs767iGfUeal5cHbvv258+fwQ8ODsBt39/Y2HBcMzY2FryoqAjc9siqqipwe39teauPp6SkuD3GogolQ4GSoUDJ8EkPtYSFhYHbe8LOzk63xy8vLzu2NTY2gl9dXYHb58f2naqd12TnKA0PDzuumZWVBV5dXf32gP9jbW3N7Tnfmitlse+WPaEKJUOBkqFAyVCgZPyVH0WW8PBw8IqKCvCFhQWP5+jv7wdfX18H397eBo+Li3O7v/3B8xHsgwU7cc2+2PcFqlAyFCgZCpQMv/RQi33wkJOTAz4/P+84JjExEfz+/h78+voafGdnB9z27cjISI/jPD8/Bx8dHQUfGxsD98cHVapQMhQoGQqUjIDooZ54q79lZmaC9/b2gttJY5ZPn/Df8svLi8dx2AnkxcXF4IeHhx7P4WtUoWQoUDIUKBlB0UM/QmtrK7idoBUSEgL++op/htraWsc57Utxe29bWloK7o8PolShZChQMhQoGbQ91FumpqYc275+/er2mJKSEvCtra0/OaTfQhVKhgIlQ4GS4ZPFG70lKSkJ3H4Q7HI5Pwq2Hx/ZBSHfy48fPxzbPPXQQEAVSoYCJUOBkhGQPXRychK8vLzcsU9PTw+4Xazx58+f4F1dXeC/fv1yO4bT01NPwwxIVKFkKFAyFCgZCpSMgPxRNDc3B/7WjyJLcnKyW7cvp8vKysDtCiR2hdBgQRVKhgIlQ4GSEZA9dHFxEbygoMCxT11dHbj935wsqamp4Kurq+C/06eDAVUoGQqUDAVKRtBOEktPTwdva2sDtyuN2RWu7URrex96c3PjuGZGRgb4xcUFuJ0k5o97WVUoGQqUDAVKRtD2UE/YlaC/ffsGXlhYCP6RhacmJibA7QdS/kAVSoYCJUOBkkHbQz1hn/1GR0eDV1ZWOo5JSEgAHxkZAf8bizN6QhVKhgIlQ4GS8b/toayoQslQoGQoUDIUKBkKlAwFSoYCJUOBkqFAyVCgZChQMhQoGQqUDAVKhgIlQ4GSoUDJUKBkKFAyFCgZ/wKMXBWw5BFtDQAAAABJRU5ErkJggg==\" y=\"-21.766401\"/>\r\n   </g>\r\n   <g id=\"text_3\">\r\n    <!-- 2 -->\r\n    <g transform=\"translate(338.1825 16.318125)scale(0.12 -0.12)\">\r\n     <defs>\r\n      <path d=\"M 19.1875 8.296875 \r\nL 53.609375 8.296875 \r\nL 53.609375 0 \r\nL 7.328125 0 \r\nL 7.328125 8.296875 \r\nQ 12.9375 14.109375 22.625 23.890625 \r\nQ 32.328125 33.6875 34.8125 36.53125 \r\nQ 39.546875 41.84375 41.421875 45.53125 \r\nQ 43.3125 49.21875 43.3125 52.78125 \r\nQ 43.3125 58.59375 39.234375 62.25 \r\nQ 35.15625 65.921875 28.609375 65.921875 \r\nQ 23.96875 65.921875 18.8125 64.3125 \r\nQ 13.671875 62.703125 7.8125 59.421875 \r\nL 7.8125 69.390625 \r\nQ 13.765625 71.78125 18.9375 73 \r\nQ 24.125 74.21875 28.421875 74.21875 \r\nQ 39.75 74.21875 46.484375 68.546875 \r\nQ 53.21875 62.890625 53.21875 53.421875 \r\nQ 53.21875 48.921875 51.53125 44.890625 \r\nQ 49.859375 40.875 45.40625 35.40625 \r\nQ 44.1875 33.984375 37.640625 27.21875 \r\nQ 31.109375 20.453125 19.1875 8.296875 \r\nz\r\n\" id=\"DejaVuSans-50\"/>\r\n     </defs>\r\n     <use xlink:href=\"#DejaVuSans-50\"/>\r\n    </g>\r\n   </g>\r\n  </g>\r\n  <g id=\"axes_4\">\r\n   <g clip-path=\"url(#p2e387c1eaa)\">\r\n    <image height=\"116\" id=\"image0f58aa0e5e\" transform=\"scale(1 -1)translate(0 -116)\" width=\"116\" x=\"422.813793\" xlink:href=\"data:image/png;base64,\r\niVBORw0KGgoAAAANSUhEUgAAAHQAAAB0CAYAAABUmhYnAAAEM0lEQVR4nO2dPSh2cRjGn0c+ogwMiuQjZWJgUMrHgsFgUwpRshEjRtkpxaAMkizKQ5QMBtnVMxlMDEgU8hne+bqP13nPc855HNd7/bZL5/z/d/3c/c9zPuOxWOwzJmjI+OkCRLBIKBkSSoaEkiGhZEgoGRJKhoSSIaFkSCgZEkpGZjomycnJgTw4OAh5ZmYGckFBAeTNzU3HmPv7+5ATiQTki4sLj1VyoA4lQ0LJkFAyJJSMeCyEC9x1dXWQR0ZGIA8MDAQ9Zez09BTy4+Mj5MPDQ8hLS0uQk8lk4DX9BOpQMiSUDAklI5Q19Pj4GHJNTU3QU3gmHo9Dvry8hLy9vQ15bGzMMcbz83PwhQWMOpQMCSVDQslIy8l5NxYXFyHf39/7HrO9vR1yfX095KKiIshDQ0OQq6qqHGPaOjc2NvyUGArqUDIklAwJJSOU36HNzc2Qp6amINv1rbKyEvLZ2ZnvGgoLCyF3dnZCnp+fh5yfn+865tPTE+Suri7IBwcHXkoMBXUoGRJKhoSSEcrvUHvt0a41HR0dkK+vrwOv4ebmBvLq6irk7OxsyHNzc5Dz8vIcY+bm5n6bo4A6lAwJJUNCyUjLudy3tzfIOzs76Zj2W5aXlyE/PDxAXltbS2c5gaEOJUNCyZBQMiJxPTQK7O3t/XQJgaAOJUNCyZBQMiSUjEgeFJWXl0Pu6+tzbGMPYvzeBG1vEvutqEPJkFAyJJSMSKyhtbW1kLe2tiCXlZU59pmenvY0R0YG/u9+fHx42v+3oA4lQ0LJkFAyIrGGWj4/P7/NqWDXzFTGtBfmd3d3fdUUBupQMiSUDAklI5SHlfxSUVEBub+/37FNW1ubpzGbmpogp7KG3t3dQZ6YmIBs19Tz83PPc/hFHUqGhJIhoWREcg0Ng97eXsiTk5OQ7UsysrKyPM9hX7hlH3y2DwyHgTqUDAklQ0LJ+G/WUDd6enogDw8PO7ZpbW31NKZ9cYf9HRsG6lAyJJQMCSUjktdDf4L19XXI7+/vjm0aGhogu700w973ND4+nlpxHlCHkiGhZEgoGRJKRiQPijIzsazi4mLXfeybVvx+bvKrJ7pvb28hux0UlZaWQraf3Xx5eUmxur+jDiVDQsmQUDIieXJ+dHQU8uzsrOs+V1dXkO2bwuyXldxuEmtsbHT8zevJebf9j46OfI33FepQMiSUDAklI5K/Q+1XI/4F+6UkexO01zX0t6IOJUNCyZBQMiK5htqboE9OThzbdHd3Q7YvxSgpKQm+MI+srKxATiaToc+pDiVDQsmQUDIieS73X6iuroZsHy5qaWmBvLCwADmMF08lEgnI9ubt19fXwOe0qEPJkFAyJJSMX7uGiq9Rh5IhoWRIKBkSSoaEkiGhZEgoGRJKhoSSIaFkSCgZEkqGhJIhoWRIKBkSSoaEkiGhZEgoGRJKxh/S2OZuUcNJpAAAAABJRU5ErkJggg==\" y=\"-21.766401\"/>\r\n   </g>\r\n   <g id=\"text_4\">\r\n    <!-- 3 -->\r\n    <g transform=\"translate(476.720431 16.318125)scale(0.12 -0.12)\">\r\n     <defs>\r\n      <path d=\"M 40.578125 39.3125 \r\nQ 47.65625 37.796875 51.625 33 \r\nQ 55.609375 28.21875 55.609375 21.1875 \r\nQ 55.609375 10.40625 48.1875 4.484375 \r\nQ 40.765625 -1.421875 27.09375 -1.421875 \r\nQ 22.515625 -1.421875 17.65625 -0.515625 \r\nQ 12.796875 0.390625 7.625 2.203125 \r\nL 7.625 11.71875 \r\nQ 11.71875 9.328125 16.59375 8.109375 \r\nQ 21.484375 6.890625 26.8125 6.890625 \r\nQ 36.078125 6.890625 40.9375 10.546875 \r\nQ 45.796875 14.203125 45.796875 21.1875 \r\nQ 45.796875 27.640625 41.28125 31.265625 \r\nQ 36.765625 34.90625 28.71875 34.90625 \r\nL 20.21875 34.90625 \r\nL 20.21875 43.015625 \r\nL 29.109375 43.015625 \r\nQ 36.375 43.015625 40.234375 45.921875 \r\nQ 44.09375 48.828125 44.09375 54.296875 \r\nQ 44.09375 59.90625 40.109375 62.90625 \r\nQ 36.140625 65.921875 28.71875 65.921875 \r\nQ 24.65625 65.921875 20.015625 65.03125 \r\nQ 15.375 64.15625 9.8125 62.3125 \r\nL 9.8125 71.09375 \r\nQ 15.4375 72.65625 20.34375 73.4375 \r\nQ 25.25 74.21875 29.59375 74.21875 \r\nQ 40.828125 74.21875 47.359375 69.109375 \r\nQ 53.90625 64.015625 53.90625 55.328125 \r\nQ 53.90625 49.265625 50.4375 45.09375 \r\nQ 46.96875 40.921875 40.578125 39.3125 \r\nz\r\n\" id=\"DejaVuSans-51\"/>\r\n     </defs>\r\n     <use xlink:href=\"#DejaVuSans-51\"/>\r\n    </g>\r\n   </g>\r\n  </g>\r\n  <g id=\"axes_5\">\r\n   <g clip-path=\"url(#p758b675742)\">\r\n    <image height=\"116\" id=\"image30c705cd96\" transform=\"scale(1 -1)translate(0 -116)\" width=\"116\" x=\"561.351724\" xlink:href=\"data:image/png;base64,\r\niVBORw0KGgoAAAANSUhEUgAAAHQAAAB0CAYAAABUmhYnAAADr0lEQVR4nO2dvyt1cRzHv1dPfgyUycCIlGKQgRXFZmeQhEwGZfJvSN0ysDEZ2BQWRAklUhRKFmFgEc/6fL5fP57jnnPPed7P67W9v/fecz718ulz7/kl55x7dyBDSdoFQLwgVAyEioFQMRAqBkLFQKgYCBUDoWIgVAyEivEr7QKyytDQULA2Pz9vcj6fN3lsbCzJkv4KOlQMhIqBUDEQKgZfij6hr68vWMvlcilUEg06VAyEioFQMZihEXh/z/71dHSoGAgVA6FiMEMLYHt7O+0SAuhQMRAqBkLFYIZGwD+W+/b2llIln0OHioFQMRAqBjM0Av6x3PPz85Qq+Rw6VAyEioFQMRAqBkLFQKgYCBWD36EF0N/fb3IWzo/SoWIgVAyEioFQMXIuhqdxTk9Pm9zZ2VnoJg0rKyvB2snJick7Ozux7nN0dDRYm5ubM/ni4sLk+vr6WGv4CXSoGAgVA6FiRJ6hs7OzwZr/9I+HhweTr66uIhXV0tJi8kc32r6+vpr8/Pxssj9jd3d3Td7f3zd5c3PT5Lu7u2CfNzc3JldXV5tcWloafKbY0KFiIFQMhIoR+eB8RUVFsObPuPHxcZOXl5cj7aO1tdXkkpLw766rq8vkuro6k/15Njw8bPLIyIjJLy8vJvsz1znnysvLv6yrqanJ5NPT02AbSUOHioFQMRAqRiInuO/v7wv6/OHh4bfvOTg4iLTNiYkJk6uqqkzu7e01eXBwMNhGWVmZyf4MbWtrM5kZCgWDUDEQKkYiM7S9vd3k9fX1JHZTEE9PTyYvLS19mZ1zbnFx0eSBgQGTZ2ZmTF5dXTXZP8adBHSoGAgVA6FiRJ6hZ2dn376nubn5R8VknampKZO7u7tNbmxsNLmystJkZihEBqFiIFSMyDN0bW0tWPN/f6niX2d0eXlpck1Njcm1tbUmX19fJ1PYH9ChYiBUDISKgVAxIn8pOjo6CtY+uij5f+Dx8fHL13t6ekyO+4aqj6BDxUCoGAgVI5YT3Fl8snMx8C/W9g8cNDQ0FLMc5xwdKgdCxUCoGLHM0IWFBZPTmB1pcHt7a3I+nze5o6PD5GLczESHioFQMRAqRiwzdGNjw+Tj4+M4Npt5/N/f/glv/wR3Mf5DMB0qBkLFQKgYsczQra2tODbzz7O3t2fy5ORk0WugQ8VAqBgIFSOWByBDdqBDxUCoGAgVA6FiIFQMhIqBUDEQKgZCxUCoGAgVA6FiIFQMhIqBUDEQKgZCxUCoGAgVA6Fi/AZVX8BfFEEe6wAAAABJRU5ErkJggg==\" y=\"-21.766401\"/>\r\n   </g>\r\n   <g id=\"text_5\">\r\n    <!-- 4 -->\r\n    <g transform=\"translate(615.258362 16.318125)scale(0.12 -0.12)\">\r\n     <defs>\r\n      <path d=\"M 37.796875 64.3125 \r\nL 12.890625 25.390625 \r\nL 37.796875 25.390625 \r\nz\r\nM 35.203125 72.90625 \r\nL 47.609375 72.90625 \r\nL 47.609375 25.390625 \r\nL 58.015625 25.390625 \r\nL 58.015625 17.1875 \r\nL 47.609375 17.1875 \r\nL 47.609375 0 \r\nL 37.796875 0 \r\nL 37.796875 17.1875 \r\nL 4.890625 17.1875 \r\nL 4.890625 26.703125 \r\nz\r\n\" id=\"DejaVuSans-52\"/>\r\n     </defs>\r\n     <use xlink:href=\"#DejaVuSans-52\"/>\r\n    </g>\r\n   </g>\r\n  </g>\r\n  <g id=\"axes_6\">\r\n   <g clip-path=\"url(#pd99463d1e7)\">\r\n    <image height=\"116\" id=\"imagecdcb4ff92a\" transform=\"scale(1 -1)translate(0 -116)\" width=\"116\" x=\"7.2\" xlink:href=\"data:image/png;base64,\r\niVBORw0KGgoAAAANSUhEUgAAAHQAAAB0CAYAAABUmhYnAAAETUlEQVR4nO2dyyttUQCH971k4B0DSiEGlEh5lURSlCjCgDI18RqZKGVCCgNkIEr5DzAi5TFQIq+JlJHEkJJEHnd6f2vdzr7nns3Z53d/3+w7195rd79Wi33244fjOJ+OoOFnuA9AeIuCkqGgZCgoGQpKhoKSoaBkKCgZCkqGgpKhoGREe7GTiYkJ8KGhoaC2v7i4AF9fXwd/f3+3tpmamgJ/eHgIakxWNEPJUFAyFJQMBSXjh+PBF9wVFRXg5i9F5eXl4BkZGaEO6Tw/P4PPzMyAj4+Pgz89PYU8ZiSgGUqGgpKhoGR4soa6kZKSAr6wsABeXFwMnpOTE/KY+/v74NPT0+AbGxvg5pocqWiGkqGgZCgoGd+yhrqRlpYGXlBQAD43N2dtk5+fH9KYBwcH4JOTk+Crq6vWNh8fHyGN+R1ohpKhoGQoKBm+WEPdSE9Ptz7r6uoC7+3tBc/Ozg5pzKOjI+uzsbEx8LW1tZDG+Ao0Q8lQUDIUlIyIWEP/hry8PPD+/n7w1tZW8D+ty26YF6ttbW2BNzY2Br1Pr9EMJUNByVBQMmjWUDeKiorA29vbwcvKysDr6+td93l+fg5eUlICHo5zv5qhZCgoGQpKxn+zhgbLy8uL9Vl0NN7b9fb2Bt7Q0AC+s7Pj+XG5oRlKhoKSoaBkKCgZntzBHYkkJyeDNzc3g0dFRbnuY29vDzwcvwSZaIaSoaBkKCgZ/80aWlhYCG7evFRXV+e6D/MmK/OiMT+gGUqGgpKhoGTQrqHmRWHLy8vgCQkJAbcfHh62PltZWQG/u7v7x6P7OjRDyVBQMhSUDJovuHNzc8GPj4/Bzad1bm9vg5s3J83Pz1tjfH76/79KM5QMBSVDQcmI2L9D4+LiwBcXF8Hj4+PBOzo6wDc3N7/mwMKMZigZCkqGgpIRsWvo6OgoeE1NDfju7i64eXMuK5qhZCgoGQpKhi/X0MTERPDHx0frZ5KSkgLuY2lpCTwSHrzoBZqhZCgoGQpKhoKS4YsvuFtaWsCbmprAT05OrG1mZ2cD7vP09BS8uroa3HzTkvkU7cHBQWufPT09Acf0A5qhZCgoGQpKRljWUPNNS+YbGrx4s5KJOYZ50VhtbS346+urtQ+3kxl+QDOUDAUlQ0HJCMvJ+aysLPDU1NQvH9N8C7Eb5lPDHMdxuru7wd3eGnx7ewt+f38Pfnl5GdQx/Q2aoWQoKBkKSoYvzuVmZmaCx8TEgFdWVlrbVFVVgZsPkmpra/Pm4H7j5uYG/PDwENy8ydhcY8/OzsBHRkbAvXhwlWYoGQpKhoKS4YuLxK6vrwP++9XVlfWZ+QAL82GLwZ537evrA4+NjbV+xnx708DAALh5/rezsxO8tLQU3Lw4XGuosFBQMhSUDF/8HSq8QzOUDAUlQ0HJUFAyFJQMBSVDQclQUDIUlAwFJUNByVBQMhSUDAUlQ0HJUFAyFJQMBSVDQclQUDJ+Aezq6R3GmKfoAAAAAElFTkSuQmCC\" y=\"-170.020946\"/>\r\n   </g>\r\n   <g id=\"text_6\">\r\n    <!-- 5 -->\r\n    <g transform=\"translate(61.106638 164.57267)scale(0.12 -0.12)\">\r\n     <defs>\r\n      <path d=\"M 10.796875 72.90625 \r\nL 49.515625 72.90625 \r\nL 49.515625 64.59375 \r\nL 19.828125 64.59375 \r\nL 19.828125 46.734375 \r\nQ 21.96875 47.46875 24.109375 47.828125 \r\nQ 26.265625 48.1875 28.421875 48.1875 \r\nQ 40.625 48.1875 47.75 41.5 \r\nQ 54.890625 34.8125 54.890625 23.390625 \r\nQ 54.890625 11.625 47.5625 5.09375 \r\nQ 40.234375 -1.421875 26.90625 -1.421875 \r\nQ 22.3125 -1.421875 17.546875 -0.640625 \r\nQ 12.796875 0.140625 7.71875 1.703125 \r\nL 7.71875 11.625 \r\nQ 12.109375 9.234375 16.796875 8.0625 \r\nQ 21.484375 6.890625 26.703125 6.890625 \r\nQ 35.15625 6.890625 40.078125 11.328125 \r\nQ 45.015625 15.765625 45.015625 23.390625 \r\nQ 45.015625 31 40.078125 35.4375 \r\nQ 35.15625 39.890625 26.703125 39.890625 \r\nQ 22.75 39.890625 18.8125 39.015625 \r\nQ 14.890625 38.140625 10.796875 36.28125 \r\nz\r\n\" id=\"DejaVuSans-53\"/>\r\n     </defs>\r\n     <use xlink:href=\"#DejaVuSans-53\"/>\r\n    </g>\r\n   </g>\r\n  </g>\r\n  <g id=\"axes_7\">\r\n   <g clip-path=\"url(#p118fe5242e)\">\r\n    <image height=\"116\" id=\"imaged507c0a616\" transform=\"scale(1 -1)translate(0 -116)\" width=\"116\" x=\"145.737931\" xlink:href=\"data:image/png;base64,\r\niVBORw0KGgoAAAANSUhEUgAAAHQAAAB0CAYAAABUmhYnAAAErElEQVR4nO2dSyhtURjH10FCKCZSZMSUMkAkYoKSlBhQMjJg4FEyoUgpeWWolEcZKOURSpHkMZE8JhiIkAFFlBl3cEfft8/d2825Z+/zv//f7Hesvfaqv6+1H+us4zPGfBkCQ5jbAyCBhYGCwUDBYKBgMFAwGCgYDBQMBgoGAwWDgYLBQMFgoGAwUDAYKBgMFAwGCgYDBYOBgsFAwWCgYDBQMBgoGAwUDAYKRoTbAzDGmIqKCuHt7e3Ci4qKLMd8fdmvD5+enhZ+dnYm/Pj4WPjOzo7TMEMCVigYDBQMBgqGz7jwZaXs7Gzh29vbwmNiYoT7fD5LH05zqBPv7+/C5+bmhLe0tPyof7dghYLBQMFgoGC4ch8aGRkpXM+ZmoKCAstnmZmZwgcHB4XHxsba9hkXFye8pqZG+NramuUYf595DVYoGAwUDAYKhitzaGVlpe3fl5aWhB8cHFjafHx8CH97exOu59CZmRnhpaWlwqOiooT39vZaznlyciL89fVVuL63dQNWKBgMFAwGCoYn3ofqZ7X+nt06ERYm/zd1H6enp8KbmpqEZ2RkCN/Y2LCc4/b2VnhHR4fwsbGxb431X8IKBYOBgsFAwWCgYLjygrurq0v4wMCAbfuICOdrt729PeE5OTm27UtKSoTrRWJ5eXmWY3Z3d2371BdFnZ2dtu3/BaxQMBgoGAwUDFfm0LKyMuErKyu27fv6+hw/S0pKEj45OSm8vLxcuNMiMf3QwBhj0tPThS8sLAhPTk627TMYC89YoWAwUDAYKBiuzKF6gVZjY6Pw0dFR4Y+Pj5Y+pqamhPf09AjXD9v1C+u6ujrhT09Pwjc3Ny3nHB4eFh4fHy98a2tL+MXFhXB97XBzc2M5x09hhYLBQMFgoGC48oJbL+i6vr62ba/v74wxpqGhQfjs7Kzwy8tL4UNDQ8Kjo6OF64Vreo711+bu7u4PI/6NXkQWDFihYDBQMBgoGK7ch2r0feny8rJwf5tmfH5+Cs/Pzxd+eHhoe069MYf+AnFra6vlmLS0NNs+9UK1lJQU4ff397bHBwJWKBgMFAwGCoYnFlqHh4cLPzo6El5YWGg5Rs95uo3THDoyMmL7dz1HG2NMamqq7TFurCHSsELBYKBgMFAwPDGHvry8CNfrX9va2hz7SEhIEK7vAZ2eu2rGx8f/qr1XYIWCwUDBYKBgMFAwPPFw3on9/X3LZ1lZWcIfHh6E6wVZV1dXAR+XF2GFgsFAwWCgYITEHOqP/v5+4d3d3cLX19eFNzc3Cw/Gy2Y3YIWCwUDBYKBghOwc6rTzl9OCrurqauF6B9BQhRUKBgMFg4GCEbJzqEZvFOW0SZTerbO+vl74/Px8YAYWZFihYDBQMBgoGJ5YJBYInp+fhetfQdIbT2n0orLi4mJLG/0ril6EFQoGAwWDgYIBcx+q0Zs5Li4uCs/NzRWuv/x0fn5u6VNvmqznbS/ACgWDgYLBQMGAnUOdmJiYEF5bWys8MTHRcszq6qrwqqqqgI/rp7BCwWCgYDBQMBgoGP/tRZHmOz83qXdrcVqI5gasUDAYKBgMFAzOoWCwQsFgoGAwUDAYKBgMFAwGCgYDBeMX5f4TdwWB2psAAAAASUVORK5CYII=\" y=\"-170.020946\"/>\r\n   </g>\r\n   <g id=\"text_7\">\r\n    <!-- 6 -->\r\n    <g transform=\"translate(199.644569 164.57267)scale(0.12 -0.12)\">\r\n     <defs>\r\n      <path d=\"M 33.015625 40.375 \r\nQ 26.375 40.375 22.484375 35.828125 \r\nQ 18.609375 31.296875 18.609375 23.390625 \r\nQ 18.609375 15.53125 22.484375 10.953125 \r\nQ 26.375 6.390625 33.015625 6.390625 \r\nQ 39.65625 6.390625 43.53125 10.953125 \r\nQ 47.40625 15.53125 47.40625 23.390625 \r\nQ 47.40625 31.296875 43.53125 35.828125 \r\nQ 39.65625 40.375 33.015625 40.375 \r\nz\r\nM 52.59375 71.296875 \r\nL 52.59375 62.3125 \r\nQ 48.875 64.0625 45.09375 64.984375 \r\nQ 41.3125 65.921875 37.59375 65.921875 \r\nQ 27.828125 65.921875 22.671875 59.328125 \r\nQ 17.53125 52.734375 16.796875 39.40625 \r\nQ 19.671875 43.65625 24.015625 45.921875 \r\nQ 28.375 48.1875 33.59375 48.1875 \r\nQ 44.578125 48.1875 50.953125 41.515625 \r\nQ 57.328125 34.859375 57.328125 23.390625 \r\nQ 57.328125 12.15625 50.6875 5.359375 \r\nQ 44.046875 -1.421875 33.015625 -1.421875 \r\nQ 20.359375 -1.421875 13.671875 8.265625 \r\nQ 6.984375 17.96875 6.984375 36.375 \r\nQ 6.984375 53.65625 15.1875 63.9375 \r\nQ 23.390625 74.21875 37.203125 74.21875 \r\nQ 40.921875 74.21875 44.703125 73.484375 \r\nQ 48.484375 72.75 52.59375 71.296875 \r\nz\r\n\" id=\"DejaVuSans-54\"/>\r\n     </defs>\r\n     <use xlink:href=\"#DejaVuSans-54\"/>\r\n    </g>\r\n   </g>\r\n  </g>\r\n  <g id=\"axes_8\">\r\n   <g clip-path=\"url(#p9a6ce2080e)\">\r\n    <image height=\"116\" id=\"image4ae7db474f\" transform=\"scale(1 -1)translate(0 -116)\" width=\"116\" x=\"284.275862\" xlink:href=\"data:image/png;base64,\r\niVBORw0KGgoAAAANSUhEUgAAAHQAAAB0CAYAAABUmhYnAAAEJElEQVR4nO2dTSg8cRjHZ//h4CUpFyLl4vXk5KYQcSJOXg4uDkqKg7hJOSoSZQ/KgZILN+RISU6oJQqlHBxwc8D//H1mmm3X7O7s1/dz+87uzDx8enr2Zea3EcdxfhxBw79MFyCCRULJkFAycjJdgOM4TltbG+SDgwPIfX19rn329vZSWlO2og4lQ0LJkFAyQjFDOzo6fB9fXFx0bYvFYpBvbm4CrSlbUYeSIaFkSCgZoZihm5ubkOvr6yF3dXW59pmYmIC8tLQE+a/OVHUoGRJKhoSSIaFkhOJF0fX1NeSPj4+4+4yOjkK+urqCrBdFggIJJUNCyYg4IbxIrLa2FvLU1JTrOSMjI5Bvb28h2w8jHh8fA6ou3KhDyZBQMiSUjFDOUEtdXZ1r2+Xlpe8+9/f3kGtqagKtKayoQ8mQUDIklIysmKFFRUWubdFoFHJ/f7/vMSYnJyGvrKxA/v7+TrK6cKEOJUNCyZBQMrJihnqRn58PeWhoCPLq6irkSCQCeWtrC/L4+Djkt7e3X1aYGdShZEgoGRJKRtbOUEteXh5ke0OwvSHq5wf/bHvh9tramusc2fBeVR1KhoSSIaFk0MxQy8LCAuSZmRnI8eahvWHKcbLjWl91KBkSSoaEkiGhZNC+KLJ8fX1Bth8sWMbGxlzb1tfXA60pFahDyZBQMiSUjFDc8JsOenp6IO/s7EDOzc2FvLy87DpGTg7+u+yX6GFAHUqGhJIhoWSk5X2oXZF6dnYW8vv7O+SBgQHILy8vgddkP6yfn5+Pu49d3KOzsxNyKupMFHUoGRJKhoSSkZYZan/lwf4KhOX09BTy3Nyc6znHx8e/qqmkpASyXWTD6z1mYWEh5Hh1/rbGZFCHkiGhZEgoGWmZofYi593dXcj2xiPL09OTa9vw8DDkk5OTJKvzZn9/37Wtu7vbdx+7qrbXglmpRh1KhoSSIaFkZOSaosPDQ8itra0JH+Pz8xPy9PQ05LOzM8jn5+cJHd/rfahddNny8PAAubm5GfLr62tCNSSDOpQMCSVDQsnIyAxtb2+HbBeRqqysDPycDQ0NkO08Ky0thVxeXu46xsbGBuSKigrfcx4dHUH2+oWooFGHkiGhZEgoGRJKRihuViorK4O8vb0Nubq6Ou4xiouLIRcUFEC2K4ldXFxAbmpqinuORHl+foZcVVUV+Dks6lAyJJQMCSUjFDM0CFpaWiA3Njb6Pt7b2wvZzthksCur3N3dQfZaWSVo1KFkSCgZEkoGzQxNFHsBl13N0+vXnAYHB32PGYvFINsvBNKBOpQMCSVDQsn4szOUFXUoGRJKhoSSIaFkSCgZEkqGhJIhoWRIKBkSSoaEkiGhZEgoGRJKhoSSIaFkSCgZEkqGhJIhoWRIKBkSSoaEkiGhZEgoGRJKhoSSIaFk/AeZ+OU53PdH1wAAAABJRU5ErkJggg==\" y=\"-170.020946\"/>\r\n   </g>\r\n   <g id=\"text_8\">\r\n    <!-- 7 -->\r\n    <g transform=\"translate(338.1825 164.57267)scale(0.12 -0.12)\">\r\n     <defs>\r\n      <path d=\"M 8.203125 72.90625 \r\nL 55.078125 72.90625 \r\nL 55.078125 68.703125 \r\nL 28.609375 0 \r\nL 18.3125 0 \r\nL 43.21875 64.59375 \r\nL 8.203125 64.59375 \r\nz\r\n\" id=\"DejaVuSans-55\"/>\r\n     </defs>\r\n     <use xlink:href=\"#DejaVuSans-55\"/>\r\n    </g>\r\n   </g>\r\n  </g>\r\n  <g id=\"axes_9\">\r\n   <g clip-path=\"url(#pacda79d6b2)\">\r\n    <image height=\"116\" id=\"image48b4968dd9\" transform=\"scale(1 -1)translate(0 -116)\" width=\"116\" x=\"422.813793\" xlink:href=\"data:image/png;base64,\r\niVBORw0KGgoAAAANSUhEUgAAAHQAAAB0CAYAAABUmhYnAAAEc0lEQVR4nO2dSyh1bRiG1/5TlBIhMWCmKGUkEpJMkIRighwHcihSyrEMGCgDkhnKQJHkMBBKGZLIiBEZGCADCUm+8f2u/e9tfXatve7vvmb32nu9683V07O96+SzLOvbEjT85/YERGiRUDIklAwJJUNCyZBQMiSUDAklQ0LJkFAyJJSMCDcOGhcXB7m9vR3yyMgI5NPTU9sYW1tbkGdmZkI0O2+jCiVDQsmQUDIklAxXfhQ1NTVBnpycDPj9oqIi27asrCzIsbGxkKempiC/vb05mKF3UYWSIaFkSCgZrvTQjIyMgJ+vr69DTkpKsn2noKAA8vDwMGRzMWJ7e9vJFD2LKpQMCSVDQslwpYc+PDwE/DwxMRFyaWmp7TtVVVWQV1dXIS8uLkLe2NiA3NHREWyankQVSoaEkiGhZLjSQ30+n6P8+flpG2NzcxNyb28v5NHRUchtbW2Qz8/PIc/Pz//vfL2EKpQMCSVDQslwpYfu7+9D7uzshFxYWAi5oqLCNsbBwQHknZ0dyGZPjY+Ph5yQkPCzyXoMVSgZEkqGhJLhs8LgoRkNDQ2Ql5aWIJv/l1qWZQ0NDUGem5uDbK71mmMuLy9Dbmlp+cFMwx9VKBkSSoaEkhEWPTQlJQVyc3Mz5ImJCds+39847bOzM8gXFxcBxzw5OYGcm5v7s8mGOapQMiSUDAklQ0LJCIsfRcFYW1uzbauurv7VmLu7u5ArKyt/NV64oAolQ0LJkFAyXDnB7ZT6+nrbNvPC6pqaGkdj+lvwZ0AVSoaEkiGhZHiih359fdm2HR8fQ3b6f2l5eTlk84bg/v5+2z7X19eOjuEGqlAyJJQMCSXDEz3UH2lpaSEdr6ysDPL9/b3tO+aJ9ru7u5DOIRSoQsmQUDIklAxP9NDIyEjbtpiYmID7mD2wq6sLsvkE7NTUVMitra22MS8vLyHPzs4GnIMbqELJkFAyJJQMT/TQ7Oxs27a8vLyA+xweHkI2bzLOz8+HvLCwANlc67UsyxobG4McEYF/vnB4M4UqlAwJJUNCyfBED62trbVty8zMhHx7ewt5cHAQ8uvra8Dc19cH+f39Peg8zLXdj48PyG48zEoVSoaEkiGhZEgoGZ64WWl8fNy2bWBgAHJUVBRk8ykn5lO0p6enA37ubzFjb28Psvk0ssfHR8jmSXh/P7RCjSqUDAklQ0LJ8EQP9UdPTw9kpwvj5iKAeVNxSUmJbZ/k5OSAY5o3QDU2NkJeWVlxMsW/QhVKhoSSIaFkeLaHmm/47e7uhhzsQuz09HTI5kVi/jDfGmyeIDCfAGqeZK+rq4P89PQU9JhOUYWSIaFkSCgZnu2hv8V8Aqj5RkR/PD8/Qy4uLoZsvhHx6uoKck5ODuSXl5egx3SKKpQMCSVDQsn4Z3toKIiOjoZ8dHQE2ezT5sXdNzc3IZ+TKpQMCSVDQslQDyVDFUqGhJIhoWRIKBkSSoaEkiGhZEgoGRJKhoSSIaFkSCgZEkqGhJIhoWRIKBkSSoaEkiGhZEgoGX8AskLxz+AoY9MAAAAASUVORK5CYII=\" y=\"-170.020946\"/>\r\n   </g>\r\n   <g id=\"text_9\">\r\n    <!-- 8 -->\r\n    <g transform=\"translate(476.720431 164.57267)scale(0.12 -0.12)\">\r\n     <defs>\r\n      <path d=\"M 31.78125 34.625 \r\nQ 24.75 34.625 20.71875 30.859375 \r\nQ 16.703125 27.09375 16.703125 20.515625 \r\nQ 16.703125 13.921875 20.71875 10.15625 \r\nQ 24.75 6.390625 31.78125 6.390625 \r\nQ 38.8125 6.390625 42.859375 10.171875 \r\nQ 46.921875 13.96875 46.921875 20.515625 \r\nQ 46.921875 27.09375 42.890625 30.859375 \r\nQ 38.875 34.625 31.78125 34.625 \r\nz\r\nM 21.921875 38.8125 \r\nQ 15.578125 40.375 12.03125 44.71875 \r\nQ 8.5 49.078125 8.5 55.328125 \r\nQ 8.5 64.0625 14.71875 69.140625 \r\nQ 20.953125 74.21875 31.78125 74.21875 \r\nQ 42.671875 74.21875 48.875 69.140625 \r\nQ 55.078125 64.0625 55.078125 55.328125 \r\nQ 55.078125 49.078125 51.53125 44.71875 \r\nQ 48 40.375 41.703125 38.8125 \r\nQ 48.828125 37.15625 52.796875 32.3125 \r\nQ 56.78125 27.484375 56.78125 20.515625 \r\nQ 56.78125 9.90625 50.3125 4.234375 \r\nQ 43.84375 -1.421875 31.78125 -1.421875 \r\nQ 19.734375 -1.421875 13.25 4.234375 \r\nQ 6.78125 9.90625 6.78125 20.515625 \r\nQ 6.78125 27.484375 10.78125 32.3125 \r\nQ 14.796875 37.15625 21.921875 38.8125 \r\nz\r\nM 18.3125 54.390625 \r\nQ 18.3125 48.734375 21.84375 45.5625 \r\nQ 25.390625 42.390625 31.78125 42.390625 \r\nQ 38.140625 42.390625 41.71875 45.5625 \r\nQ 45.3125 48.734375 45.3125 54.390625 \r\nQ 45.3125 60.0625 41.71875 63.234375 \r\nQ 38.140625 66.40625 31.78125 66.40625 \r\nQ 25.390625 66.40625 21.84375 63.234375 \r\nQ 18.3125 60.0625 18.3125 54.390625 \r\nz\r\n\" id=\"DejaVuSans-56\"/>\r\n     </defs>\r\n     <use xlink:href=\"#DejaVuSans-56\"/>\r\n    </g>\r\n   </g>\r\n  </g>\r\n  <g id=\"axes_10\">\r\n   <g clip-path=\"url(#p05935322f4)\">\r\n    <image height=\"116\" id=\"image8ba1fdcf72\" transform=\"scale(1 -1)translate(0 -116)\" width=\"116\" x=\"561.351724\" xlink:href=\"data:image/png;base64,\r\niVBORw0KGgoAAAANSUhEUgAAAHQAAAB0CAYAAABUmhYnAAAED0lEQVR4nO2dzytsYRzGz0hIksTCktj4tUE2zEpmZRILFIWdvZISCjubacpqFkpSJkpjIxtkwT+AxMKCjZ0SKdzFXT3f485c986ZczzzfHbPmHnPWx/fvnPO+54zIcdxPh1BQ4HfExDZRULJkFAyCv2egF+Ul5dDXllZgTw1NeX6TGtrK+SLi4vsT+w/UYWSIaFkSCgZedNDbc/c3t6G3NPTA3l3d9c1xt3dXfYnlmVUoWRIKBkSSkbe9NCBgQHItmceHx9DXlxcdI3x/Pyc9XllG1UoGRJKhoSSIaFkhJw8WeC+vr6GXFdXB7mrqwvy2dmZ53PyAlUoGRJKhoSSQXthoaWlBXJDQwPkj48PyLe3t57PKReoQsmQUDIklAzaHtrd3Q3Z9szPT87Tb1UoGRJKhoSSQdtDWc4rv4sqlAwJJUNCycib9dD393fI9jy0pqYG8uPjo+dz8gJVKBkSSoaEkkF7HhqJRPyegi+oQsmQUDIklAzaHvry8gK5oAD/d+366PDwMOR4PO7NxDxGFUqGhJIhoWRIKBm+fCnq7OyEvL+/D7myshLyzc2Na4y9vT3I6+vrkO3NSfYObXtzkr156aeiCiVDQsmQUDJyssBdUVEB+fLyEnJ1dTXkUCgE+V82RT88PKQdM9OCtv37T0EVSoaEkiGhZOTkPLSoqAiy7ZmW2tpayK+vr673TExMQI5Go5Cbm5shl5WVQbZ9uaqqCnJfX5/rmKlU6g8zDg6qUDIklAwJJcOX89CrqyvItn/Za7v9/f3fPmZ9fT3kzc1NyG1tbWk/v7Oz43ptcnISchCfzqkKJUNCyZBQMny5WWl+fh7ywsIC5Le3N8gHBweuMUZGRiDbTWGWkpISyL29vZC3trbSvt9xHGd5eRmynXcQUIWSIaFkSCgZgbjh1/am2dlZyF+th66trUGem5uD/PT09K052DVa+7DHrxgcHIRs9zn5gSqUDAklQ0LJCEQPtYyPj0NOJBIZP3N4eAh5aGgIcqaeOjo6Ctnu8/2K+/t7yO3t7ZD9ePCGKpQMCSVDQsmQUDIC+aWosBD3rnV0dLjeYy/Yl5aWQj45OYG8tLQE+fT0FHJxcTFk+5POjuO+oG83b8/MzEBeXV11jeE1qlAyJJQMCSUjkD30b7AXDmKxGGS78cz2u6OjI8h283djY2PGOdgxk8kkZPtklVygCiVDQsmQUDJ+bA+12AdxjI2NQQ6Hw5CbmprSjjc9Pe16zd5EbH+9aWNjA/L5+XnaY3iBKpQMCSVDQsmg6aHiN6pQMiSUDAklQ0LJkFAyJJQMCSVDQsmQUDIklAwJJUNCyZBQMiSUDAklQ0LJkFAyJJQMCSVDQsmQUDIklAwJJUNCyZBQMiSUDAklQ0LJ+AXSUNwkfWMz8QAAAABJRU5ErkJggg==\" y=\"-170.020946\"/>\r\n   </g>\r\n   <g id=\"text_10\">\r\n    <!-- 9 -->\r\n    <g transform=\"translate(615.258362 164.57267)scale(0.12 -0.12)\">\r\n     <defs>\r\n      <path d=\"M 10.984375 1.515625 \r\nL 10.984375 10.5 \r\nQ 14.703125 8.734375 18.5 7.8125 \r\nQ 22.3125 6.890625 25.984375 6.890625 \r\nQ 35.75 6.890625 40.890625 13.453125 \r\nQ 46.046875 20.015625 46.78125 33.40625 \r\nQ 43.953125 29.203125 39.59375 26.953125 \r\nQ 35.25 24.703125 29.984375 24.703125 \r\nQ 19.046875 24.703125 12.671875 31.3125 \r\nQ 6.296875 37.9375 6.296875 49.421875 \r\nQ 6.296875 60.640625 12.9375 67.421875 \r\nQ 19.578125 74.21875 30.609375 74.21875 \r\nQ 43.265625 74.21875 49.921875 64.515625 \r\nQ 56.59375 54.828125 56.59375 36.375 \r\nQ 56.59375 19.140625 48.40625 8.859375 \r\nQ 40.234375 -1.421875 26.421875 -1.421875 \r\nQ 22.703125 -1.421875 18.890625 -0.6875 \r\nQ 15.09375 0.046875 10.984375 1.515625 \r\nz\r\nM 30.609375 32.421875 \r\nQ 37.25 32.421875 41.125 36.953125 \r\nQ 45.015625 41.5 45.015625 49.421875 \r\nQ 45.015625 57.28125 41.125 61.84375 \r\nQ 37.25 66.40625 30.609375 66.40625 \r\nQ 23.96875 66.40625 20.09375 61.84375 \r\nQ 16.21875 57.28125 16.21875 49.421875 \r\nQ 16.21875 41.5 20.09375 36.953125 \r\nQ 23.96875 32.421875 30.609375 32.421875 \r\nz\r\n\" id=\"DejaVuSans-57\"/>\r\n     </defs>\r\n     <use xlink:href=\"#DejaVuSans-57\"/>\r\n    </g>\r\n   </g>\r\n  </g>\r\n </g>\r\n <defs>\r\n  <clipPath id=\"p811150f608\">\r\n   <rect height=\"115.448276\" width=\"115.448276\" x=\"7.2\" y=\"22.318125\"/>\r\n  </clipPath>\r\n  <clipPath id=\"p66fa9acc9a\">\r\n   <rect height=\"115.448276\" width=\"115.448276\" x=\"145.737931\" y=\"22.318125\"/>\r\n  </clipPath>\r\n  <clipPath id=\"p26530a83c4\">\r\n   <rect height=\"115.448276\" width=\"115.448276\" x=\"284.275862\" y=\"22.318125\"/>\r\n  </clipPath>\r\n  <clipPath id=\"p2e387c1eaa\">\r\n   <rect height=\"115.448276\" width=\"115.448276\" x=\"422.813793\" y=\"22.318125\"/>\r\n  </clipPath>\r\n  <clipPath id=\"p758b675742\">\r\n   <rect height=\"115.448276\" width=\"115.448276\" x=\"561.351724\" y=\"22.318125\"/>\r\n  </clipPath>\r\n  <clipPath id=\"pd99463d1e7\">\r\n   <rect height=\"115.448276\" width=\"115.448276\" x=\"7.2\" y=\"170.57267\"/>\r\n  </clipPath>\r\n  <clipPath id=\"p118fe5242e\">\r\n   <rect height=\"115.448276\" width=\"115.448276\" x=\"145.737931\" y=\"170.57267\"/>\r\n  </clipPath>\r\n  <clipPath id=\"p9a6ce2080e\">\r\n   <rect height=\"115.448276\" width=\"115.448276\" x=\"284.275862\" y=\"170.57267\"/>\r\n  </clipPath>\r\n  <clipPath id=\"pacda79d6b2\">\r\n   <rect height=\"115.448276\" width=\"115.448276\" x=\"422.813793\" y=\"170.57267\"/>\r\n  </clipPath>\r\n  <clipPath id=\"p05935322f4\">\r\n   <rect height=\"115.448276\" width=\"115.448276\" x=\"561.351724\" y=\"170.57267\"/>\r\n  </clipPath>\r\n </defs>\r\n</svg>\r\n",
      "image/png": "[encoded data removed]"
     },
     "metadata": {
      "needs_background": "light"
     }
    }
   ],
   "source": [
    "digits = np.unique(y_train_org)\n",
    "\n",
    "_, axes = plt.subplots(2, 5, figsize=(12, 5))\n",
    "axes = axes.flatten()\n",
    "\n",
    "for digit, ax in zip(digits, axes):\n",
    "    ax.imshow(\n",
    "        Image.fromarray(x_train_org[y_train_org == digit][0]).convert('RGB')\n",
    "    )\n",
    "\n",
    "    ax.set_title(str(digit))\n",
    "    ax.set_axis_off()\n",
    "\n",
    "plt.show();"
   ],
   "metadata": {
    "collapsed": false,
    "pycharm": {
     "name": "#%%\n"
    }
   }
  },
  {
   "cell_type": "markdown",
   "source": [
    "Изменить формат входных изображений"
   ],
   "metadata": {
    "collapsed": false,
    "pycharm": {
     "name": "#%% md\n"
    }
   }
  },
  {
   "cell_type": "code",
   "execution_count": 6,
   "outputs": [],
   "source": [
    "x_train = x_train_org.reshape(-1, 28*28).astype(np.float32) / 255\n",
    "x_test = x_test_org.reshape(-1, 28*28).astype(np.float32) / 255"
   ],
   "metadata": {
    "collapsed": false,
    "pycharm": {
     "name": "#%%\n"
    }
   }
  },
  {
   "cell_type": "markdown",
   "source": [
    "Преобразовать ответы в унитарный код (one-hot)"
   ],
   "metadata": {
    "collapsed": false,
    "pycharm": {
     "name": "#%% md\n"
    }
   }
  },
  {
   "cell_type": "code",
   "execution_count": 7,
   "outputs": [],
   "source": [
    "y_train = utils.to_categorical(y_train_org, 10)\n",
    "y_test = utils.to_categorical(y_test_org, 10)"
   ],
   "metadata": {
    "collapsed": false,
    "pycharm": {
     "name": "#%%\n"
    }
   }
  },
  {
   "cell_type": "code",
   "execution_count": 8,
   "outputs": [
    {
     "output_type": "stream",
     "name": "stdout",
     "text": [
      "(60000, 10)\n"
     ]
    }
   ],
   "source": [
    "print(y_train.shape)"
   ],
   "metadata": {
    "collapsed": false,
    "pycharm": {
     "name": "#%%\n"
    }
   }
  },
  {
   "cell_type": "markdown",
   "source": [
    "## Создание нейронной сети"
   ],
   "metadata": {
    "collapsed": false,
    "pycharm": {
     "name": "#%% md\n"
    }
   }
  },
  {
   "cell_type": "code",
   "execution_count": 9,
   "outputs": [],
   "source": [
    "model = Sequential()\n",
    "model.add(\n",
    "    Dense(\n",
    "        800,\n",
    "        input_dim=28*28,\n",
    "        activation='relu'\n",
    "    )\n",
    ")\n",
    "model.add(\n",
    "    Dense(\n",
    "        400,\n",
    "        activation='relu'\n",
    "    )\n",
    ")\n",
    "model.add(\n",
    "    Dense(\n",
    "        10,\n",
    "        activation='softmax'\n",
    "    )\n",
    ")"
   ],
   "metadata": {
    "collapsed": false,
    "pycharm": {
     "name": "#%%\n"
    }
   }
  },
  {
   "cell_type": "markdown",
   "source": [
    "Компиляция нейронной сети"
   ],
   "metadata": {
    "collapsed": false,
    "pycharm": {
     "name": "#%% md\n"
    }
   }
  },
  {
   "cell_type": "code",
   "execution_count": 10,
   "outputs": [
    {
     "output_type": "stream",
     "name": "stdout",
     "text": [
      "Model: \"sequential\"\n",
      "_________________________________________________________________\n",
      "Layer (type)                 Output Shape              Param #   \n",
      "=================================================================\n",
      "dense (Dense)                (None, 800)               628000    \n",
      "_________________________________________________________________\n",
      "dense_1 (Dense)              (None, 400)               320400    \n",
      "_________________________________________________________________\n",
      "dense_2 (Dense)              (None, 10)                4010      \n",
      "=================================================================\n",
      "Total params: 952,410\n",
      "Trainable params: 952,410\n",
      "Non-trainable params: 0\n",
      "_________________________________________________________________\n",
      "None\n"
     ]
    }
   ],
   "source": [
    "model.compile(\n",
    "    loss='categorical_crossentropy',\n",
    "    optimizer=Adam(),\n",
    "    metrics=['accuracy']\n",
    ")\n",
    "\n",
    "print(model.summary())"
   ],
   "metadata": {
    "collapsed": false,
    "pycharm": {
     "name": "#%%\n"
    }
   }
  },
  {
   "cell_type": "markdown",
   "source": [
    "## Обучение нейронной сети"
   ],
   "metadata": {
    "collapsed": false,
    "pycharm": {
     "name": "#%% md\n"
    }
   }
  },
  {
   "cell_type": "code",
   "execution_count": 11,
   "outputs": [
    {
     "output_type": "stream",
     "name": "stdout",
     "text": [
      "Epoch 1/15\n",
      "469/469 [==============================] - 6s 12ms/step - loss: 0.2104 - accuracy: 0.9382\n",
      "Epoch 2/15\n",
      "469/469 [==============================] - 6s 13ms/step - loss: 0.0767 - accuracy: 0.9764\n",
      "Epoch 3/15\n",
      "469/469 [==============================] - 6s 13ms/step - loss: 0.0474 - accuracy: 0.9849\n",
      "Epoch 4/15\n",
      "469/469 [==============================] - 6s 13ms/step - loss: 0.0338 - accuracy: 0.9893\n",
      "Epoch 5/15\n",
      "469/469 [==============================] - 6s 13ms/step - loss: 0.0265 - accuracy: 0.9912\n",
      "Epoch 6/15\n",
      "469/469 [==============================] - 6s 13ms/step - loss: 0.0213 - accuracy: 0.9931\n",
      "Epoch 7/15\n",
      "469/469 [==============================] - 6s 13ms/step - loss: 0.0181 - accuracy: 0.9941\n",
      "Epoch 8/15\n",
      "469/469 [==============================] - 6s 13ms/step - loss: 0.0150 - accuracy: 0.9949\n",
      "Epoch 9/15\n",
      "469/469 [==============================] - 6s 13ms/step - loss: 0.0141 - accuracy: 0.9953\n",
      "Epoch 10/15\n",
      "469/469 [==============================] - 6s 13ms/step - loss: 0.0126 - accuracy: 0.9959\n",
      "Epoch 11/15\n",
      "469/469 [==============================] - 6s 13ms/step - loss: 0.0122 - accuracy: 0.9960\n",
      "Epoch 12/15\n",
      "469/469 [==============================] - 6s 14ms/step - loss: 0.0119 - accuracy: 0.9963\n",
      "Epoch 13/15\n",
      "469/469 [==============================] - 6s 14ms/step - loss: 0.0089 - accuracy: 0.9972\n",
      "Epoch 14/15\n",
      "469/469 [==============================] - 6s 13ms/step - loss: 0.0101 - accuracy: 0.9966\n",
      "Epoch 15/15\n",
      "469/469 [==============================] - 6s 13ms/step - loss: 0.0108 - accuracy: 0.9962\n"
     ]
    }
   ],
   "source": [
    "epochs = 15\n",
    "history = model.fit(\n",
    "    x_train,\n",
    "    y_train,\n",
    "    batch_size=128,\n",
    "    epochs=epochs,\n",
    "    verbose=1\n",
    ")"
   ],
   "metadata": {
    "collapsed": false,
    "pycharm": {
     "name": "#%%\n"
    }
   }
  },
  {
   "cell_type": "markdown",
   "source": [
    "Отобразить график изменения loss и accuracy в процессе обучения"
   ],
   "metadata": {
    "collapsed": false,
    "pycharm": {
     "name": "#%% md\n"
    }
   }
  },
  {
   "cell_type": "code",
   "execution_count": 12,
   "outputs": [
    {
     "output_type": "display_data",
     "data": {
      "text/plain": "<Figure size 864x288 with 2 Axes>",
      "image/svg+xml": "<?xml version=\"1.0\" encoding=\"utf-8\" standalone=\"no\"?>\r\n<!DOCTYPE svg PUBLIC \"-//W3C//DTD SVG 1.1//EN\"\r\n  \"http://www.w3.org/Graphics/SVG/1.1/DTD/svg11.dtd\">\r\n<!-- Created with matplotlib (https://matplotlib.org/) -->\r\n<svg height=\"265.492868pt\" version=\"1.1\" viewBox=\"0 0 733.30625 265.492868\" width=\"733.30625pt\" xmlns=\"http://www.w3.org/2000/svg\" xmlns:xlink=\"http://www.w3.org/1999/xlink\">\r\n <metadata>\r\n  <rdf:RDF xmlns:cc=\"http://creativecommons.org/ns#\" xmlns:dc=\"http://purl.org/dc/elements/1.1/\" xmlns:rdf=\"http://www.w3.org/1999/02/22-rdf-syntax-ns#\">\r\n   <cc:Work>\r\n    <dc:type rdf:resource=\"http://purl.org/dc/dcmitype/StillImage\"/>\r\n    <dc:date>2020-10-14T23:42:53.361915</dc:date>\r\n    <dc:format>image/svg+xml</dc:format>\r\n    <dc:creator>\r\n     <cc:Agent>\r\n      <dc:title>Matplotlib v3.3.2, https://matplotlib.org/</dc:title>\r\n     </cc:Agent>\r\n    </dc:creator>\r\n   </cc:Work>\r\n  </rdf:RDF>\r\n </metadata>\r\n <defs>\r\n  <style type=\"text/css\">*{stroke-linecap:butt;stroke-linejoin:round;}</style>\r\n </defs>\r\n <g id=\"figure_1\">\r\n  <g id=\"patch_1\">\r\n   <path d=\"M 0 265.492868 \r\nL 733.30625 265.492868 \r\nL 733.30625 0 \r\nL 0 0 \r\nz\r\n\" style=\"fill:none;\"/>\r\n  </g>\r\n  <g id=\"axes_1\">\r\n   <g id=\"patch_2\">\r\n    <path d=\"M 56.50625 227.936618 \r\nL 360.869886 227.936618 \r\nL 360.869886 10.496618 \r\nL 56.50625 10.496618 \r\nz\r\n\" style=\"fill:#ffffff;\"/>\r\n   </g>\r\n   <g id=\"matplotlib.axis_1\">\r\n    <g id=\"xtick_1\">\r\n     <g id=\"line2d_1\">\r\n      <path clip-path=\"url(#p214ca867bb)\" d=\"M 70.340961 227.936618 \r\nL 70.340961 10.496618 \r\n\" style=\"fill:none;stroke:#b0b0b0;stroke-linecap:square;stroke-width:0.8;\"/>\r\n     </g>\r\n     <g id=\"line2d_2\">\r\n      <defs>\r\n       <path d=\"M 0 0 \r\nL 0 3.5 \r\n\" id=\"m87a776722b\" style=\"stroke:#000000;stroke-width:0.8;\"/>\r\n      </defs>\r\n      <g>\r\n       <use style=\"stroke:#000000;stroke-width:0.8;\" x=\"70.340961\" xlink:href=\"#m87a776722b\" y=\"227.936618\"/>\r\n      </g>\r\n     </g>\r\n     <g id=\"text_1\">\r\n      <!-- 0 -->\r\n      <g transform=\"translate(67.159711 242.535055)scale(0.1 -0.1)\">\r\n       <defs>\r\n        <path d=\"M 31.78125 66.40625 \r\nQ 24.171875 66.40625 20.328125 58.90625 \r\nQ 16.5 51.421875 16.5 36.375 \r\nQ 16.5 21.390625 20.328125 13.890625 \r\nQ 24.171875 6.390625 31.78125 6.390625 \r\nQ 39.453125 6.390625 43.28125 13.890625 \r\nQ 47.125 21.390625 47.125 36.375 \r\nQ 47.125 51.421875 43.28125 58.90625 \r\nQ 39.453125 66.40625 31.78125 66.40625 \r\nz\r\nM 31.78125 74.21875 \r\nQ 44.046875 74.21875 50.515625 64.515625 \r\nQ 56.984375 54.828125 56.984375 36.375 \r\nQ 56.984375 17.96875 50.515625 8.265625 \r\nQ 44.046875 -1.421875 31.78125 -1.421875 \r\nQ 19.53125 -1.421875 13.0625 8.265625 \r\nQ 6.59375 17.96875 6.59375 36.375 \r\nQ 6.59375 54.828125 13.0625 64.515625 \r\nQ 19.53125 74.21875 31.78125 74.21875 \r\nz\r\n\" id=\"DejaVuSans-48\"/>\r\n       </defs>\r\n       <use xlink:href=\"#DejaVuSans-48\"/>\r\n      </g>\r\n     </g>\r\n    </g>\r\n    <g id=\"xtick_2\">\r\n     <g id=\"line2d_3\">\r\n      <path clip-path=\"url(#p214ca867bb)\" d=\"M 109.868706 227.936618 \r\nL 109.868706 10.496618 \r\n\" style=\"fill:none;stroke:#b0b0b0;stroke-linecap:square;stroke-width:0.8;\"/>\r\n     </g>\r\n     <g id=\"line2d_4\">\r\n      <g>\r\n       <use style=\"stroke:#000000;stroke-width:0.8;\" x=\"109.868706\" xlink:href=\"#m87a776722b\" y=\"227.936618\"/>\r\n      </g>\r\n     </g>\r\n     <g id=\"text_2\">\r\n      <!-- 2 -->\r\n      <g transform=\"translate(106.687456 242.535055)scale(0.1 -0.1)\">\r\n       <defs>\r\n        <path d=\"M 19.1875 8.296875 \r\nL 53.609375 8.296875 \r\nL 53.609375 0 \r\nL 7.328125 0 \r\nL 7.328125 8.296875 \r\nQ 12.9375 14.109375 22.625 23.890625 \r\nQ 32.328125 33.6875 34.8125 36.53125 \r\nQ 39.546875 41.84375 41.421875 45.53125 \r\nQ 43.3125 49.21875 43.3125 52.78125 \r\nQ 43.3125 58.59375 39.234375 62.25 \r\nQ 35.15625 65.921875 28.609375 65.921875 \r\nQ 23.96875 65.921875 18.8125 64.3125 \r\nQ 13.671875 62.703125 7.8125 59.421875 \r\nL 7.8125 69.390625 \r\nQ 13.765625 71.78125 18.9375 73 \r\nQ 24.125 74.21875 28.421875 74.21875 \r\nQ 39.75 74.21875 46.484375 68.546875 \r\nQ 53.21875 62.890625 53.21875 53.421875 \r\nQ 53.21875 48.921875 51.53125 44.890625 \r\nQ 49.859375 40.875 45.40625 35.40625 \r\nQ 44.1875 33.984375 37.640625 27.21875 \r\nQ 31.109375 20.453125 19.1875 8.296875 \r\nz\r\n\" id=\"DejaVuSans-50\"/>\r\n       </defs>\r\n       <use xlink:href=\"#DejaVuSans-50\"/>\r\n      </g>\r\n     </g>\r\n    </g>\r\n    <g id=\"xtick_3\">\r\n     <g id=\"line2d_5\">\r\n      <path clip-path=\"url(#p214ca867bb)\" d=\"M 149.396451 227.936618 \r\nL 149.396451 10.496618 \r\n\" style=\"fill:none;stroke:#b0b0b0;stroke-linecap:square;stroke-width:0.8;\"/>\r\n     </g>\r\n     <g id=\"line2d_6\">\r\n      <g>\r\n       <use style=\"stroke:#000000;stroke-width:0.8;\" x=\"149.396451\" xlink:href=\"#m87a776722b\" y=\"227.936618\"/>\r\n      </g>\r\n     </g>\r\n     <g id=\"text_3\">\r\n      <!-- 4 -->\r\n      <g transform=\"translate(146.215201 242.535055)scale(0.1 -0.1)\">\r\n       <defs>\r\n        <path d=\"M 37.796875 64.3125 \r\nL 12.890625 25.390625 \r\nL 37.796875 25.390625 \r\nz\r\nM 35.203125 72.90625 \r\nL 47.609375 72.90625 \r\nL 47.609375 25.390625 \r\nL 58.015625 25.390625 \r\nL 58.015625 17.1875 \r\nL 47.609375 17.1875 \r\nL 47.609375 0 \r\nL 37.796875 0 \r\nL 37.796875 17.1875 \r\nL 4.890625 17.1875 \r\nL 4.890625 26.703125 \r\nz\r\n\" id=\"DejaVuSans-52\"/>\r\n       </defs>\r\n       <use xlink:href=\"#DejaVuSans-52\"/>\r\n      </g>\r\n     </g>\r\n    </g>\r\n    <g id=\"xtick_4\">\r\n     <g id=\"line2d_7\">\r\n      <path clip-path=\"url(#p214ca867bb)\" d=\"M 188.924196 227.936618 \r\nL 188.924196 10.496618 \r\n\" style=\"fill:none;stroke:#b0b0b0;stroke-linecap:square;stroke-width:0.8;\"/>\r\n     </g>\r\n     <g id=\"line2d_8\">\r\n      <g>\r\n       <use style=\"stroke:#000000;stroke-width:0.8;\" x=\"188.924196\" xlink:href=\"#m87a776722b\" y=\"227.936618\"/>\r\n      </g>\r\n     </g>\r\n     <g id=\"text_4\">\r\n      <!-- 6 -->\r\n      <g transform=\"translate(185.742946 242.535055)scale(0.1 -0.1)\">\r\n       <defs>\r\n        <path d=\"M 33.015625 40.375 \r\nQ 26.375 40.375 22.484375 35.828125 \r\nQ 18.609375 31.296875 18.609375 23.390625 \r\nQ 18.609375 15.53125 22.484375 10.953125 \r\nQ 26.375 6.390625 33.015625 6.390625 \r\nQ 39.65625 6.390625 43.53125 10.953125 \r\nQ 47.40625 15.53125 47.40625 23.390625 \r\nQ 47.40625 31.296875 43.53125 35.828125 \r\nQ 39.65625 40.375 33.015625 40.375 \r\nz\r\nM 52.59375 71.296875 \r\nL 52.59375 62.3125 \r\nQ 48.875 64.0625 45.09375 64.984375 \r\nQ 41.3125 65.921875 37.59375 65.921875 \r\nQ 27.828125 65.921875 22.671875 59.328125 \r\nQ 17.53125 52.734375 16.796875 39.40625 \r\nQ 19.671875 43.65625 24.015625 45.921875 \r\nQ 28.375 48.1875 33.59375 48.1875 \r\nQ 44.578125 48.1875 50.953125 41.515625 \r\nQ 57.328125 34.859375 57.328125 23.390625 \r\nQ 57.328125 12.15625 50.6875 5.359375 \r\nQ 44.046875 -1.421875 33.015625 -1.421875 \r\nQ 20.359375 -1.421875 13.671875 8.265625 \r\nQ 6.984375 17.96875 6.984375 36.375 \r\nQ 6.984375 53.65625 15.1875 63.9375 \r\nQ 23.390625 74.21875 37.203125 74.21875 \r\nQ 40.921875 74.21875 44.703125 73.484375 \r\nQ 48.484375 72.75 52.59375 71.296875 \r\nz\r\n\" id=\"DejaVuSans-54\"/>\r\n       </defs>\r\n       <use xlink:href=\"#DejaVuSans-54\"/>\r\n      </g>\r\n     </g>\r\n    </g>\r\n    <g id=\"xtick_5\">\r\n     <g id=\"line2d_9\">\r\n      <path clip-path=\"url(#p214ca867bb)\" d=\"M 228.451941 227.936618 \r\nL 228.451941 10.496618 \r\n\" style=\"fill:none;stroke:#b0b0b0;stroke-linecap:square;stroke-width:0.8;\"/>\r\n     </g>\r\n     <g id=\"line2d_10\">\r\n      <g>\r\n       <use style=\"stroke:#000000;stroke-width:0.8;\" x=\"228.451941\" xlink:href=\"#m87a776722b\" y=\"227.936618\"/>\r\n      </g>\r\n     </g>\r\n     <g id=\"text_5\">\r\n      <!-- 8 -->\r\n      <g transform=\"translate(225.270691 242.535055)scale(0.1 -0.1)\">\r\n       <defs>\r\n        <path d=\"M 31.78125 34.625 \r\nQ 24.75 34.625 20.71875 30.859375 \r\nQ 16.703125 27.09375 16.703125 20.515625 \r\nQ 16.703125 13.921875 20.71875 10.15625 \r\nQ 24.75 6.390625 31.78125 6.390625 \r\nQ 38.8125 6.390625 42.859375 10.171875 \r\nQ 46.921875 13.96875 46.921875 20.515625 \r\nQ 46.921875 27.09375 42.890625 30.859375 \r\nQ 38.875 34.625 31.78125 34.625 \r\nz\r\nM 21.921875 38.8125 \r\nQ 15.578125 40.375 12.03125 44.71875 \r\nQ 8.5 49.078125 8.5 55.328125 \r\nQ 8.5 64.0625 14.71875 69.140625 \r\nQ 20.953125 74.21875 31.78125 74.21875 \r\nQ 42.671875 74.21875 48.875 69.140625 \r\nQ 55.078125 64.0625 55.078125 55.328125 \r\nQ 55.078125 49.078125 51.53125 44.71875 \r\nQ 48 40.375 41.703125 38.8125 \r\nQ 48.828125 37.15625 52.796875 32.3125 \r\nQ 56.78125 27.484375 56.78125 20.515625 \r\nQ 56.78125 9.90625 50.3125 4.234375 \r\nQ 43.84375 -1.421875 31.78125 -1.421875 \r\nQ 19.734375 -1.421875 13.25 4.234375 \r\nQ 6.78125 9.90625 6.78125 20.515625 \r\nQ 6.78125 27.484375 10.78125 32.3125 \r\nQ 14.796875 37.15625 21.921875 38.8125 \r\nz\r\nM 18.3125 54.390625 \r\nQ 18.3125 48.734375 21.84375 45.5625 \r\nQ 25.390625 42.390625 31.78125 42.390625 \r\nQ 38.140625 42.390625 41.71875 45.5625 \r\nQ 45.3125 48.734375 45.3125 54.390625 \r\nQ 45.3125 60.0625 41.71875 63.234375 \r\nQ 38.140625 66.40625 31.78125 66.40625 \r\nQ 25.390625 66.40625 21.84375 63.234375 \r\nQ 18.3125 60.0625 18.3125 54.390625 \r\nz\r\n\" id=\"DejaVuSans-56\"/>\r\n       </defs>\r\n       <use xlink:href=\"#DejaVuSans-56\"/>\r\n      </g>\r\n     </g>\r\n    </g>\r\n    <g id=\"xtick_6\">\r\n     <g id=\"line2d_11\">\r\n      <path clip-path=\"url(#p214ca867bb)\" d=\"M 267.979686 227.936618 \r\nL 267.979686 10.496618 \r\n\" style=\"fill:none;stroke:#b0b0b0;stroke-linecap:square;stroke-width:0.8;\"/>\r\n     </g>\r\n     <g id=\"line2d_12\">\r\n      <g>\r\n       <use style=\"stroke:#000000;stroke-width:0.8;\" x=\"267.979686\" xlink:href=\"#m87a776722b\" y=\"227.936618\"/>\r\n      </g>\r\n     </g>\r\n     <g id=\"text_6\">\r\n      <!-- 10 -->\r\n      <g transform=\"translate(261.617186 242.535055)scale(0.1 -0.1)\">\r\n       <defs>\r\n        <path d=\"M 12.40625 8.296875 \r\nL 28.515625 8.296875 \r\nL 28.515625 63.921875 \r\nL 10.984375 60.40625 \r\nL 10.984375 69.390625 \r\nL 28.421875 72.90625 \r\nL 38.28125 72.90625 \r\nL 38.28125 8.296875 \r\nL 54.390625 8.296875 \r\nL 54.390625 0 \r\nL 12.40625 0 \r\nz\r\n\" id=\"DejaVuSans-49\"/>\r\n       </defs>\r\n       <use xlink:href=\"#DejaVuSans-49\"/>\r\n       <use x=\"63.623047\" xlink:href=\"#DejaVuSans-48\"/>\r\n      </g>\r\n     </g>\r\n    </g>\r\n    <g id=\"xtick_7\">\r\n     <g id=\"line2d_13\">\r\n      <path clip-path=\"url(#p214ca867bb)\" d=\"M 307.507431 227.936618 \r\nL 307.507431 10.496618 \r\n\" style=\"fill:none;stroke:#b0b0b0;stroke-linecap:square;stroke-width:0.8;\"/>\r\n     </g>\r\n     <g id=\"line2d_14\">\r\n      <g>\r\n       <use style=\"stroke:#000000;stroke-width:0.8;\" x=\"307.507431\" xlink:href=\"#m87a776722b\" y=\"227.936618\"/>\r\n      </g>\r\n     </g>\r\n     <g id=\"text_7\">\r\n      <!-- 12 -->\r\n      <g transform=\"translate(301.144931 242.535055)scale(0.1 -0.1)\">\r\n       <use xlink:href=\"#DejaVuSans-49\"/>\r\n       <use x=\"63.623047\" xlink:href=\"#DejaVuSans-50\"/>\r\n      </g>\r\n     </g>\r\n    </g>\r\n    <g id=\"xtick_8\">\r\n     <g id=\"line2d_15\">\r\n      <path clip-path=\"url(#p214ca867bb)\" d=\"M 347.035176 227.936618 \r\nL 347.035176 10.496618 \r\n\" style=\"fill:none;stroke:#b0b0b0;stroke-linecap:square;stroke-width:0.8;\"/>\r\n     </g>\r\n     <g id=\"line2d_16\">\r\n      <g>\r\n       <use style=\"stroke:#000000;stroke-width:0.8;\" x=\"347.035176\" xlink:href=\"#m87a776722b\" y=\"227.936618\"/>\r\n      </g>\r\n     </g>\r\n     <g id=\"text_8\">\r\n      <!-- 14 -->\r\n      <g transform=\"translate(340.672676 242.535055)scale(0.1 -0.1)\">\r\n       <use xlink:href=\"#DejaVuSans-49\"/>\r\n       <use x=\"63.623047\" xlink:href=\"#DejaVuSans-52\"/>\r\n      </g>\r\n     </g>\r\n    </g>\r\n    <g id=\"text_9\">\r\n     <!-- epoch -->\r\n     <g transform=\"translate(193.459943 256.21318)scale(0.1 -0.1)\">\r\n      <defs>\r\n       <path d=\"M 56.203125 29.59375 \r\nL 56.203125 25.203125 \r\nL 14.890625 25.203125 \r\nQ 15.484375 15.921875 20.484375 11.0625 \r\nQ 25.484375 6.203125 34.421875 6.203125 \r\nQ 39.59375 6.203125 44.453125 7.46875 \r\nQ 49.3125 8.734375 54.109375 11.28125 \r\nL 54.109375 2.78125 \r\nQ 49.265625 0.734375 44.1875 -0.34375 \r\nQ 39.109375 -1.421875 33.890625 -1.421875 \r\nQ 20.796875 -1.421875 13.15625 6.1875 \r\nQ 5.515625 13.8125 5.515625 26.8125 \r\nQ 5.515625 40.234375 12.765625 48.109375 \r\nQ 20.015625 56 32.328125 56 \r\nQ 43.359375 56 49.78125 48.890625 \r\nQ 56.203125 41.796875 56.203125 29.59375 \r\nz\r\nM 47.21875 32.234375 \r\nQ 47.125 39.59375 43.09375 43.984375 \r\nQ 39.0625 48.390625 32.421875 48.390625 \r\nQ 24.90625 48.390625 20.390625 44.140625 \r\nQ 15.875 39.890625 15.1875 32.171875 \r\nz\r\n\" id=\"DejaVuSans-101\"/>\r\n       <path d=\"M 18.109375 8.203125 \r\nL 18.109375 -20.796875 \r\nL 9.078125 -20.796875 \r\nL 9.078125 54.6875 \r\nL 18.109375 54.6875 \r\nL 18.109375 46.390625 \r\nQ 20.953125 51.265625 25.265625 53.625 \r\nQ 29.59375 56 35.59375 56 \r\nQ 45.5625 56 51.78125 48.09375 \r\nQ 58.015625 40.1875 58.015625 27.296875 \r\nQ 58.015625 14.40625 51.78125 6.484375 \r\nQ 45.5625 -1.421875 35.59375 -1.421875 \r\nQ 29.59375 -1.421875 25.265625 0.953125 \r\nQ 20.953125 3.328125 18.109375 8.203125 \r\nz\r\nM 48.6875 27.296875 \r\nQ 48.6875 37.203125 44.609375 42.84375 \r\nQ 40.53125 48.484375 33.40625 48.484375 \r\nQ 26.265625 48.484375 22.1875 42.84375 \r\nQ 18.109375 37.203125 18.109375 27.296875 \r\nQ 18.109375 17.390625 22.1875 11.75 \r\nQ 26.265625 6.109375 33.40625 6.109375 \r\nQ 40.53125 6.109375 44.609375 11.75 \r\nQ 48.6875 17.390625 48.6875 27.296875 \r\nz\r\n\" id=\"DejaVuSans-112\"/>\r\n       <path d=\"M 30.609375 48.390625 \r\nQ 23.390625 48.390625 19.1875 42.75 \r\nQ 14.984375 37.109375 14.984375 27.296875 \r\nQ 14.984375 17.484375 19.15625 11.84375 \r\nQ 23.34375 6.203125 30.609375 6.203125 \r\nQ 37.796875 6.203125 41.984375 11.859375 \r\nQ 46.1875 17.53125 46.1875 27.296875 \r\nQ 46.1875 37.015625 41.984375 42.703125 \r\nQ 37.796875 48.390625 30.609375 48.390625 \r\nz\r\nM 30.609375 56 \r\nQ 42.328125 56 49.015625 48.375 \r\nQ 55.71875 40.765625 55.71875 27.296875 \r\nQ 55.71875 13.875 49.015625 6.21875 \r\nQ 42.328125 -1.421875 30.609375 -1.421875 \r\nQ 18.84375 -1.421875 12.171875 6.21875 \r\nQ 5.515625 13.875 5.515625 27.296875 \r\nQ 5.515625 40.765625 12.171875 48.375 \r\nQ 18.84375 56 30.609375 56 \r\nz\r\n\" id=\"DejaVuSans-111\"/>\r\n       <path d=\"M 48.78125 52.59375 \r\nL 48.78125 44.1875 \r\nQ 44.96875 46.296875 41.140625 47.34375 \r\nQ 37.3125 48.390625 33.40625 48.390625 \r\nQ 24.65625 48.390625 19.8125 42.84375 \r\nQ 14.984375 37.3125 14.984375 27.296875 \r\nQ 14.984375 17.28125 19.8125 11.734375 \r\nQ 24.65625 6.203125 33.40625 6.203125 \r\nQ 37.3125 6.203125 41.140625 7.25 \r\nQ 44.96875 8.296875 48.78125 10.40625 \r\nL 48.78125 2.09375 \r\nQ 45.015625 0.34375 40.984375 -0.53125 \r\nQ 36.96875 -1.421875 32.421875 -1.421875 \r\nQ 20.0625 -1.421875 12.78125 6.34375 \r\nQ 5.515625 14.109375 5.515625 27.296875 \r\nQ 5.515625 40.671875 12.859375 48.328125 \r\nQ 20.21875 56 33.015625 56 \r\nQ 37.15625 56 41.109375 55.140625 \r\nQ 45.0625 54.296875 48.78125 52.59375 \r\nz\r\n\" id=\"DejaVuSans-99\"/>\r\n       <path d=\"M 54.890625 33.015625 \r\nL 54.890625 0 \r\nL 45.90625 0 \r\nL 45.90625 32.71875 \r\nQ 45.90625 40.484375 42.875 44.328125 \r\nQ 39.84375 48.1875 33.796875 48.1875 \r\nQ 26.515625 48.1875 22.3125 43.546875 \r\nQ 18.109375 38.921875 18.109375 30.90625 \r\nL 18.109375 0 \r\nL 9.078125 0 \r\nL 9.078125 75.984375 \r\nL 18.109375 75.984375 \r\nL 18.109375 46.1875 \r\nQ 21.34375 51.125 25.703125 53.5625 \r\nQ 30.078125 56 35.796875 56 \r\nQ 45.21875 56 50.046875 50.171875 \r\nQ 54.890625 44.34375 54.890625 33.015625 \r\nz\r\n\" id=\"DejaVuSans-104\"/>\r\n      </defs>\r\n      <use xlink:href=\"#DejaVuSans-101\"/>\r\n      <use x=\"61.523438\" xlink:href=\"#DejaVuSans-112\"/>\r\n      <use x=\"125\" xlink:href=\"#DejaVuSans-111\"/>\r\n      <use x=\"186.181641\" xlink:href=\"#DejaVuSans-99\"/>\r\n      <use x=\"241.162109\" xlink:href=\"#DejaVuSans-104\"/>\r\n     </g>\r\n    </g>\r\n   </g>\r\n   <g id=\"matplotlib.axis_2\">\r\n    <g id=\"ytick_1\">\r\n     <g id=\"line2d_17\">\r\n      <path clip-path=\"url(#p214ca867bb)\" d=\"M 56.50625 226.75495 \r\nL 360.869886 226.75495 \r\n\" style=\"fill:none;stroke:#b0b0b0;stroke-linecap:square;stroke-width:0.8;\"/>\r\n     </g>\r\n     <g id=\"line2d_18\">\r\n      <defs>\r\n       <path d=\"M 0 0 \r\nL -3.5 0 \r\n\" id=\"m60266cd6c6\" style=\"stroke:#000000;stroke-width:0.8;\"/>\r\n      </defs>\r\n      <g>\r\n       <use style=\"stroke:#000000;stroke-width:0.8;\" x=\"56.50625\" xlink:href=\"#m60266cd6c6\" y=\"226.75495\"/>\r\n      </g>\r\n     </g>\r\n     <g id=\"text_10\">\r\n      <!-- 0.000 -->\r\n      <g transform=\"translate(20.878125 230.554169)scale(0.1 -0.1)\">\r\n       <defs>\r\n        <path d=\"M 10.6875 12.40625 \r\nL 21 12.40625 \r\nL 21 0 \r\nL 10.6875 0 \r\nz\r\n\" id=\"DejaVuSans-46\"/>\r\n       </defs>\r\n       <use xlink:href=\"#DejaVuSans-48\"/>\r\n       <use x=\"63.623047\" xlink:href=\"#DejaVuSans-46\"/>\r\n       <use x=\"95.410156\" xlink:href=\"#DejaVuSans-48\"/>\r\n       <use x=\"159.033203\" xlink:href=\"#DejaVuSans-48\"/>\r\n       <use x=\"222.65625\" xlink:href=\"#DejaVuSans-48\"/>\r\n      </g>\r\n     </g>\r\n    </g>\r\n    <g id=\"ytick_2\">\r\n     <g id=\"line2d_19\">\r\n      <path clip-path=\"url(#p214ca867bb)\" d=\"M 56.50625 202.236364 \r\nL 360.869886 202.236364 \r\n\" style=\"fill:none;stroke:#b0b0b0;stroke-linecap:square;stroke-width:0.8;\"/>\r\n     </g>\r\n     <g id=\"line2d_20\">\r\n      <g>\r\n       <use style=\"stroke:#000000;stroke-width:0.8;\" x=\"56.50625\" xlink:href=\"#m60266cd6c6\" y=\"202.236364\"/>\r\n      </g>\r\n     </g>\r\n     <g id=\"text_11\">\r\n      <!-- 0.025 -->\r\n      <g transform=\"translate(20.878125 206.035583)scale(0.1 -0.1)\">\r\n       <defs>\r\n        <path d=\"M 10.796875 72.90625 \r\nL 49.515625 72.90625 \r\nL 49.515625 64.59375 \r\nL 19.828125 64.59375 \r\nL 19.828125 46.734375 \r\nQ 21.96875 47.46875 24.109375 47.828125 \r\nQ 26.265625 48.1875 28.421875 48.1875 \r\nQ 40.625 48.1875 47.75 41.5 \r\nQ 54.890625 34.8125 54.890625 23.390625 \r\nQ 54.890625 11.625 47.5625 5.09375 \r\nQ 40.234375 -1.421875 26.90625 -1.421875 \r\nQ 22.3125 -1.421875 17.546875 -0.640625 \r\nQ 12.796875 0.140625 7.71875 1.703125 \r\nL 7.71875 11.625 \r\nQ 12.109375 9.234375 16.796875 8.0625 \r\nQ 21.484375 6.890625 26.703125 6.890625 \r\nQ 35.15625 6.890625 40.078125 11.328125 \r\nQ 45.015625 15.765625 45.015625 23.390625 \r\nQ 45.015625 31 40.078125 35.4375 \r\nQ 35.15625 39.890625 26.703125 39.890625 \r\nQ 22.75 39.890625 18.8125 39.015625 \r\nQ 14.890625 38.140625 10.796875 36.28125 \r\nz\r\n\" id=\"DejaVuSans-53\"/>\r\n       </defs>\r\n       <use xlink:href=\"#DejaVuSans-48\"/>\r\n       <use x=\"63.623047\" xlink:href=\"#DejaVuSans-46\"/>\r\n       <use x=\"95.410156\" xlink:href=\"#DejaVuSans-48\"/>\r\n       <use x=\"159.033203\" xlink:href=\"#DejaVuSans-50\"/>\r\n       <use x=\"222.65625\" xlink:href=\"#DejaVuSans-53\"/>\r\n      </g>\r\n     </g>\r\n    </g>\r\n    <g id=\"ytick_3\">\r\n     <g id=\"line2d_21\">\r\n      <path clip-path=\"url(#p214ca867bb)\" d=\"M 56.50625 177.717778 \r\nL 360.869886 177.717778 \r\n\" style=\"fill:none;stroke:#b0b0b0;stroke-linecap:square;stroke-width:0.8;\"/>\r\n     </g>\r\n     <g id=\"line2d_22\">\r\n      <g>\r\n       <use style=\"stroke:#000000;stroke-width:0.8;\" x=\"56.50625\" xlink:href=\"#m60266cd6c6\" y=\"177.717778\"/>\r\n      </g>\r\n     </g>\r\n     <g id=\"text_12\">\r\n      <!-- 0.050 -->\r\n      <g transform=\"translate(20.878125 181.516997)scale(0.1 -0.1)\">\r\n       <use xlink:href=\"#DejaVuSans-48\"/>\r\n       <use x=\"63.623047\" xlink:href=\"#DejaVuSans-46\"/>\r\n       <use x=\"95.410156\" xlink:href=\"#DejaVuSans-48\"/>\r\n       <use x=\"159.033203\" xlink:href=\"#DejaVuSans-53\"/>\r\n       <use x=\"222.65625\" xlink:href=\"#DejaVuSans-48\"/>\r\n      </g>\r\n     </g>\r\n    </g>\r\n    <g id=\"ytick_4\">\r\n     <g id=\"line2d_23\">\r\n      <path clip-path=\"url(#p214ca867bb)\" d=\"M 56.50625 153.199192 \r\nL 360.869886 153.199192 \r\n\" style=\"fill:none;stroke:#b0b0b0;stroke-linecap:square;stroke-width:0.8;\"/>\r\n     </g>\r\n     <g id=\"line2d_24\">\r\n      <g>\r\n       <use style=\"stroke:#000000;stroke-width:0.8;\" x=\"56.50625\" xlink:href=\"#m60266cd6c6\" y=\"153.199192\"/>\r\n      </g>\r\n     </g>\r\n     <g id=\"text_13\">\r\n      <!-- 0.075 -->\r\n      <g transform=\"translate(20.878125 156.998411)scale(0.1 -0.1)\">\r\n       <defs>\r\n        <path d=\"M 8.203125 72.90625 \r\nL 55.078125 72.90625 \r\nL 55.078125 68.703125 \r\nL 28.609375 0 \r\nL 18.3125 0 \r\nL 43.21875 64.59375 \r\nL 8.203125 64.59375 \r\nz\r\n\" id=\"DejaVuSans-55\"/>\r\n       </defs>\r\n       <use xlink:href=\"#DejaVuSans-48\"/>\r\n       <use x=\"63.623047\" xlink:href=\"#DejaVuSans-46\"/>\r\n       <use x=\"95.410156\" xlink:href=\"#DejaVuSans-48\"/>\r\n       <use x=\"159.033203\" xlink:href=\"#DejaVuSans-55\"/>\r\n       <use x=\"222.65625\" xlink:href=\"#DejaVuSans-53\"/>\r\n      </g>\r\n     </g>\r\n    </g>\r\n    <g id=\"ytick_5\">\r\n     <g id=\"line2d_25\">\r\n      <path clip-path=\"url(#p214ca867bb)\" d=\"M 56.50625 128.680606 \r\nL 360.869886 128.680606 \r\n\" style=\"fill:none;stroke:#b0b0b0;stroke-linecap:square;stroke-width:0.8;\"/>\r\n     </g>\r\n     <g id=\"line2d_26\">\r\n      <g>\r\n       <use style=\"stroke:#000000;stroke-width:0.8;\" x=\"56.50625\" xlink:href=\"#m60266cd6c6\" y=\"128.680606\"/>\r\n      </g>\r\n     </g>\r\n     <g id=\"text_14\">\r\n      <!-- 0.100 -->\r\n      <g transform=\"translate(20.878125 132.479825)scale(0.1 -0.1)\">\r\n       <use xlink:href=\"#DejaVuSans-48\"/>\r\n       <use x=\"63.623047\" xlink:href=\"#DejaVuSans-46\"/>\r\n       <use x=\"95.410156\" xlink:href=\"#DejaVuSans-49\"/>\r\n       <use x=\"159.033203\" xlink:href=\"#DejaVuSans-48\"/>\r\n       <use x=\"222.65625\" xlink:href=\"#DejaVuSans-48\"/>\r\n      </g>\r\n     </g>\r\n    </g>\r\n    <g id=\"ytick_6\">\r\n     <g id=\"line2d_27\">\r\n      <path clip-path=\"url(#p214ca867bb)\" d=\"M 56.50625 104.16202 \r\nL 360.869886 104.16202 \r\n\" style=\"fill:none;stroke:#b0b0b0;stroke-linecap:square;stroke-width:0.8;\"/>\r\n     </g>\r\n     <g id=\"line2d_28\">\r\n      <g>\r\n       <use style=\"stroke:#000000;stroke-width:0.8;\" x=\"56.50625\" xlink:href=\"#m60266cd6c6\" y=\"104.16202\"/>\r\n      </g>\r\n     </g>\r\n     <g id=\"text_15\">\r\n      <!-- 0.125 -->\r\n      <g transform=\"translate(20.878125 107.961239)scale(0.1 -0.1)\">\r\n       <use xlink:href=\"#DejaVuSans-48\"/>\r\n       <use x=\"63.623047\" xlink:href=\"#DejaVuSans-46\"/>\r\n       <use x=\"95.410156\" xlink:href=\"#DejaVuSans-49\"/>\r\n       <use x=\"159.033203\" xlink:href=\"#DejaVuSans-50\"/>\r\n       <use x=\"222.65625\" xlink:href=\"#DejaVuSans-53\"/>\r\n      </g>\r\n     </g>\r\n    </g>\r\n    <g id=\"ytick_7\">\r\n     <g id=\"line2d_29\">\r\n      <path clip-path=\"url(#p214ca867bb)\" d=\"M 56.50625 79.643434 \r\nL 360.869886 79.643434 \r\n\" style=\"fill:none;stroke:#b0b0b0;stroke-linecap:square;stroke-width:0.8;\"/>\r\n     </g>\r\n     <g id=\"line2d_30\">\r\n      <g>\r\n       <use style=\"stroke:#000000;stroke-width:0.8;\" x=\"56.50625\" xlink:href=\"#m60266cd6c6\" y=\"79.643434\"/>\r\n      </g>\r\n     </g>\r\n     <g id=\"text_16\">\r\n      <!-- 0.150 -->\r\n      <g transform=\"translate(20.878125 83.442653)scale(0.1 -0.1)\">\r\n       <use xlink:href=\"#DejaVuSans-48\"/>\r\n       <use x=\"63.623047\" xlink:href=\"#DejaVuSans-46\"/>\r\n       <use x=\"95.410156\" xlink:href=\"#DejaVuSans-49\"/>\r\n       <use x=\"159.033203\" xlink:href=\"#DejaVuSans-53\"/>\r\n       <use x=\"222.65625\" xlink:href=\"#DejaVuSans-48\"/>\r\n      </g>\r\n     </g>\r\n    </g>\r\n    <g id=\"ytick_8\">\r\n     <g id=\"line2d_31\">\r\n      <path clip-path=\"url(#p214ca867bb)\" d=\"M 56.50625 55.124848 \r\nL 360.869886 55.124848 \r\n\" style=\"fill:none;stroke:#b0b0b0;stroke-linecap:square;stroke-width:0.8;\"/>\r\n     </g>\r\n     <g id=\"line2d_32\">\r\n      <g>\r\n       <use style=\"stroke:#000000;stroke-width:0.8;\" x=\"56.50625\" xlink:href=\"#m60266cd6c6\" y=\"55.124848\"/>\r\n      </g>\r\n     </g>\r\n     <g id=\"text_17\">\r\n      <!-- 0.175 -->\r\n      <g transform=\"translate(20.878125 58.924067)scale(0.1 -0.1)\">\r\n       <use xlink:href=\"#DejaVuSans-48\"/>\r\n       <use x=\"63.623047\" xlink:href=\"#DejaVuSans-46\"/>\r\n       <use x=\"95.410156\" xlink:href=\"#DejaVuSans-49\"/>\r\n       <use x=\"159.033203\" xlink:href=\"#DejaVuSans-55\"/>\r\n       <use x=\"222.65625\" xlink:href=\"#DejaVuSans-53\"/>\r\n      </g>\r\n     </g>\r\n    </g>\r\n    <g id=\"ytick_9\">\r\n     <g id=\"line2d_33\">\r\n      <path clip-path=\"url(#p214ca867bb)\" d=\"M 56.50625 30.606262 \r\nL 360.869886 30.606262 \r\n\" style=\"fill:none;stroke:#b0b0b0;stroke-linecap:square;stroke-width:0.8;\"/>\r\n     </g>\r\n     <g id=\"line2d_34\">\r\n      <g>\r\n       <use style=\"stroke:#000000;stroke-width:0.8;\" x=\"56.50625\" xlink:href=\"#m60266cd6c6\" y=\"30.606262\"/>\r\n      </g>\r\n     </g>\r\n     <g id=\"text_18\">\r\n      <!-- 0.200 -->\r\n      <g transform=\"translate(20.878125 34.405481)scale(0.1 -0.1)\">\r\n       <use xlink:href=\"#DejaVuSans-48\"/>\r\n       <use x=\"63.623047\" xlink:href=\"#DejaVuSans-46\"/>\r\n       <use x=\"95.410156\" xlink:href=\"#DejaVuSans-50\"/>\r\n       <use x=\"159.033203\" xlink:href=\"#DejaVuSans-48\"/>\r\n       <use x=\"222.65625\" xlink:href=\"#DejaVuSans-48\"/>\r\n      </g>\r\n     </g>\r\n    </g>\r\n    <g id=\"text_19\">\r\n     <!-- loss -->\r\n     <g transform=\"translate(14.798438 128.87443)rotate(-90)scale(0.1 -0.1)\">\r\n      <defs>\r\n       <path d=\"M 9.421875 75.984375 \r\nL 18.40625 75.984375 \r\nL 18.40625 0 \r\nL 9.421875 0 \r\nz\r\n\" id=\"DejaVuSans-108\"/>\r\n       <path d=\"M 44.28125 53.078125 \r\nL 44.28125 44.578125 \r\nQ 40.484375 46.53125 36.375 47.5 \r\nQ 32.28125 48.484375 27.875 48.484375 \r\nQ 21.1875 48.484375 17.84375 46.4375 \r\nQ 14.5 44.390625 14.5 40.28125 \r\nQ 14.5 37.15625 16.890625 35.375 \r\nQ 19.28125 33.59375 26.515625 31.984375 \r\nL 29.59375 31.296875 \r\nQ 39.15625 29.25 43.1875 25.515625 \r\nQ 47.21875 21.78125 47.21875 15.09375 \r\nQ 47.21875 7.46875 41.1875 3.015625 \r\nQ 35.15625 -1.421875 24.609375 -1.421875 \r\nQ 20.21875 -1.421875 15.453125 -0.5625 \r\nQ 10.6875 0.296875 5.421875 2 \r\nL 5.421875 11.28125 \r\nQ 10.40625 8.6875 15.234375 7.390625 \r\nQ 20.0625 6.109375 24.8125 6.109375 \r\nQ 31.15625 6.109375 34.5625 8.28125 \r\nQ 37.984375 10.453125 37.984375 14.40625 \r\nQ 37.984375 18.0625 35.515625 20.015625 \r\nQ 33.0625 21.96875 24.703125 23.78125 \r\nL 21.578125 24.515625 \r\nQ 13.234375 26.265625 9.515625 29.90625 \r\nQ 5.8125 33.546875 5.8125 39.890625 \r\nQ 5.8125 47.609375 11.28125 51.796875 \r\nQ 16.75 56 26.8125 56 \r\nQ 31.78125 56 36.171875 55.265625 \r\nQ 40.578125 54.546875 44.28125 53.078125 \r\nz\r\n\" id=\"DejaVuSans-115\"/>\r\n      </defs>\r\n      <use xlink:href=\"#DejaVuSans-108\"/>\r\n      <use x=\"27.783203\" xlink:href=\"#DejaVuSans-111\"/>\r\n      <use x=\"88.964844\" xlink:href=\"#DejaVuSans-115\"/>\r\n      <use x=\"141.064453\" xlink:href=\"#DejaVuSans-115\"/>\r\n     </g>\r\n    </g>\r\n   </g>\r\n   <g id=\"line2d_35\">\r\n    <path clip-path=\"url(#p214ca867bb)\" d=\"M 70.340961 20.380254 \r\nL 90.104833 151.569683 \r\nL 109.868706 180.30285 \r\nL 129.632578 193.597559 \r\nL 149.396451 200.782237 \r\nL 169.160323 205.893848 \r\nL 188.924196 208.958573 \r\nL 208.688068 212.069725 \r\nL 228.451941 212.890006 \r\nL 248.215813 214.409243 \r\nL 267.979686 214.769478 \r\nL 287.743558 215.113573 \r\nL 307.507431 218.052981 \r\nL 327.271303 216.893296 \r\nL 347.035176 216.165416 \r\n\" style=\"fill:none;stroke:#4682b4;stroke-linecap:square;stroke-width:1.5;\"/>\r\n   </g>\r\n   <g id=\"patch_3\">\r\n    <path d=\"M 56.50625 227.936618 \r\nL 56.50625 10.496618 \r\n\" style=\"fill:none;stroke:#000000;stroke-linecap:square;stroke-linejoin:miter;stroke-width:0.8;\"/>\r\n   </g>\r\n   <g id=\"patch_4\">\r\n    <path d=\"M 360.869886 227.936618 \r\nL 360.869886 10.496618 \r\n\" style=\"fill:none;stroke:#000000;stroke-linecap:square;stroke-linejoin:miter;stroke-width:0.8;\"/>\r\n   </g>\r\n   <g id=\"patch_5\">\r\n    <path d=\"M 56.50625 227.936618 \r\nL 360.869886 227.936618 \r\n\" style=\"fill:none;stroke:#000000;stroke-linecap:square;stroke-linejoin:miter;stroke-width:0.8;\"/>\r\n   </g>\r\n   <g id=\"patch_6\">\r\n    <path d=\"M 56.50625 10.496618 \r\nL 360.869886 10.496618 \r\n\" style=\"fill:none;stroke:#000000;stroke-linecap:square;stroke-linejoin:miter;stroke-width:0.8;\"/>\r\n   </g>\r\n  </g>\r\n  <g id=\"axes_2\">\r\n   <g id=\"patch_7\">\r\n    <path d=\"M 421.742614 227.936618 \r\nL 726.10625 227.936618 \r\nL 726.10625 10.496618 \r\nL 421.742614 10.496618 \r\nz\r\n\" style=\"fill:#ffffff;\"/>\r\n   </g>\r\n   <g id=\"matplotlib.axis_3\">\r\n    <g id=\"xtick_9\">\r\n     <g id=\"line2d_36\">\r\n      <path clip-path=\"url(#pe7526f78cc)\" d=\"M 435.577324 227.936618 \r\nL 435.577324 10.496618 \r\n\" style=\"fill:none;stroke:#b0b0b0;stroke-linecap:square;stroke-width:0.8;\"/>\r\n     </g>\r\n     <g id=\"line2d_37\">\r\n      <g>\r\n       <use style=\"stroke:#000000;stroke-width:0.8;\" x=\"435.577324\" xlink:href=\"#m87a776722b\" y=\"227.936618\"/>\r\n      </g>\r\n     </g>\r\n     <g id=\"text_20\">\r\n      <!-- 0 -->\r\n      <g transform=\"translate(432.396074 242.535055)scale(0.1 -0.1)\">\r\n       <use xlink:href=\"#DejaVuSans-48\"/>\r\n      </g>\r\n     </g>\r\n    </g>\r\n    <g id=\"xtick_10\">\r\n     <g id=\"line2d_38\">\r\n      <path clip-path=\"url(#pe7526f78cc)\" d=\"M 475.105069 227.936618 \r\nL 475.105069 10.496618 \r\n\" style=\"fill:none;stroke:#b0b0b0;stroke-linecap:square;stroke-width:0.8;\"/>\r\n     </g>\r\n     <g id=\"line2d_39\">\r\n      <g>\r\n       <use style=\"stroke:#000000;stroke-width:0.8;\" x=\"475.105069\" xlink:href=\"#m87a776722b\" y=\"227.936618\"/>\r\n      </g>\r\n     </g>\r\n     <g id=\"text_21\">\r\n      <!-- 2 -->\r\n      <g transform=\"translate(471.923819 242.535055)scale(0.1 -0.1)\">\r\n       <use xlink:href=\"#DejaVuSans-50\"/>\r\n      </g>\r\n     </g>\r\n    </g>\r\n    <g id=\"xtick_11\">\r\n     <g id=\"line2d_40\">\r\n      <path clip-path=\"url(#pe7526f78cc)\" d=\"M 514.632814 227.936618 \r\nL 514.632814 10.496618 \r\n\" style=\"fill:none;stroke:#b0b0b0;stroke-linecap:square;stroke-width:0.8;\"/>\r\n     </g>\r\n     <g id=\"line2d_41\">\r\n      <g>\r\n       <use style=\"stroke:#000000;stroke-width:0.8;\" x=\"514.632814\" xlink:href=\"#m87a776722b\" y=\"227.936618\"/>\r\n      </g>\r\n     </g>\r\n     <g id=\"text_22\">\r\n      <!-- 4 -->\r\n      <g transform=\"translate(511.451564 242.535055)scale(0.1 -0.1)\">\r\n       <use xlink:href=\"#DejaVuSans-52\"/>\r\n      </g>\r\n     </g>\r\n    </g>\r\n    <g id=\"xtick_12\">\r\n     <g id=\"line2d_42\">\r\n      <path clip-path=\"url(#pe7526f78cc)\" d=\"M 554.160559 227.936618 \r\nL 554.160559 10.496618 \r\n\" style=\"fill:none;stroke:#b0b0b0;stroke-linecap:square;stroke-width:0.8;\"/>\r\n     </g>\r\n     <g id=\"line2d_43\">\r\n      <g>\r\n       <use style=\"stroke:#000000;stroke-width:0.8;\" x=\"554.160559\" xlink:href=\"#m87a776722b\" y=\"227.936618\"/>\r\n      </g>\r\n     </g>\r\n     <g id=\"text_23\">\r\n      <!-- 6 -->\r\n      <g transform=\"translate(550.979309 242.535055)scale(0.1 -0.1)\">\r\n       <use xlink:href=\"#DejaVuSans-54\"/>\r\n      </g>\r\n     </g>\r\n    </g>\r\n    <g id=\"xtick_13\">\r\n     <g id=\"line2d_44\">\r\n      <path clip-path=\"url(#pe7526f78cc)\" d=\"M 593.688304 227.936618 \r\nL 593.688304 10.496618 \r\n\" style=\"fill:none;stroke:#b0b0b0;stroke-linecap:square;stroke-width:0.8;\"/>\r\n     </g>\r\n     <g id=\"line2d_45\">\r\n      <g>\r\n       <use style=\"stroke:#000000;stroke-width:0.8;\" x=\"593.688304\" xlink:href=\"#m87a776722b\" y=\"227.936618\"/>\r\n      </g>\r\n     </g>\r\n     <g id=\"text_24\">\r\n      <!-- 8 -->\r\n      <g transform=\"translate(590.507054 242.535055)scale(0.1 -0.1)\">\r\n       <use xlink:href=\"#DejaVuSans-56\"/>\r\n      </g>\r\n     </g>\r\n    </g>\r\n    <g id=\"xtick_14\">\r\n     <g id=\"line2d_46\">\r\n      <path clip-path=\"url(#pe7526f78cc)\" d=\"M 633.216049 227.936618 \r\nL 633.216049 10.496618 \r\n\" style=\"fill:none;stroke:#b0b0b0;stroke-linecap:square;stroke-width:0.8;\"/>\r\n     </g>\r\n     <g id=\"line2d_47\">\r\n      <g>\r\n       <use style=\"stroke:#000000;stroke-width:0.8;\" x=\"633.216049\" xlink:href=\"#m87a776722b\" y=\"227.936618\"/>\r\n      </g>\r\n     </g>\r\n     <g id=\"text_25\">\r\n      <!-- 10 -->\r\n      <g transform=\"translate(626.853549 242.535055)scale(0.1 -0.1)\">\r\n       <use xlink:href=\"#DejaVuSans-49\"/>\r\n       <use x=\"63.623047\" xlink:href=\"#DejaVuSans-48\"/>\r\n      </g>\r\n     </g>\r\n    </g>\r\n    <g id=\"xtick_15\">\r\n     <g id=\"line2d_48\">\r\n      <path clip-path=\"url(#pe7526f78cc)\" d=\"M 672.743794 227.936618 \r\nL 672.743794 10.496618 \r\n\" style=\"fill:none;stroke:#b0b0b0;stroke-linecap:square;stroke-width:0.8;\"/>\r\n     </g>\r\n     <g id=\"line2d_49\">\r\n      <g>\r\n       <use style=\"stroke:#000000;stroke-width:0.8;\" x=\"672.743794\" xlink:href=\"#m87a776722b\" y=\"227.936618\"/>\r\n      </g>\r\n     </g>\r\n     <g id=\"text_26\">\r\n      <!-- 12 -->\r\n      <g transform=\"translate(666.381294 242.535055)scale(0.1 -0.1)\">\r\n       <use xlink:href=\"#DejaVuSans-49\"/>\r\n       <use x=\"63.623047\" xlink:href=\"#DejaVuSans-50\"/>\r\n      </g>\r\n     </g>\r\n    </g>\r\n    <g id=\"xtick_16\">\r\n     <g id=\"line2d_50\">\r\n      <path clip-path=\"url(#pe7526f78cc)\" d=\"M 712.271539 227.936618 \r\nL 712.271539 10.496618 \r\n\" style=\"fill:none;stroke:#b0b0b0;stroke-linecap:square;stroke-width:0.8;\"/>\r\n     </g>\r\n     <g id=\"line2d_51\">\r\n      <g>\r\n       <use style=\"stroke:#000000;stroke-width:0.8;\" x=\"712.271539\" xlink:href=\"#m87a776722b\" y=\"227.936618\"/>\r\n      </g>\r\n     </g>\r\n     <g id=\"text_27\">\r\n      <!-- 14 -->\r\n      <g transform=\"translate(705.909039 242.535055)scale(0.1 -0.1)\">\r\n       <use xlink:href=\"#DejaVuSans-49\"/>\r\n       <use x=\"63.623047\" xlink:href=\"#DejaVuSans-52\"/>\r\n      </g>\r\n     </g>\r\n    </g>\r\n    <g id=\"text_28\">\r\n     <!-- epoch -->\r\n     <g transform=\"translate(558.696307 256.21318)scale(0.1 -0.1)\">\r\n      <use xlink:href=\"#DejaVuSans-101\"/>\r\n      <use x=\"61.523438\" xlink:href=\"#DejaVuSans-112\"/>\r\n      <use x=\"125\" xlink:href=\"#DejaVuSans-111\"/>\r\n      <use x=\"186.181641\" xlink:href=\"#DejaVuSans-99\"/>\r\n      <use x=\"241.162109\" xlink:href=\"#DejaVuSans-104\"/>\r\n     </g>\r\n    </g>\r\n   </g>\r\n   <g id=\"matplotlib.axis_4\">\r\n    <g id=\"ytick_10\">\r\n     <g id=\"line2d_52\">\r\n      <path clip-path=\"url(#pe7526f78cc)\" d=\"M 421.742614 212.022279 \r\nL 726.10625 212.022279 \r\n\" style=\"fill:none;stroke:#b0b0b0;stroke-linecap:square;stroke-width:0.8;\"/>\r\n     </g>\r\n     <g id=\"line2d_53\">\r\n      <g>\r\n       <use style=\"stroke:#000000;stroke-width:0.8;\" x=\"421.742614\" xlink:href=\"#m60266cd6c6\" y=\"212.022279\"/>\r\n      </g>\r\n     </g>\r\n     <g id=\"text_29\">\r\n      <!-- 0.94 -->\r\n      <g transform=\"translate(392.476989 215.821498)scale(0.1 -0.1)\">\r\n       <defs>\r\n        <path d=\"M 10.984375 1.515625 \r\nL 10.984375 10.5 \r\nQ 14.703125 8.734375 18.5 7.8125 \r\nQ 22.3125 6.890625 25.984375 6.890625 \r\nQ 35.75 6.890625 40.890625 13.453125 \r\nQ 46.046875 20.015625 46.78125 33.40625 \r\nQ 43.953125 29.203125 39.59375 26.953125 \r\nQ 35.25 24.703125 29.984375 24.703125 \r\nQ 19.046875 24.703125 12.671875 31.3125 \r\nQ 6.296875 37.9375 6.296875 49.421875 \r\nQ 6.296875 60.640625 12.9375 67.421875 \r\nQ 19.578125 74.21875 30.609375 74.21875 \r\nQ 43.265625 74.21875 49.921875 64.515625 \r\nQ 56.59375 54.828125 56.59375 36.375 \r\nQ 56.59375 19.140625 48.40625 8.859375 \r\nQ 40.234375 -1.421875 26.421875 -1.421875 \r\nQ 22.703125 -1.421875 18.890625 -0.6875 \r\nQ 15.09375 0.046875 10.984375 1.515625 \r\nz\r\nM 30.609375 32.421875 \r\nQ 37.25 32.421875 41.125 36.953125 \r\nQ 45.015625 41.5 45.015625 49.421875 \r\nQ 45.015625 57.28125 41.125 61.84375 \r\nQ 37.25 66.40625 30.609375 66.40625 \r\nQ 23.96875 66.40625 20.09375 61.84375 \r\nQ 16.21875 57.28125 16.21875 49.421875 \r\nQ 16.21875 41.5 20.09375 36.953125 \r\nQ 23.96875 32.421875 30.609375 32.421875 \r\nz\r\n\" id=\"DejaVuSans-57\"/>\r\n       </defs>\r\n       <use xlink:href=\"#DejaVuSans-48\"/>\r\n       <use x=\"63.623047\" xlink:href=\"#DejaVuSans-46\"/>\r\n       <use x=\"95.410156\" xlink:href=\"#DejaVuSans-57\"/>\r\n       <use x=\"159.033203\" xlink:href=\"#DejaVuSans-52\"/>\r\n      </g>\r\n     </g>\r\n    </g>\r\n    <g id=\"ytick_11\">\r\n     <g id=\"line2d_54\">\r\n      <path clip-path=\"url(#pe7526f78cc)\" d=\"M 421.742614 178.518436 \r\nL 726.10625 178.518436 \r\n\" style=\"fill:none;stroke:#b0b0b0;stroke-linecap:square;stroke-width:0.8;\"/>\r\n     </g>\r\n     <g id=\"line2d_55\">\r\n      <g>\r\n       <use style=\"stroke:#000000;stroke-width:0.8;\" x=\"421.742614\" xlink:href=\"#m60266cd6c6\" y=\"178.518436\"/>\r\n      </g>\r\n     </g>\r\n     <g id=\"text_30\">\r\n      <!-- 0.95 -->\r\n      <g transform=\"translate(392.476989 182.317655)scale(0.1 -0.1)\">\r\n       <use xlink:href=\"#DejaVuSans-48\"/>\r\n       <use x=\"63.623047\" xlink:href=\"#DejaVuSans-46\"/>\r\n       <use x=\"95.410156\" xlink:href=\"#DejaVuSans-57\"/>\r\n       <use x=\"159.033203\" xlink:href=\"#DejaVuSans-53\"/>\r\n      </g>\r\n     </g>\r\n    </g>\r\n    <g id=\"ytick_12\">\r\n     <g id=\"line2d_56\">\r\n      <path clip-path=\"url(#pe7526f78cc)\" d=\"M 421.742614 145.014592 \r\nL 726.10625 145.014592 \r\n\" style=\"fill:none;stroke:#b0b0b0;stroke-linecap:square;stroke-width:0.8;\"/>\r\n     </g>\r\n     <g id=\"line2d_57\">\r\n      <g>\r\n       <use style=\"stroke:#000000;stroke-width:0.8;\" x=\"421.742614\" xlink:href=\"#m60266cd6c6\" y=\"145.014592\"/>\r\n      </g>\r\n     </g>\r\n     <g id=\"text_31\">\r\n      <!-- 0.96 -->\r\n      <g transform=\"translate(392.476989 148.813811)scale(0.1 -0.1)\">\r\n       <use xlink:href=\"#DejaVuSans-48\"/>\r\n       <use x=\"63.623047\" xlink:href=\"#DejaVuSans-46\"/>\r\n       <use x=\"95.410156\" xlink:href=\"#DejaVuSans-57\"/>\r\n       <use x=\"159.033203\" xlink:href=\"#DejaVuSans-54\"/>\r\n      </g>\r\n     </g>\r\n    </g>\r\n    <g id=\"ytick_13\">\r\n     <g id=\"line2d_58\">\r\n      <path clip-path=\"url(#pe7526f78cc)\" d=\"M 421.742614 111.510749 \r\nL 726.10625 111.510749 \r\n\" style=\"fill:none;stroke:#b0b0b0;stroke-linecap:square;stroke-width:0.8;\"/>\r\n     </g>\r\n     <g id=\"line2d_59\">\r\n      <g>\r\n       <use style=\"stroke:#000000;stroke-width:0.8;\" x=\"421.742614\" xlink:href=\"#m60266cd6c6\" y=\"111.510749\"/>\r\n      </g>\r\n     </g>\r\n     <g id=\"text_32\">\r\n      <!-- 0.97 -->\r\n      <g transform=\"translate(392.476989 115.309968)scale(0.1 -0.1)\">\r\n       <use xlink:href=\"#DejaVuSans-48\"/>\r\n       <use x=\"63.623047\" xlink:href=\"#DejaVuSans-46\"/>\r\n       <use x=\"95.410156\" xlink:href=\"#DejaVuSans-57\"/>\r\n       <use x=\"159.033203\" xlink:href=\"#DejaVuSans-55\"/>\r\n      </g>\r\n     </g>\r\n    </g>\r\n    <g id=\"ytick_14\">\r\n     <g id=\"line2d_60\">\r\n      <path clip-path=\"url(#pe7526f78cc)\" d=\"M 421.742614 78.006906 \r\nL 726.10625 78.006906 \r\n\" style=\"fill:none;stroke:#b0b0b0;stroke-linecap:square;stroke-width:0.8;\"/>\r\n     </g>\r\n     <g id=\"line2d_61\">\r\n      <g>\r\n       <use style=\"stroke:#000000;stroke-width:0.8;\" x=\"421.742614\" xlink:href=\"#m60266cd6c6\" y=\"78.006906\"/>\r\n      </g>\r\n     </g>\r\n     <g id=\"text_33\">\r\n      <!-- 0.98 -->\r\n      <g transform=\"translate(392.476989 81.806124)scale(0.1 -0.1)\">\r\n       <use xlink:href=\"#DejaVuSans-48\"/>\r\n       <use x=\"63.623047\" xlink:href=\"#DejaVuSans-46\"/>\r\n       <use x=\"95.410156\" xlink:href=\"#DejaVuSans-57\"/>\r\n       <use x=\"159.033203\" xlink:href=\"#DejaVuSans-56\"/>\r\n      </g>\r\n     </g>\r\n    </g>\r\n    <g id=\"ytick_15\">\r\n     <g id=\"line2d_62\">\r\n      <path clip-path=\"url(#pe7526f78cc)\" d=\"M 421.742614 44.503062 \r\nL 726.10625 44.503062 \r\n\" style=\"fill:none;stroke:#b0b0b0;stroke-linecap:square;stroke-width:0.8;\"/>\r\n     </g>\r\n     <g id=\"line2d_63\">\r\n      <g>\r\n       <use style=\"stroke:#000000;stroke-width:0.8;\" x=\"421.742614\" xlink:href=\"#m60266cd6c6\" y=\"44.503062\"/>\r\n      </g>\r\n     </g>\r\n     <g id=\"text_34\">\r\n      <!-- 0.99 -->\r\n      <g transform=\"translate(392.476989 48.302281)scale(0.1 -0.1)\">\r\n       <use xlink:href=\"#DejaVuSans-48\"/>\r\n       <use x=\"63.623047\" xlink:href=\"#DejaVuSans-46\"/>\r\n       <use x=\"95.410156\" xlink:href=\"#DejaVuSans-57\"/>\r\n       <use x=\"159.033203\" xlink:href=\"#DejaVuSans-57\"/>\r\n      </g>\r\n     </g>\r\n    </g>\r\n    <g id=\"ytick_16\">\r\n     <g id=\"line2d_64\">\r\n      <path clip-path=\"url(#pe7526f78cc)\" d=\"M 421.742614 10.999219 \r\nL 726.10625 10.999219 \r\n\" style=\"fill:none;stroke:#b0b0b0;stroke-linecap:square;stroke-width:0.8;\"/>\r\n     </g>\r\n     <g id=\"line2d_65\">\r\n      <g>\r\n       <use style=\"stroke:#000000;stroke-width:0.8;\" x=\"421.742614\" xlink:href=\"#m60266cd6c6\" y=\"10.999219\"/>\r\n      </g>\r\n     </g>\r\n     <g id=\"text_35\">\r\n      <!-- 1.00 -->\r\n      <g transform=\"translate(392.476989 14.798437)scale(0.1 -0.1)\">\r\n       <use xlink:href=\"#DejaVuSans-49\"/>\r\n       <use x=\"63.623047\" xlink:href=\"#DejaVuSans-46\"/>\r\n       <use x=\"95.410156\" xlink:href=\"#DejaVuSans-48\"/>\r\n       <use x=\"159.033203\" xlink:href=\"#DejaVuSans-48\"/>\r\n      </g>\r\n     </g>\r\n    </g>\r\n    <g id=\"text_36\">\r\n     <!-- accuracy -->\r\n     <g transform=\"translate(386.397301 141.775993)rotate(-90)scale(0.1 -0.1)\">\r\n      <defs>\r\n       <path d=\"M 34.28125 27.484375 \r\nQ 23.390625 27.484375 19.1875 25 \r\nQ 14.984375 22.515625 14.984375 16.5 \r\nQ 14.984375 11.71875 18.140625 8.90625 \r\nQ 21.296875 6.109375 26.703125 6.109375 \r\nQ 34.1875 6.109375 38.703125 11.40625 \r\nQ 43.21875 16.703125 43.21875 25.484375 \r\nL 43.21875 27.484375 \r\nz\r\nM 52.203125 31.203125 \r\nL 52.203125 0 \r\nL 43.21875 0 \r\nL 43.21875 8.296875 \r\nQ 40.140625 3.328125 35.546875 0.953125 \r\nQ 30.953125 -1.421875 24.3125 -1.421875 \r\nQ 15.921875 -1.421875 10.953125 3.296875 \r\nQ 6 8.015625 6 15.921875 \r\nQ 6 25.140625 12.171875 29.828125 \r\nQ 18.359375 34.515625 30.609375 34.515625 \r\nL 43.21875 34.515625 \r\nL 43.21875 35.40625 \r\nQ 43.21875 41.609375 39.140625 45 \r\nQ 35.0625 48.390625 27.6875 48.390625 \r\nQ 23 48.390625 18.546875 47.265625 \r\nQ 14.109375 46.140625 10.015625 43.890625 \r\nL 10.015625 52.203125 \r\nQ 14.9375 54.109375 19.578125 55.046875 \r\nQ 24.21875 56 28.609375 56 \r\nQ 40.484375 56 46.34375 49.84375 \r\nQ 52.203125 43.703125 52.203125 31.203125 \r\nz\r\n\" id=\"DejaVuSans-97\"/>\r\n       <path d=\"M 8.5 21.578125 \r\nL 8.5 54.6875 \r\nL 17.484375 54.6875 \r\nL 17.484375 21.921875 \r\nQ 17.484375 14.15625 20.5 10.265625 \r\nQ 23.53125 6.390625 29.59375 6.390625 \r\nQ 36.859375 6.390625 41.078125 11.03125 \r\nQ 45.3125 15.671875 45.3125 23.6875 \r\nL 45.3125 54.6875 \r\nL 54.296875 54.6875 \r\nL 54.296875 0 \r\nL 45.3125 0 \r\nL 45.3125 8.40625 \r\nQ 42.046875 3.421875 37.71875 1 \r\nQ 33.40625 -1.421875 27.6875 -1.421875 \r\nQ 18.265625 -1.421875 13.375 4.4375 \r\nQ 8.5 10.296875 8.5 21.578125 \r\nz\r\nM 31.109375 56 \r\nz\r\n\" id=\"DejaVuSans-117\"/>\r\n       <path d=\"M 41.109375 46.296875 \r\nQ 39.59375 47.171875 37.8125 47.578125 \r\nQ 36.03125 48 33.890625 48 \r\nQ 26.265625 48 22.1875 43.046875 \r\nQ 18.109375 38.09375 18.109375 28.8125 \r\nL 18.109375 0 \r\nL 9.078125 0 \r\nL 9.078125 54.6875 \r\nL 18.109375 54.6875 \r\nL 18.109375 46.1875 \r\nQ 20.953125 51.171875 25.484375 53.578125 \r\nQ 30.03125 56 36.53125 56 \r\nQ 37.453125 56 38.578125 55.875 \r\nQ 39.703125 55.765625 41.0625 55.515625 \r\nz\r\n\" id=\"DejaVuSans-114\"/>\r\n       <path d=\"M 32.171875 -5.078125 \r\nQ 28.375 -14.84375 24.75 -17.8125 \r\nQ 21.140625 -20.796875 15.09375 -20.796875 \r\nL 7.90625 -20.796875 \r\nL 7.90625 -13.28125 \r\nL 13.1875 -13.28125 \r\nQ 16.890625 -13.28125 18.9375 -11.515625 \r\nQ 21 -9.765625 23.484375 -3.21875 \r\nL 25.09375 0.875 \r\nL 2.984375 54.6875 \r\nL 12.5 54.6875 \r\nL 29.59375 11.921875 \r\nL 46.6875 54.6875 \r\nL 56.203125 54.6875 \r\nz\r\n\" id=\"DejaVuSans-121\"/>\r\n      </defs>\r\n      <use xlink:href=\"#DejaVuSans-97\"/>\r\n      <use x=\"61.279297\" xlink:href=\"#DejaVuSans-99\"/>\r\n      <use x=\"116.259766\" xlink:href=\"#DejaVuSans-99\"/>\r\n      <use x=\"171.240234\" xlink:href=\"#DejaVuSans-117\"/>\r\n      <use x=\"234.619141\" xlink:href=\"#DejaVuSans-114\"/>\r\n      <use x=\"275.732422\" xlink:href=\"#DejaVuSans-97\"/>\r\n      <use x=\"337.011719\" xlink:href=\"#DejaVuSans-99\"/>\r\n      <use x=\"391.992188\" xlink:href=\"#DejaVuSans-121\"/>\r\n     </g>\r\n    </g>\r\n   </g>\r\n   <g id=\"line2d_66\">\r\n    <path clip-path=\"url(#pe7526f78cc)\" d=\"M 435.577324 218.052981 \r\nL 455.341197 89.956598 \r\nL 475.105069 61.701661 \r\nL 494.868942 46.848289 \r\nL 514.632814 40.650048 \r\nL 534.396687 34.228544 \r\nL 554.160559 30.766571 \r\nL 573.924432 27.974587 \r\nL 593.688304 26.801958 \r\nL 613.452177 24.56833 \r\nL 633.216049 24.456499 \r\nL 652.979922 23.395701 \r\nL 672.743794 20.380254 \r\nL 692.507667 22.557966 \r\nL 712.271539 23.674879 \r\n\" style=\"fill:none;stroke:#fa8072;stroke-linecap:square;stroke-width:1.5;\"/>\r\n   </g>\r\n   <g id=\"patch_8\">\r\n    <path d=\"M 421.742614 227.936618 \r\nL 421.742614 10.496618 \r\n\" style=\"fill:none;stroke:#000000;stroke-linecap:square;stroke-linejoin:miter;stroke-width:0.8;\"/>\r\n   </g>\r\n   <g id=\"patch_9\">\r\n    <path d=\"M 726.10625 227.936618 \r\nL 726.10625 10.496618 \r\n\" style=\"fill:none;stroke:#000000;stroke-linecap:square;stroke-linejoin:miter;stroke-width:0.8;\"/>\r\n   </g>\r\n   <g id=\"patch_10\">\r\n    <path d=\"M 421.742614 227.936618 \r\nL 726.10625 227.936618 \r\n\" style=\"fill:none;stroke:#000000;stroke-linecap:square;stroke-linejoin:miter;stroke-width:0.8;\"/>\r\n   </g>\r\n   <g id=\"patch_11\">\r\n    <path d=\"M 421.742614 10.496618 \r\nL 726.10625 10.496618 \r\n\" style=\"fill:none;stroke:#000000;stroke-linecap:square;stroke-linejoin:miter;stroke-width:0.8;\"/>\r\n   </g>\r\n  </g>\r\n </g>\r\n <defs>\r\n  <clipPath id=\"p214ca867bb\">\r\n   <rect height=\"217.44\" width=\"304.363636\" x=\"56.50625\" y=\"10.496618\"/>\r\n  </clipPath>\r\n  <clipPath id=\"pe7526f78cc\">\r\n   <rect height=\"217.44\" width=\"304.363636\" x=\"421.742614\" y=\"10.496618\"/>\r\n  </clipPath>\r\n </defs>\r\n</svg>\r\n",
      "image/png": "[encoded data removed]"
     },
     "metadata": {
      "needs_background": "light"
     }
    }
   ],
   "source": [
    "_, axes = plt.subplots(1, 2, figsize=(12, 4))\n",
    "\n",
    "axes[0].plot(\n",
    "    history.epoch,\n",
    "    history.history['loss'],\n",
    "    color='steelblue'\n",
    ")\n",
    "axes[0].set_ylabel('loss')\n",
    "axes[0].set_xlabel('epoch')\n",
    "axes[0].grid(True)\n",
    "\n",
    "axes[1].plot(\n",
    "    history.epoch,\n",
    "    history.history['accuracy'],\n",
    "    color='salmon'\n",
    ")\n",
    "axes[1].set_ylabel('accuracy')\n",
    "axes[1].set_xlabel('epoch')\n",
    "axes[1].grid(True)\n",
    "\n",
    "plt.show();"
   ],
   "metadata": {
    "collapsed": false,
    "pycharm": {
     "name": "#%%\n"
    }
   }
  },
  {
   "cell_type": "markdown",
   "source": [
    "Получить loss и accuracy для тестовой выборки"
   ],
   "metadata": {
    "collapsed": false,
    "pycharm": {
     "name": "#%% md\n"
    }
   }
  },
  {
   "cell_type": "code",
   "execution_count": 13,
   "outputs": [
    {
     "output_type": "stream",
     "name": "stdout",
     "text": [
      "313/313 [==============================] - 1s 3ms/step - loss: 0.0779 - accuracy: 0.9821\n",
      "Test loss: 0.07786726206541061\n",
      "Test accuracy: 0.9821000099182129\n"
     ]
    }
   ],
   "source": [
    "score = model.evaluate(x_test, y_test)\n",
    "print(f\"Test loss: {score[0]}\\nTest accuracy: {score[1]}\")"
   ],
   "metadata": {
    "collapsed": false,
    "pycharm": {
     "name": "#%%\n"
    }
   }
  },
  {
   "cell_type": "markdown",
   "source": [
    "Сохранить и загрузить веса нейронной сети"
   ],
   "metadata": {
    "collapsed": false,
    "pycharm": {
     "name": "#%% md\n"
    }
   }
  },
  {
   "cell_type": "code",
   "execution_count": 14,
   "outputs": [],
   "source": [
    "path = Path.home() / 'aiu-01-mnist-ultra-light-model.h5'\n",
    "\n",
    "model.save_weights(path)\n",
    "model.load_weights(path)"
   ],
   "metadata": {
    "collapsed": false,
    "pycharm": {
     "name": "#%%\n"
    }
   }
  },
  {
   "cell_type": "markdown",
   "source": [
    "## Распознавание рукописных цифр"
   ],
   "metadata": {
    "collapsed": false,
    "pycharm": {
     "name": "#%% md\n"
    }
   }
  },
  {
   "cell_type": "code",
   "execution_count": 15,
   "outputs": [
    {
     "output_type": "display_data",
     "data": {
      "text/plain": "<Figure size 432x288 with 1 Axes>",
      "image/svg+xml": "<?xml version=\"1.0\" encoding=\"utf-8\" standalone=\"no\"?>\r\n<!DOCTYPE svg PUBLIC \"-//W3C//DTD SVG 1.1//EN\"\r\n  \"http://www.w3.org/Graphics/SVG/1.1/DTD/svg11.dtd\">\r\n<!-- Created with matplotlib (https://matplotlib.org/) -->\r\n<svg height=\"246.958125pt\" version=\"1.1\" viewBox=\"0 0 231.84 246.958125\" width=\"231.84pt\" xmlns=\"http://www.w3.org/2000/svg\" xmlns:xlink=\"http://www.w3.org/1999/xlink\">\r\n <metadata>\r\n  <rdf:RDF xmlns:cc=\"http://creativecommons.org/ns#\" xmlns:dc=\"http://purl.org/dc/elements/1.1/\" xmlns:rdf=\"http://www.w3.org/1999/02/22-rdf-syntax-ns#\">\r\n   <cc:Work>\r\n    <dc:type rdf:resource=\"http://purl.org/dc/dcmitype/StillImage\"/>\r\n    <dc:date>2020-10-14T23:42:55.203867</dc:date>\r\n    <dc:format>image/svg+xml</dc:format>\r\n    <dc:creator>\r\n     <cc:Agent>\r\n      <dc:title>Matplotlib v3.3.2, https://matplotlib.org/</dc:title>\r\n     </cc:Agent>\r\n    </dc:creator>\r\n   </cc:Work>\r\n  </rdf:RDF>\r\n </metadata>\r\n <defs>\r\n  <style type=\"text/css\">*{stroke-linecap:butt;stroke-linejoin:round;}</style>\r\n </defs>\r\n <g id=\"figure_1\">\r\n  <g id=\"patch_1\">\r\n   <path d=\"M 0 246.958125 \r\nL 231.84 246.958125 \r\nL 231.84 0 \r\nL 0 0 \r\nz\r\n\" style=\"fill:none;\"/>\r\n  </g>\r\n  <g id=\"axes_1\">\r\n   <g clip-path=\"url(#p7fb33d7117)\">\r\n    <image height=\"218\" id=\"image5b4a3a9707\" transform=\"scale(1 -1)translate(0 -218)\" width=\"218\" x=\"7.2\" xlink:href=\"data:image/png;base64,\r\niVBORw0KGgoAAAANSUhEUgAAANoAAADaCAYAAADAHVzbAAAFb0lEQVR4nO3dT4iNexzH8WduN/8WSs2Ckj+zkZRCUTYWspGFZKEs1JSysxSlWIxsLMnCQlNEKX+SjaZoNoosLCys7KYRjZCVMXd1V9fzPXfOnPkc5rxe209P8yu9+9V5Os5Q0zRzDbCo/ur3AWAQCA0ChAYBQoMAoUGA0CBAaBAgNAgQGgQIDQKEBgFCgwChQYDQIEBoECA0CBAaBAgNAoQGAUKDAKFBgNAgQGgQIDQIEBoECA0ChAYBQoMAoUGA0CBAaBAgNAgQGgQIDQKEBgFCgwChQYDQIODvfh8A/rV58+ZyP3jwYLm/efOm3CcnJ+d9pl5xo0GA0CBAaBAgNAgQGgQIDQKEBgHeozEvq1evLvdDhw6V++joaOu2Z8+e8tlVq1aV+7t378p969at5b6Y3GgQIDQIEBoECA0ChAYBQoMAoUGA92gt1qxZU+779u0r96mpqdbt7du3XZ3p/9q+fXu5Hz58uOtnd+zYUe7Dw8Pl/v3799btzp075bN3794t99evX5d7P7nRIEBoECA0CBAaBAgNAoQGAUNN08z1+xC/o927d5f7ixcvQif5r6GhoXKfm1u8f9KXL1+W+/j4eLnfvn27dZuZmenqTH8CNxoECA0ChAYBQoMAoUGA0CBAaBDgazItqq+5NE3TvHr1qtx37drVy+PMy8ePH8v96tWrrdv9+/fLZzv9NBK/5kaDAKFBgNAgQGgQIDQIEBoECA0CfB+tS8uWLSv3nTt3tm5Hjx4tn+20b9iwodxnZ2fL/cCBA63bs2fPymfpjhsNAoQGAUKDAKFBgNAgQGgQIDQI8B7tN7RixYpyP3nyZLmPjY2V+9evX1u3Tj/L9OHDh3Ln19xoECA0CBAaBAgNAoQGAUKDAB/vL0H79+8v90ePHrVuN27cKJ89ffp0V2cadG40CBAaBAgNAoQGAUKDAKFBgNAgwM82LUETExPlfu3atdZtZGSk18ehcaNBhNAgQGgQIDQIEBoECA0ChAYB3qMNoMePH7duV65cCZ5kcLjRIEBoECA0CBAaBAgNAoQGAUKDAO/RBtDU1FTrtm7duuBJBocbDQKEBgFCgwChQYDQIEBoECA0COjre7Th4eFy//HjR7l//vy5h6cZHOfOnWvdfB9tcbjRIEBoECA0CBAaBAgNAoQGAX39eP/58+flvnLlynI/ceJE6zY5OdnVmZaCtWvXlvuRI0datydPnvT6ODRuNIgQGgQIDQKEBgFCgwChQYDQIKCv79G2bdtW7qdOnSr3p0+ftm4XLlwon718+XK5/8lGRkbK/efPn63bxMREr49D40aDCKFBgNAgQGgQIDQIEBoECA0Cfuufbbp+/Xq5V9+7Onv2bPnsxo0by/3MmTPl/uXLl3Lvp4sXL5b7+Ph46/bp06deH4fGjQYRQoMAoUGA0CBAaBAgNAgQGgQMNU0z1+9DLIa9e/eW+8OHD8t9enq63O/du1fuN2/ebN3ev39fPtvJpUuXyv348ePlXn0P8Nu3b12diZobDQKEBgFCgwChQYDQIEBoECA0CFiy79E62bRpU7mfP3++3I8dO1bu1f+dODMzUz7byfr168u909nHxsYW9PeZPzcaBAgNAoQGAUKDAKFBgNAgYGA/3l+oLVu2lHv1s1HLly9f0N9+8OBBud+6davcZ2dnF/T3mT83GgQIDQKEBgFCgwChQYDQIEBoEOA9GgS40SBAaBAgNAgQGgQIDQKEBgFCgwChQYDQIEBoECA0CBAaBAgNAoQGAUKDAKFBgNAgQGgQIDQIEBoECA0ChAYBQoMAoUGA0CBAaBAgNAgQGgQIDQKEBgFCgwChQYDQIEBoECA0CBAaBAgNAoQGAf8AHgG94fMKgjoAAAAASUVORK5CYII=\" y=\"-21.758125\"/>\r\n   </g>\r\n   <g id=\"text_1\">\r\n    <!-- 2 -->\r\n    <g transform=\"translate(112.1025 16.318125)scale(0.12 -0.12)\">\r\n     <defs>\r\n      <path d=\"M 19.1875 8.296875 \r\nL 53.609375 8.296875 \r\nL 53.609375 0 \r\nL 7.328125 0 \r\nL 7.328125 8.296875 \r\nQ 12.9375 14.109375 22.625 23.890625 \r\nQ 32.328125 33.6875 34.8125 36.53125 \r\nQ 39.546875 41.84375 41.421875 45.53125 \r\nQ 43.3125 49.21875 43.3125 52.78125 \r\nQ 43.3125 58.59375 39.234375 62.25 \r\nQ 35.15625 65.921875 28.609375 65.921875 \r\nQ 23.96875 65.921875 18.8125 64.3125 \r\nQ 13.671875 62.703125 7.8125 59.421875 \r\nL 7.8125 69.390625 \r\nQ 13.765625 71.78125 18.9375 73 \r\nQ 24.125 74.21875 28.421875 74.21875 \r\nQ 39.75 74.21875 46.484375 68.546875 \r\nQ 53.21875 62.890625 53.21875 53.421875 \r\nQ 53.21875 48.921875 51.53125 44.890625 \r\nQ 49.859375 40.875 45.40625 35.40625 \r\nQ 44.1875 33.984375 37.640625 27.21875 \r\nQ 31.109375 20.453125 19.1875 8.296875 \r\nz\r\n\" id=\"DejaVuSans-50\"/>\r\n     </defs>\r\n     <use xlink:href=\"#DejaVuSans-50\"/>\r\n    </g>\r\n   </g>\r\n  </g>\r\n </g>\r\n <defs>\r\n  <clipPath id=\"p7fb33d7117\">\r\n   <rect height=\"217.44\" width=\"217.44\" x=\"7.2\" y=\"22.318125\"/>\r\n  </clipPath>\r\n </defs>\r\n</svg>\r\n",
      "image/png": "[encoded data removed]"
     },
     "metadata": {
      "needs_background": "light"
     }
    }
   ],
   "source": [
    "n_rec = 387\n",
    "\n",
    "plt.imshow(Image.fromarray(x_test_org[n_rec]).convert('RGB'))\n",
    "\n",
    "plt.title(str(y_test_org[n_rec]))\n",
    "plt.axis('off')\n",
    "\n",
    "plt.show();"
   ],
   "metadata": {
    "collapsed": false,
    "pycharm": {
     "name": "#%%\n"
    }
   }
  },
  {
   "cell_type": "markdown",
   "source": [
    "Выбрать изображение из тестовой выборки"
   ],
   "metadata": {
    "collapsed": false,
    "pycharm": {
     "name": "#%% md\n"
    }
   }
  },
  {
   "cell_type": "code",
   "execution_count": 16,
   "outputs": [
    {
     "output_type": "stream",
     "name": "stdout",
     "text": [
      "(784,)\n"
     ]
    }
   ],
   "source": [
    "x = x_test[n_rec]\n",
    "print(x.shape)"
   ],
   "metadata": {
    "collapsed": false,
    "pycharm": {
     "name": "#%%\n"
    }
   }
  },
  {
   "cell_type": "markdown",
   "source": [
    "Добавить дополнительную размерность"
   ],
   "metadata": {
    "collapsed": false,
    "pycharm": {
     "name": "#%% md\n"
    }
   }
  },
  {
   "cell_type": "code",
   "execution_count": 17,
   "outputs": [
    {
     "output_type": "stream",
     "name": "stdout",
     "text": [
      "(1, 784)\n"
     ]
    }
   ],
   "source": [
    "x = np.expand_dims(x, axis=0)\n",
    "print(x.shape)"
   ],
   "metadata": {
    "collapsed": false,
    "pycharm": {
     "name": "#%%\n"
    }
   }
  },
  {
   "cell_type": "markdown",
   "source": [
    "Распознать пример"
   ],
   "metadata": {
    "collapsed": false,
    "pycharm": {
     "name": "#%% md\n"
    }
   }
  },
  {
   "cell_type": "code",
   "execution_count": 18,
   "outputs": [
    {
     "output_type": "stream",
     "name": "stdout",
     "text": [
      "[[1.6661818e-10 6.3051289e-08 9.9999976e-01 1.5023822e-07 7.1624577e-14\n  5.6112784e-12 6.4197106e-11 4.6665324e-08 3.5383817e-08 6.5899299e-13]], 1.0000000571572294\n"
     ]
    }
   ],
   "source": [
    "prediction = model.predict(x)\n",
    "print(f\"{prediction}, {sum(prediction[0])}\")"
   ],
   "metadata": {
    "collapsed": false,
    "pycharm": {
     "name": "#%%\n"
    }
   }
  },
  {
   "cell_type": "markdown",
   "source": [
    "Интерпретировать результат предсказания"
   ],
   "metadata": {
    "collapsed": false,
    "pycharm": {
     "name": "#%% md\n"
    }
   }
  },
  {
   "cell_type": "code",
   "execution_count": 19,
   "outputs": [
    {
     "output_type": "stream",
     "name": "stdout",
     "text": [
      "2\n"
     ]
    }
   ],
   "source": [
    "print(np.argmax(prediction))"
   ],
   "metadata": {
    "collapsed": false,
    "pycharm": {
     "name": "#%%\n"
    }
   }
  },
  {
   "cell_type": "markdown",
   "source": [
    "Вывести правильное значение для сравнения"
   ],
   "metadata": {
    "collapsed": false,
    "pycharm": {
     "name": "#%% md\n"
    }
   }
  },
  {
   "cell_type": "code",
   "execution_count": 20,
   "outputs": [
    {
     "output_type": "stream",
     "name": "stdout",
     "text": [
      "2\n"
     ]
    }
   ],
   "source": [
    "print(y_test_org[n_rec])"
   ],
   "metadata": {
    "collapsed": false,
    "pycharm": {
     "name": "#%%\n"
    }
   }
  }
 ],
 "metadata": {
  "kernelspec": {
   "name": "aiu-tasks",
   "language": "python",
   "display_name": "aiu-tasks"
  },
  "language_info": {
   "codemirror_mode": {
    "name": "ipython",
    "version": 2
   },
   "file_extension": ".py",
   "mimetype": "text/x-python",
   "name": "python",
   "nbconvert_exporter": "python",
   "pygments_lexer": "ipython2",
   "version": "3.7.8-final"
  }
 },
 "nbformat": 4,
 "nbformat_minor": 0
}