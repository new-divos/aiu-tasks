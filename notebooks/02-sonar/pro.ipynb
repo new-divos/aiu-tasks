{
 "metadata": {
  "language_info": {
   "codemirror_mode": {
    "name": "ipython",
    "version": 3
   },
   "file_extension": ".py",
   "mimetype": "text/x-python",
   "name": "python",
   "nbconvert_exporter": "python",
   "pygments_lexer": "ipython3",
   "version": "3.7.8-final"
  },
  "orig_nbformat": 2,
  "kernelspec": {
   "name": "Python 3.7.8 64-bit",
   "display_name": "Python 3.7.8 64-bit",
   "metadata": {
    "interpreter": {
     "hash": "3da247aacc0923d0223a98e608689674365be35e9cd753da5985c59cd0db9916"
    }
   }
  }
 },
 "nbformat": 4,
 "nbformat_minor": 2,
 "cells": [
  {
   "source": [
    "# Построение оптимальной модели для обнаружения мин"
   ],
   "cell_type": "markdown",
   "metadata": {}
  },
  {
   "source": [
    "**Повысьте точность модели по обнаружению мин до 90 % на тестовой выборке.**\n",
    "\n",
    "Можно использовать различные варианты слоев Dropout и BatchNormalization. Можно менять количество примеров в обучающей и проверочной выборках, но нельзя менять количество примеров в тестовой."
   ],
   "cell_type": "markdown",
   "metadata": {}
  },
  {
   "cell_type": "code",
   "execution_count": 1,
   "metadata": {},
   "outputs": [],
   "source": [
    "from pathlib import Path\n",
    "import sys\n",
    "from typing import Tuple\n",
    "\n",
    "import numpy as np\n",
    "import pandas as pd\n",
    "from sklearn.model_selection import train_test_split\n",
    "\n",
    "from tensorflow.keras.models import Sequential\n",
    "from tensorflow.keras.layers import Dense, Activation, Dropout, BatchNormalization\n",
    "from tensorflow.keras.optimizers import Adam\n",
    "\n",
    "from tqdm import tqdm\n",
    "\n",
    "from matplotlib import pyplot as plt\n",
    "%matplotlib inline"
   ]
  },
  {
   "cell_type": "code",
   "execution_count": 2,
   "metadata": {},
   "outputs": [],
   "source": [
    "try:\n",
    "    from collections.abc import Iterable\n",
    "except ImportError:\n",
    "    from collections import Iterable"
   ]
  },
  {
   "source": [
    "Задать количество эпох для обучения."
   ],
   "cell_type": "markdown",
   "metadata": {}
  },
  {
   "cell_type": "code",
   "execution_count": 3,
   "metadata": {},
   "outputs": [],
   "source": [
    "EPOCHS = 100"
   ]
  },
  {
   "source": [
    "## Подготовка данных"
   ],
   "cell_type": "markdown",
   "metadata": {}
  },
  {
   "source": [
    "Определить путь для загрузки датасета."
   ],
   "cell_type": "markdown",
   "metadata": {}
  },
  {
   "cell_type": "code",
   "execution_count": 4,
   "metadata": {},
   "outputs": [],
   "source": [
    "path = Path.cwd().parent.parent / 'data' / 'datasets' / '02-sonar' / 'sonar.csv'"
   ]
  },
  {
   "source": [
    "Выполнить загрузку датасета."
   ],
   "cell_type": "markdown",
   "metadata": {}
  },
  {
   "cell_type": "code",
   "execution_count": 5,
   "metadata": {},
   "outputs": [
    {
     "output_type": "execute_result",
     "data": {
      "text/plain": [
       "       0       1       2       3       4       5       6       7       8   \\\n",
       "0  0.0200  0.0371  0.0428  0.0207  0.0954  0.0986  0.1539  0.1601  0.3109   \n",
       "1  0.0453  0.0523  0.0843  0.0689  0.1183  0.2583  0.2156  0.3481  0.3337   \n",
       "2  0.0262  0.0582  0.1099  0.1083  0.0974  0.2280  0.2431  0.3771  0.5598   \n",
       "3  0.0100  0.0171  0.0623  0.0205  0.0205  0.0368  0.1098  0.1276  0.0598   \n",
       "4  0.0762  0.0666  0.0481  0.0394  0.0590  0.0649  0.1209  0.2467  0.3564   \n",
       "\n",
       "       9   ...      51      52      53      54      55      56      57  \\\n",
       "0  0.2111  ...  0.0027  0.0065  0.0159  0.0072  0.0167  0.0180  0.0084   \n",
       "1  0.2872  ...  0.0084  0.0089  0.0048  0.0094  0.0191  0.0140  0.0049   \n",
       "2  0.6194  ...  0.0232  0.0166  0.0095  0.0180  0.0244  0.0316  0.0164   \n",
       "3  0.1264  ...  0.0121  0.0036  0.0150  0.0085  0.0073  0.0050  0.0044   \n",
       "4  0.4459  ...  0.0031  0.0054  0.0105  0.0110  0.0015  0.0072  0.0048   \n",
       "\n",
       "       58      59  60  \n",
       "0  0.0090  0.0032   R  \n",
       "1  0.0052  0.0044   R  \n",
       "2  0.0095  0.0078   R  \n",
       "3  0.0040  0.0117   R  \n",
       "4  0.0107  0.0094   R  \n",
       "\n",
       "[5 rows x 61 columns]"
      ],
      "text/html": "<div>\n<style scoped>\n    .dataframe tbody tr th:only-of-type {\n        vertical-align: middle;\n    }\n\n    .dataframe tbody tr th {\n        vertical-align: top;\n    }\n\n    .dataframe thead th {\n        text-align: right;\n    }\n</style>\n<table border=\"1\" class=\"dataframe\">\n  <thead>\n    <tr style=\"text-align: right;\">\n      <th></th>\n      <th>0</th>\n      <th>1</th>\n      <th>2</th>\n      <th>3</th>\n      <th>4</th>\n      <th>5</th>\n      <th>6</th>\n      <th>7</th>\n      <th>8</th>\n      <th>9</th>\n      <th>...</th>\n      <th>51</th>\n      <th>52</th>\n      <th>53</th>\n      <th>54</th>\n      <th>55</th>\n      <th>56</th>\n      <th>57</th>\n      <th>58</th>\n      <th>59</th>\n      <th>60</th>\n    </tr>\n  </thead>\n  <tbody>\n    <tr>\n      <th>0</th>\n      <td>0.0200</td>\n      <td>0.0371</td>\n      <td>0.0428</td>\n      <td>0.0207</td>\n      <td>0.0954</td>\n      <td>0.0986</td>\n      <td>0.1539</td>\n      <td>0.1601</td>\n      <td>0.3109</td>\n      <td>0.2111</td>\n      <td>...</td>\n      <td>0.0027</td>\n      <td>0.0065</td>\n      <td>0.0159</td>\n      <td>0.0072</td>\n      <td>0.0167</td>\n      <td>0.0180</td>\n      <td>0.0084</td>\n      <td>0.0090</td>\n      <td>0.0032</td>\n      <td>R</td>\n    </tr>\n    <tr>\n      <th>1</th>\n      <td>0.0453</td>\n      <td>0.0523</td>\n      <td>0.0843</td>\n      <td>0.0689</td>\n      <td>0.1183</td>\n      <td>0.2583</td>\n      <td>0.2156</td>\n      <td>0.3481</td>\n      <td>0.3337</td>\n      <td>0.2872</td>\n      <td>...</td>\n      <td>0.0084</td>\n      <td>0.0089</td>\n      <td>0.0048</td>\n      <td>0.0094</td>\n      <td>0.0191</td>\n      <td>0.0140</td>\n      <td>0.0049</td>\n      <td>0.0052</td>\n      <td>0.0044</td>\n      <td>R</td>\n    </tr>\n    <tr>\n      <th>2</th>\n      <td>0.0262</td>\n      <td>0.0582</td>\n      <td>0.1099</td>\n      <td>0.1083</td>\n      <td>0.0974</td>\n      <td>0.2280</td>\n      <td>0.2431</td>\n      <td>0.3771</td>\n      <td>0.5598</td>\n      <td>0.6194</td>\n      <td>...</td>\n      <td>0.0232</td>\n      <td>0.0166</td>\n      <td>0.0095</td>\n      <td>0.0180</td>\n      <td>0.0244</td>\n      <td>0.0316</td>\n      <td>0.0164</td>\n      <td>0.0095</td>\n      <td>0.0078</td>\n      <td>R</td>\n    </tr>\n    <tr>\n      <th>3</th>\n      <td>0.0100</td>\n      <td>0.0171</td>\n      <td>0.0623</td>\n      <td>0.0205</td>\n      <td>0.0205</td>\n      <td>0.0368</td>\n      <td>0.1098</td>\n      <td>0.1276</td>\n      <td>0.0598</td>\n      <td>0.1264</td>\n      <td>...</td>\n      <td>0.0121</td>\n      <td>0.0036</td>\n      <td>0.0150</td>\n      <td>0.0085</td>\n      <td>0.0073</td>\n      <td>0.0050</td>\n      <td>0.0044</td>\n      <td>0.0040</td>\n      <td>0.0117</td>\n      <td>R</td>\n    </tr>\n    <tr>\n      <th>4</th>\n      <td>0.0762</td>\n      <td>0.0666</td>\n      <td>0.0481</td>\n      <td>0.0394</td>\n      <td>0.0590</td>\n      <td>0.0649</td>\n      <td>0.1209</td>\n      <td>0.2467</td>\n      <td>0.3564</td>\n      <td>0.4459</td>\n      <td>...</td>\n      <td>0.0031</td>\n      <td>0.0054</td>\n      <td>0.0105</td>\n      <td>0.0110</td>\n      <td>0.0015</td>\n      <td>0.0072</td>\n      <td>0.0048</td>\n      <td>0.0107</td>\n      <td>0.0094</td>\n      <td>R</td>\n    </tr>\n  </tbody>\n</table>\n<p>5 rows × 61 columns</p>\n</div>"
     },
     "metadata": {},
     "execution_count": 5
    }
   ],
   "source": [
    "df = pd.read_csv(path, header=None)\n",
    "df.head()"
   ]
  },
  {
   "source": [
    "Выделить атрибуты и целевую переменную."
   ],
   "cell_type": "markdown",
   "metadata": {}
  },
  {
   "cell_type": "code",
   "execution_count": 6,
   "metadata": {},
   "outputs": [
    {
     "output_type": "stream",
     "name": "stdout",
     "text": [
      "(208, 60), (208,)\n"
     ]
    }
   ],
   "source": [
    "x = df.values[:, 0:60].astype(np.float)\n",
    "y = np.where(\n",
    "    df.values[:, 60] == 'M',\n",
    "    1,\n",
    "    0\n",
    ")\n",
    "\n",
    "print(f\"{x.shape}, {y.shape}\")"
   ]
  },
  {
   "source": [
    "Разделить датасет на обучающую и тестовую выборки."
   ],
   "cell_type": "markdown",
   "metadata": {}
  },
  {
   "cell_type": "code",
   "execution_count": 7,
   "metadata": {},
   "outputs": [
    {
     "output_type": "stream",
     "name": "stdout",
     "text": [
      "(166, 60), (166,)\n(42, 60), (42,)\n"
     ]
    }
   ],
   "source": [
    "x_train, x_test, y_train, y_test = train_test_split(\n",
    "    x,\n",
    "    y,\n",
    "    test_size=0.2,\n",
    "    shuffle=True\n",
    ")\n",
    "\n",
    "print(f\"{x_train.shape}, {y_train.shape}\")\n",
    "print(f\"{x_test.shape}, {y_test.shape}\")"
   ]
  },
  {
   "source": [
    "### Создание нейронной сети"
   ],
   "cell_type": "markdown",
   "metadata": {}
  },
  {
   "source": [
    "Вспомогательный класс для создания нейронной сети."
   ],
   "cell_type": "markdown",
   "metadata": {}
  },
  {
   "cell_type": "code",
   "execution_count": 8,
   "metadata": {},
   "outputs": [],
   "source": [
    "class NetBuilder:\n",
    "\n",
    "    @staticmethod\n",
    "    def build(\n",
    "        layers: Tuple[int, ...],\n",
    "        dropout_rate=0.5\n",
    "    ) -> Sequential:\n",
    "\n",
    "        if not layers or not isinstance(layers, Iterable) or not layers:\n",
    "            raise RuntimeError(f\"Illegal layers collection {layers}\")\n",
    "\n",
    "        model = Sequential()\n",
    "        for idx, n in enumerate(layers):\n",
    "            if n <= 0:\n",
    "                raise RuntimeError(f\"Illegal number of the neurons {n}\")\n",
    "                \n",
    "            if idx == 0:\n",
    "                model.add(Dense(n, input_dim=60))\n",
    "            else:\n",
    "                model.add(Dense(n))\n",
    "\n",
    "            model.add(BatchNormalization())\n",
    "            model.add(Activation('relu'))\n",
    "            model.add(Dropout(dropout_rate))\n",
    "\n",
    "        model.add(Dense(1, activation='sigmoid'))\n",
    "\n",
    "        model.compile(\n",
    "            loss='binary_crossentropy', \n",
    "            optimizer=Adam(lr=0.001), \n",
    "            metrics=['accuracy']\n",
    "        )\n",
    "        return model"
   ]
  },
  {
   "cell_type": "code",
   "execution_count": 9,
   "metadata": {},
   "outputs": [
    {
     "output_type": "stream",
     "name": "stdout",
     "text": [
      "Model: \"sequential\"\n_________________________________________________________________\nLayer (type)                 Output Shape              Param #   \n=================================================================\ndense (Dense)                (None, 128)               7808      \n_________________________________________________________________\nbatch_normalization (BatchNo (None, 128)               512       \n_________________________________________________________________\nactivation (Activation)      (None, 128)               0         \n_________________________________________________________________\ndropout (Dropout)            (None, 128)               0         \n_________________________________________________________________\ndense_1 (Dense)              (None, 32)                4128      \n_________________________________________________________________\nbatch_normalization_1 (Batch (None, 32)                128       \n_________________________________________________________________\nactivation_1 (Activation)    (None, 32)                0         \n_________________________________________________________________\ndropout_1 (Dropout)          (None, 32)                0         \n_________________________________________________________________\ndense_2 (Dense)              (None, 1)                 33        \n=================================================================\nTotal params: 12,609\nTrainable params: 12,289\nNon-trainable params: 320\n_________________________________________________________________\n"
     ]
    }
   ],
   "source": [
    "net = NetBuilder.build(layers=(128, 32))\n",
    "\n",
    "net.summary()"
   ]
  },
  {
   "source": [
    "## Обучение нейронной сети"
   ],
   "cell_type": "markdown",
   "metadata": {}
  },
  {
   "cell_type": "code",
   "execution_count": 10,
   "metadata": {},
   "outputs": [
    {
     "output_type": "stream",
     "name": "stdout",
     "text": [
      "Epoch 1/100\n",
      "21/21 [==============================] - 0s 2ms/step - loss: 0.8748 - accuracy: 0.4819\n",
      "Epoch 2/100\n",
      "21/21 [==============================] - 0s 2ms/step - loss: 0.8616 - accuracy: 0.5241\n",
      "Epoch 3/100\n",
      "21/21 [==============================] - 0s 2ms/step - loss: 0.6764 - accuracy: 0.6566\n",
      "Epoch 4/100\n",
      "21/21 [==============================] - 0s 2ms/step - loss: 0.6823 - accuracy: 0.6145\n",
      "Epoch 5/100\n",
      "21/21 [==============================] - 0s 2ms/step - loss: 0.6026 - accuracy: 0.6386\n",
      "Epoch 6/100\n",
      "21/21 [==============================] - 0s 2ms/step - loss: 0.6493 - accuracy: 0.6446\n",
      "Epoch 7/100\n",
      "21/21 [==============================] - 0s 2ms/step - loss: 0.6050 - accuracy: 0.6566\n",
      "Epoch 8/100\n",
      "21/21 [==============================] - 0s 2ms/step - loss: 0.6008 - accuracy: 0.6566\n",
      "Epoch 9/100\n",
      "21/21 [==============================] - 0s 2ms/step - loss: 0.5363 - accuracy: 0.7048\n",
      "Epoch 10/100\n",
      "21/21 [==============================] - 0s 2ms/step - loss: 0.4982 - accuracy: 0.7892\n",
      "Epoch 11/100\n",
      "21/21 [==============================] - 0s 2ms/step - loss: 0.5208 - accuracy: 0.7108\n",
      "Epoch 12/100\n",
      "21/21 [==============================] - 0s 2ms/step - loss: 0.5225 - accuracy: 0.7349\n",
      "Epoch 13/100\n",
      "21/21 [==============================] - 0s 3ms/step - loss: 0.5279 - accuracy: 0.7169\n",
      "Epoch 14/100\n",
      "21/21 [==============================] - 0s 2ms/step - loss: 0.4559 - accuracy: 0.7470\n",
      "Epoch 15/100\n",
      "21/21 [==============================] - 0s 2ms/step - loss: 0.4524 - accuracy: 0.7651\n",
      "Epoch 16/100\n",
      "21/21 [==============================] - 0s 2ms/step - loss: 0.4934 - accuracy: 0.7470\n",
      "Epoch 17/100\n",
      "21/21 [==============================] - 0s 2ms/step - loss: 0.4689 - accuracy: 0.7651\n",
      "Epoch 18/100\n",
      "21/21 [==============================] - 0s 2ms/step - loss: 0.4488 - accuracy: 0.7771\n",
      "Epoch 19/100\n",
      "21/21 [==============================] - 0s 2ms/step - loss: 0.4250 - accuracy: 0.8193\n",
      "Epoch 20/100\n",
      "21/21 [==============================] - 0s 2ms/step - loss: 0.4905 - accuracy: 0.7470\n",
      "Epoch 21/100\n",
      "21/21 [==============================] - 0s 2ms/step - loss: 0.4226 - accuracy: 0.8193\n",
      "Epoch 22/100\n",
      "21/21 [==============================] - 0s 2ms/step - loss: 0.4625 - accuracy: 0.7410\n",
      "Epoch 23/100\n",
      "21/21 [==============================] - 0s 2ms/step - loss: 0.4463 - accuracy: 0.7711\n",
      "Epoch 24/100\n",
      "21/21 [==============================] - 0s 2ms/step - loss: 0.4807 - accuracy: 0.7771\n",
      "Epoch 25/100\n",
      "21/21 [==============================] - 0s 3ms/step - loss: 0.4097 - accuracy: 0.8313\n",
      "Epoch 26/100\n",
      "21/21 [==============================] - 0s 2ms/step - loss: 0.4221 - accuracy: 0.8133\n",
      "Epoch 27/100\n",
      "21/21 [==============================] - 0s 3ms/step - loss: 0.3722 - accuracy: 0.8253\n",
      "Epoch 28/100\n",
      "21/21 [==============================] - 0s 2ms/step - loss: 0.3600 - accuracy: 0.8253\n",
      "Epoch 29/100\n",
      "21/21 [==============================] - 0s 2ms/step - loss: 0.3622 - accuracy: 0.8434\n",
      "Epoch 30/100\n",
      "21/21 [==============================] - 0s 2ms/step - loss: 0.3603 - accuracy: 0.8795\n",
      "Epoch 31/100\n",
      "21/21 [==============================] - 0s 2ms/step - loss: 0.4266 - accuracy: 0.7711\n",
      "Epoch 32/100\n",
      "21/21 [==============================] - 0s 2ms/step - loss: 0.3853 - accuracy: 0.8494\n",
      "Epoch 33/100\n",
      "21/21 [==============================] - 0s 2ms/step - loss: 0.3711 - accuracy: 0.8313\n",
      "Epoch 34/100\n",
      "21/21 [==============================] - 0s 2ms/step - loss: 0.3507 - accuracy: 0.8554\n",
      "Epoch 35/100\n",
      "21/21 [==============================] - 0s 2ms/step - loss: 0.3527 - accuracy: 0.8434\n",
      "Epoch 36/100\n",
      "21/21 [==============================] - 0s 2ms/step - loss: 0.4149 - accuracy: 0.8675\n",
      "Epoch 37/100\n",
      "21/21 [==============================] - 0s 2ms/step - loss: 0.3520 - accuracy: 0.8554\n",
      "Epoch 38/100\n",
      "21/21 [==============================] - 0s 2ms/step - loss: 0.3350 - accuracy: 0.8916\n",
      "Epoch 39/100\n",
      "21/21 [==============================] - 0s 2ms/step - loss: 0.3099 - accuracy: 0.9157\n",
      "Epoch 40/100\n",
      "21/21 [==============================] - 0s 2ms/step - loss: 0.3524 - accuracy: 0.8554\n",
      "Epoch 41/100\n",
      "21/21 [==============================] - 0s 2ms/step - loss: 0.3520 - accuracy: 0.8133\n",
      "Epoch 42/100\n",
      "21/21 [==============================] - 0s 2ms/step - loss: 0.3267 - accuracy: 0.8554\n",
      "Epoch 43/100\n",
      "21/21 [==============================] - 0s 3ms/step - loss: 0.3525 - accuracy: 0.8795\n",
      "Epoch 44/100\n",
      "21/21 [==============================] - 0s 3ms/step - loss: 0.2963 - accuracy: 0.8554\n",
      "Epoch 45/100\n",
      "21/21 [==============================] - 0s 3ms/step - loss: 0.3039 - accuracy: 0.8675\n",
      "Epoch 46/100\n",
      "21/21 [==============================] - 0s 2ms/step - loss: 0.4216 - accuracy: 0.8253\n",
      "Epoch 47/100\n",
      "21/21 [==============================] - 0s 2ms/step - loss: 0.3378 - accuracy: 0.8614\n",
      "Epoch 48/100\n",
      "21/21 [==============================] - 0s 2ms/step - loss: 0.3036 - accuracy: 0.8976\n",
      "Epoch 49/100\n",
      "21/21 [==============================] - 0s 2ms/step - loss: 0.3436 - accuracy: 0.8675\n",
      "Epoch 50/100\n",
      "21/21 [==============================] - 0s 2ms/step - loss: 0.3591 - accuracy: 0.8373\n",
      "Epoch 51/100\n",
      "21/21 [==============================] - 0s 2ms/step - loss: 0.2933 - accuracy: 0.8795\n",
      "Epoch 52/100\n",
      "21/21 [==============================] - 0s 3ms/step - loss: 0.2805 - accuracy: 0.8735\n",
      "Epoch 53/100\n",
      "21/21 [==============================] - 0s 2ms/step - loss: 0.2422 - accuracy: 0.9157\n",
      "Epoch 54/100\n",
      "21/21 [==============================] - 0s 2ms/step - loss: 0.3140 - accuracy: 0.8735\n",
      "Epoch 55/100\n",
      "21/21 [==============================] - 0s 3ms/step - loss: 0.2722 - accuracy: 0.8795\n",
      "Epoch 56/100\n",
      "21/21 [==============================] - 0s 2ms/step - loss: 0.3239 - accuracy: 0.8554\n",
      "Epoch 57/100\n",
      "21/21 [==============================] - 0s 2ms/step - loss: 0.2584 - accuracy: 0.9096\n",
      "Epoch 58/100\n",
      "21/21 [==============================] - 0s 2ms/step - loss: 0.2579 - accuracy: 0.9277\n",
      "Epoch 59/100\n",
      "21/21 [==============================] - 0s 2ms/step - loss: 0.3267 - accuracy: 0.8855\n",
      "Epoch 60/100\n",
      "21/21 [==============================] - 0s 2ms/step - loss: 0.2370 - accuracy: 0.9096\n",
      "Epoch 61/100\n",
      "21/21 [==============================] - 0s 2ms/step - loss: 0.2930 - accuracy: 0.8916\n",
      "Epoch 62/100\n",
      "21/21 [==============================] - 0s 2ms/step - loss: 0.3364 - accuracy: 0.8735\n",
      "Epoch 63/100\n",
      "21/21 [==============================] - 0s 2ms/step - loss: 0.3918 - accuracy: 0.8253\n",
      "Epoch 64/100\n",
      "21/21 [==============================] - 0s 2ms/step - loss: 0.3085 - accuracy: 0.8855\n",
      "Epoch 65/100\n",
      "21/21 [==============================] - 0s 2ms/step - loss: 0.3119 - accuracy: 0.8675\n",
      "Epoch 66/100\n",
      "21/21 [==============================] - 0s 2ms/step - loss: 0.2536 - accuracy: 0.8976\n",
      "Epoch 67/100\n",
      "21/21 [==============================] - 0s 2ms/step - loss: 0.3021 - accuracy: 0.8554\n",
      "Epoch 68/100\n",
      "21/21 [==============================] - 0s 2ms/step - loss: 0.2994 - accuracy: 0.8916\n",
      "Epoch 69/100\n",
      "21/21 [==============================] - 0s 2ms/step - loss: 0.3102 - accuracy: 0.8795\n",
      "Epoch 70/100\n",
      "21/21 [==============================] - 0s 2ms/step - loss: 0.2756 - accuracy: 0.8855\n",
      "Epoch 71/100\n",
      "21/21 [==============================] - 0s 3ms/step - loss: 0.2747 - accuracy: 0.9036\n",
      "Epoch 72/100\n",
      "21/21 [==============================] - 0s 3ms/step - loss: 0.2738 - accuracy: 0.9157\n",
      "Epoch 73/100\n",
      "21/21 [==============================] - 0s 2ms/step - loss: 0.2115 - accuracy: 0.9337\n",
      "Epoch 74/100\n",
      "21/21 [==============================] - 0s 2ms/step - loss: 0.2593 - accuracy: 0.8795\n",
      "Epoch 75/100\n",
      "21/21 [==============================] - 0s 2ms/step - loss: 0.2249 - accuracy: 0.9096\n",
      "Epoch 76/100\n",
      "21/21 [==============================] - 0s 3ms/step - loss: 0.2450 - accuracy: 0.9036\n",
      "Epoch 77/100\n",
      "21/21 [==============================] - 0s 2ms/step - loss: 0.3038 - accuracy: 0.8855\n",
      "Epoch 78/100\n",
      "21/21 [==============================] - 0s 2ms/step - loss: 0.1992 - accuracy: 0.9398\n",
      "Epoch 79/100\n",
      "21/21 [==============================] - 0s 2ms/step - loss: 0.2172 - accuracy: 0.9096\n",
      "Epoch 80/100\n",
      "21/21 [==============================] - 0s 4ms/step - loss: 0.3272 - accuracy: 0.8735\n",
      "Epoch 81/100\n",
      "21/21 [==============================] - 0s 2ms/step - loss: 0.2159 - accuracy: 0.9036\n",
      "Epoch 82/100\n",
      "21/21 [==============================] - 0s 2ms/step - loss: 0.1951 - accuracy: 0.9217\n",
      "Epoch 83/100\n",
      "21/21 [==============================] - 0s 2ms/step - loss: 0.2341 - accuracy: 0.9036\n",
      "Epoch 84/100\n",
      "21/21 [==============================] - 0s 2ms/step - loss: 0.2723 - accuracy: 0.8916\n",
      "Epoch 85/100\n",
      "21/21 [==============================] - 0s 2ms/step - loss: 0.2354 - accuracy: 0.9096\n",
      "Epoch 86/100\n",
      "21/21 [==============================] - 0s 2ms/step - loss: 0.2812 - accuracy: 0.8855\n",
      "Epoch 87/100\n",
      "21/21 [==============================] - 0s 2ms/step - loss: 0.3433 - accuracy: 0.8614\n",
      "Epoch 88/100\n",
      "21/21 [==============================] - 0s 2ms/step - loss: 0.2252 - accuracy: 0.9217\n",
      "Epoch 89/100\n",
      "21/21 [==============================] - 0s 3ms/step - loss: 0.2578 - accuracy: 0.9036\n",
      "Epoch 90/100\n",
      "21/21 [==============================] - 0s 2ms/step - loss: 0.2225 - accuracy: 0.9036\n",
      "Epoch 91/100\n",
      "21/21 [==============================] - 0s 2ms/step - loss: 0.2588 - accuracy: 0.8976\n",
      "Epoch 92/100\n",
      "21/21 [==============================] - 0s 3ms/step - loss: 0.2928 - accuracy: 0.8916\n",
      "Epoch 93/100\n",
      "21/21 [==============================] - 0s 2ms/step - loss: 0.3027 - accuracy: 0.8855\n",
      "Epoch 94/100\n",
      "21/21 [==============================] - 0s 2ms/step - loss: 0.2402 - accuracy: 0.9096\n",
      "Epoch 95/100\n",
      "21/21 [==============================] - 0s 2ms/step - loss: 0.3340 - accuracy: 0.8976\n",
      "Epoch 96/100\n",
      "21/21 [==============================] - 0s 2ms/step - loss: 0.2288 - accuracy: 0.9157\n",
      "Epoch 97/100\n",
      "21/21 [==============================] - 0s 2ms/step - loss: 0.2035 - accuracy: 0.9398\n",
      "Epoch 98/100\n",
      "21/21 [==============================] - 0s 2ms/step - loss: 0.1902 - accuracy: 0.9217\n",
      "Epoch 99/100\n",
      "21/21 [==============================] - 0s 2ms/step - loss: 0.2550 - accuracy: 0.8976\n",
      "Epoch 100/100\n",
      "21/21 [==============================] - 0s 2ms/step - loss: 0.2131 - accuracy: 0.9217\n"
     ]
    }
   ],
   "source": [
    "history = net.fit(\n",
    "    x_train,\n",
    "    y_train,\n",
    "    batch_size=8,\n",
    "    epochs=EPOCHS,\n",
    "    verbose=1\n",
    ")"
   ]
  },
  {
   "source": [
    "Отобразить процесс изменения loss и accuracy в процессе обучения."
   ],
   "cell_type": "markdown",
   "metadata": {}
  },
  {
   "cell_type": "code",
   "execution_count": 11,
   "metadata": {},
   "outputs": [
    {
     "output_type": "display_data",
     "data": {
      "text/plain": "<Figure size 864x360 with 2 Axes>",
      "image/svg+xml": "<?xml version=\"1.0\" encoding=\"utf-8\" standalone=\"no\"?>\r\n<!DOCTYPE svg PUBLIC \"-//W3C//DTD SVG 1.1//EN\"\r\n  \"http://www.w3.org/Graphics/SVG/1.1/DTD/svg11.dtd\">\r\n<!-- Created with matplotlib (https://matplotlib.org/) -->\r\n<svg height=\"317.108122pt\" version=\"1.1\" viewBox=\"0 0 720.58125 317.108122\" width=\"720.58125pt\" xmlns=\"http://www.w3.org/2000/svg\" xmlns:xlink=\"http://www.w3.org/1999/xlink\">\r\n <metadata>\r\n  <rdf:RDF xmlns:cc=\"http://creativecommons.org/ns#\" xmlns:dc=\"http://purl.org/dc/elements/1.1/\" xmlns:rdf=\"http://www.w3.org/1999/02/22-rdf-syntax-ns#\">\r\n   <cc:Work>\r\n    <dc:type rdf:resource=\"http://purl.org/dc/dcmitype/StillImage\"/>\r\n    <dc:date>2020-10-27T14:01:19.373882</dc:date>\r\n    <dc:format>image/svg+xml</dc:format>\r\n    <dc:creator>\r\n     <cc:Agent>\r\n      <dc:title>Matplotlib v3.3.2, https://matplotlib.org/</dc:title>\r\n     </cc:Agent>\r\n    </dc:creator>\r\n   </cc:Work>\r\n  </rdf:RDF>\r\n </metadata>\r\n <defs>\r\n  <style type=\"text/css\">*{stroke-linecap:butt;stroke-linejoin:round;}</style>\r\n </defs>\r\n <g id=\"figure_1\">\r\n  <g id=\"patch_1\">\r\n   <path d=\"M 0 317.108122 \r\nL 720.58125 317.108122 \r\nL 720.58125 0 \r\nL 0 0 \r\nz\r\n\" style=\"fill:none;\"/>\r\n  </g>\r\n  <g id=\"axes_1\">\r\n   <g id=\"patch_2\">\r\n    <path d=\"M 43.78125 279.551872 \r\nL 348.144886 279.551872 \r\nL 348.144886 7.751872 \r\nL 43.78125 7.751872 \r\nz\r\n\" style=\"fill:#ffffff;\"/>\r\n   </g>\r\n   <g id=\"matplotlib.axis_1\">\r\n    <g id=\"xtick_1\">\r\n     <g id=\"line2d_1\">\r\n      <path clip-path=\"url(#peae01873d8)\" d=\"M 57.615961 279.551872 \r\nL 57.615961 7.751872 \r\n\" style=\"fill:none;stroke:#b0b0b0;stroke-linecap:square;stroke-width:0.8;\"/>\r\n     </g>\r\n     <g id=\"line2d_2\">\r\n      <defs>\r\n       <path d=\"M 0 0 \r\nL 0 3.5 \r\n\" id=\"m5a1c40fbfe\" style=\"stroke:#000000;stroke-width:0.8;\"/>\r\n      </defs>\r\n      <g>\r\n       <use style=\"stroke:#000000;stroke-width:0.8;\" x=\"57.615961\" xlink:href=\"#m5a1c40fbfe\" y=\"279.551872\"/>\r\n      </g>\r\n     </g>\r\n     <g id=\"text_1\">\r\n      <!-- 0 -->\r\n      <g transform=\"translate(54.434711 294.150309)scale(0.1 -0.1)\">\r\n       <defs>\r\n        <path d=\"M 31.78125 66.40625 \r\nQ 24.171875 66.40625 20.328125 58.90625 \r\nQ 16.5 51.421875 16.5 36.375 \r\nQ 16.5 21.390625 20.328125 13.890625 \r\nQ 24.171875 6.390625 31.78125 6.390625 \r\nQ 39.453125 6.390625 43.28125 13.890625 \r\nQ 47.125 21.390625 47.125 36.375 \r\nQ 47.125 51.421875 43.28125 58.90625 \r\nQ 39.453125 66.40625 31.78125 66.40625 \r\nz\r\nM 31.78125 74.21875 \r\nQ 44.046875 74.21875 50.515625 64.515625 \r\nQ 56.984375 54.828125 56.984375 36.375 \r\nQ 56.984375 17.96875 50.515625 8.265625 \r\nQ 44.046875 -1.421875 31.78125 -1.421875 \r\nQ 19.53125 -1.421875 13.0625 8.265625 \r\nQ 6.59375 17.96875 6.59375 36.375 \r\nQ 6.59375 54.828125 13.0625 64.515625 \r\nQ 19.53125 74.21875 31.78125 74.21875 \r\nz\r\n\" id=\"DejaVuSans-48\"/>\r\n       </defs>\r\n       <use xlink:href=\"#DejaVuSans-48\"/>\r\n      </g>\r\n     </g>\r\n    </g>\r\n    <g id=\"xtick_2\">\r\n     <g id=\"line2d_3\">\r\n      <path clip-path=\"url(#peae01873d8)\" d=\"M 113.513782 279.551872 \r\nL 113.513782 7.751872 \r\n\" style=\"fill:none;stroke:#b0b0b0;stroke-linecap:square;stroke-width:0.8;\"/>\r\n     </g>\r\n     <g id=\"line2d_4\">\r\n      <g>\r\n       <use style=\"stroke:#000000;stroke-width:0.8;\" x=\"113.513782\" xlink:href=\"#m5a1c40fbfe\" y=\"279.551872\"/>\r\n      </g>\r\n     </g>\r\n     <g id=\"text_2\">\r\n      <!-- 20 -->\r\n      <g transform=\"translate(107.151282 294.150309)scale(0.1 -0.1)\">\r\n       <defs>\r\n        <path d=\"M 19.1875 8.296875 \r\nL 53.609375 8.296875 \r\nL 53.609375 0 \r\nL 7.328125 0 \r\nL 7.328125 8.296875 \r\nQ 12.9375 14.109375 22.625 23.890625 \r\nQ 32.328125 33.6875 34.8125 36.53125 \r\nQ 39.546875 41.84375 41.421875 45.53125 \r\nQ 43.3125 49.21875 43.3125 52.78125 \r\nQ 43.3125 58.59375 39.234375 62.25 \r\nQ 35.15625 65.921875 28.609375 65.921875 \r\nQ 23.96875 65.921875 18.8125 64.3125 \r\nQ 13.671875 62.703125 7.8125 59.421875 \r\nL 7.8125 69.390625 \r\nQ 13.765625 71.78125 18.9375 73 \r\nQ 24.125 74.21875 28.421875 74.21875 \r\nQ 39.75 74.21875 46.484375 68.546875 \r\nQ 53.21875 62.890625 53.21875 53.421875 \r\nQ 53.21875 48.921875 51.53125 44.890625 \r\nQ 49.859375 40.875 45.40625 35.40625 \r\nQ 44.1875 33.984375 37.640625 27.21875 \r\nQ 31.109375 20.453125 19.1875 8.296875 \r\nz\r\n\" id=\"DejaVuSans-50\"/>\r\n       </defs>\r\n       <use xlink:href=\"#DejaVuSans-50\"/>\r\n       <use x=\"63.623047\" xlink:href=\"#DejaVuSans-48\"/>\r\n      </g>\r\n     </g>\r\n    </g>\r\n    <g id=\"xtick_3\">\r\n     <g id=\"line2d_5\">\r\n      <path clip-path=\"url(#peae01873d8)\" d=\"M 169.411603 279.551872 \r\nL 169.411603 7.751872 \r\n\" style=\"fill:none;stroke:#b0b0b0;stroke-linecap:square;stroke-width:0.8;\"/>\r\n     </g>\r\n     <g id=\"line2d_6\">\r\n      <g>\r\n       <use style=\"stroke:#000000;stroke-width:0.8;\" x=\"169.411603\" xlink:href=\"#m5a1c40fbfe\" y=\"279.551872\"/>\r\n      </g>\r\n     </g>\r\n     <g id=\"text_3\">\r\n      <!-- 40 -->\r\n      <g transform=\"translate(163.049103 294.150309)scale(0.1 -0.1)\">\r\n       <defs>\r\n        <path d=\"M 37.796875 64.3125 \r\nL 12.890625 25.390625 \r\nL 37.796875 25.390625 \r\nz\r\nM 35.203125 72.90625 \r\nL 47.609375 72.90625 \r\nL 47.609375 25.390625 \r\nL 58.015625 25.390625 \r\nL 58.015625 17.1875 \r\nL 47.609375 17.1875 \r\nL 47.609375 0 \r\nL 37.796875 0 \r\nL 37.796875 17.1875 \r\nL 4.890625 17.1875 \r\nL 4.890625 26.703125 \r\nz\r\n\" id=\"DejaVuSans-52\"/>\r\n       </defs>\r\n       <use xlink:href=\"#DejaVuSans-52\"/>\r\n       <use x=\"63.623047\" xlink:href=\"#DejaVuSans-48\"/>\r\n      </g>\r\n     </g>\r\n    </g>\r\n    <g id=\"xtick_4\">\r\n     <g id=\"line2d_7\">\r\n      <path clip-path=\"url(#peae01873d8)\" d=\"M 225.309424 279.551872 \r\nL 225.309424 7.751872 \r\n\" style=\"fill:none;stroke:#b0b0b0;stroke-linecap:square;stroke-width:0.8;\"/>\r\n     </g>\r\n     <g id=\"line2d_8\">\r\n      <g>\r\n       <use style=\"stroke:#000000;stroke-width:0.8;\" x=\"225.309424\" xlink:href=\"#m5a1c40fbfe\" y=\"279.551872\"/>\r\n      </g>\r\n     </g>\r\n     <g id=\"text_4\">\r\n      <!-- 60 -->\r\n      <g transform=\"translate(218.946924 294.150309)scale(0.1 -0.1)\">\r\n       <defs>\r\n        <path d=\"M 33.015625 40.375 \r\nQ 26.375 40.375 22.484375 35.828125 \r\nQ 18.609375 31.296875 18.609375 23.390625 \r\nQ 18.609375 15.53125 22.484375 10.953125 \r\nQ 26.375 6.390625 33.015625 6.390625 \r\nQ 39.65625 6.390625 43.53125 10.953125 \r\nQ 47.40625 15.53125 47.40625 23.390625 \r\nQ 47.40625 31.296875 43.53125 35.828125 \r\nQ 39.65625 40.375 33.015625 40.375 \r\nz\r\nM 52.59375 71.296875 \r\nL 52.59375 62.3125 \r\nQ 48.875 64.0625 45.09375 64.984375 \r\nQ 41.3125 65.921875 37.59375 65.921875 \r\nQ 27.828125 65.921875 22.671875 59.328125 \r\nQ 17.53125 52.734375 16.796875 39.40625 \r\nQ 19.671875 43.65625 24.015625 45.921875 \r\nQ 28.375 48.1875 33.59375 48.1875 \r\nQ 44.578125 48.1875 50.953125 41.515625 \r\nQ 57.328125 34.859375 57.328125 23.390625 \r\nQ 57.328125 12.15625 50.6875 5.359375 \r\nQ 44.046875 -1.421875 33.015625 -1.421875 \r\nQ 20.359375 -1.421875 13.671875 8.265625 \r\nQ 6.984375 17.96875 6.984375 36.375 \r\nQ 6.984375 53.65625 15.1875 63.9375 \r\nQ 23.390625 74.21875 37.203125 74.21875 \r\nQ 40.921875 74.21875 44.703125 73.484375 \r\nQ 48.484375 72.75 52.59375 71.296875 \r\nz\r\n\" id=\"DejaVuSans-54\"/>\r\n       </defs>\r\n       <use xlink:href=\"#DejaVuSans-54\"/>\r\n       <use x=\"63.623047\" xlink:href=\"#DejaVuSans-48\"/>\r\n      </g>\r\n     </g>\r\n    </g>\r\n    <g id=\"xtick_5\">\r\n     <g id=\"line2d_9\">\r\n      <path clip-path=\"url(#peae01873d8)\" d=\"M 281.207245 279.551872 \r\nL 281.207245 7.751872 \r\n\" style=\"fill:none;stroke:#b0b0b0;stroke-linecap:square;stroke-width:0.8;\"/>\r\n     </g>\r\n     <g id=\"line2d_10\">\r\n      <g>\r\n       <use style=\"stroke:#000000;stroke-width:0.8;\" x=\"281.207245\" xlink:href=\"#m5a1c40fbfe\" y=\"279.551872\"/>\r\n      </g>\r\n     </g>\r\n     <g id=\"text_5\">\r\n      <!-- 80 -->\r\n      <g transform=\"translate(274.844745 294.150309)scale(0.1 -0.1)\">\r\n       <defs>\r\n        <path d=\"M 31.78125 34.625 \r\nQ 24.75 34.625 20.71875 30.859375 \r\nQ 16.703125 27.09375 16.703125 20.515625 \r\nQ 16.703125 13.921875 20.71875 10.15625 \r\nQ 24.75 6.390625 31.78125 6.390625 \r\nQ 38.8125 6.390625 42.859375 10.171875 \r\nQ 46.921875 13.96875 46.921875 20.515625 \r\nQ 46.921875 27.09375 42.890625 30.859375 \r\nQ 38.875 34.625 31.78125 34.625 \r\nz\r\nM 21.921875 38.8125 \r\nQ 15.578125 40.375 12.03125 44.71875 \r\nQ 8.5 49.078125 8.5 55.328125 \r\nQ 8.5 64.0625 14.71875 69.140625 \r\nQ 20.953125 74.21875 31.78125 74.21875 \r\nQ 42.671875 74.21875 48.875 69.140625 \r\nQ 55.078125 64.0625 55.078125 55.328125 \r\nQ 55.078125 49.078125 51.53125 44.71875 \r\nQ 48 40.375 41.703125 38.8125 \r\nQ 48.828125 37.15625 52.796875 32.3125 \r\nQ 56.78125 27.484375 56.78125 20.515625 \r\nQ 56.78125 9.90625 50.3125 4.234375 \r\nQ 43.84375 -1.421875 31.78125 -1.421875 \r\nQ 19.734375 -1.421875 13.25 4.234375 \r\nQ 6.78125 9.90625 6.78125 20.515625 \r\nQ 6.78125 27.484375 10.78125 32.3125 \r\nQ 14.796875 37.15625 21.921875 38.8125 \r\nz\r\nM 18.3125 54.390625 \r\nQ 18.3125 48.734375 21.84375 45.5625 \r\nQ 25.390625 42.390625 31.78125 42.390625 \r\nQ 38.140625 42.390625 41.71875 45.5625 \r\nQ 45.3125 48.734375 45.3125 54.390625 \r\nQ 45.3125 60.0625 41.71875 63.234375 \r\nQ 38.140625 66.40625 31.78125 66.40625 \r\nQ 25.390625 66.40625 21.84375 63.234375 \r\nQ 18.3125 60.0625 18.3125 54.390625 \r\nz\r\n\" id=\"DejaVuSans-56\"/>\r\n       </defs>\r\n       <use xlink:href=\"#DejaVuSans-56\"/>\r\n       <use x=\"63.623047\" xlink:href=\"#DejaVuSans-48\"/>\r\n      </g>\r\n     </g>\r\n    </g>\r\n    <g id=\"xtick_6\">\r\n     <g id=\"line2d_11\">\r\n      <path clip-path=\"url(#peae01873d8)\" d=\"M 337.105067 279.551872 \r\nL 337.105067 7.751872 \r\n\" style=\"fill:none;stroke:#b0b0b0;stroke-linecap:square;stroke-width:0.8;\"/>\r\n     </g>\r\n     <g id=\"line2d_12\">\r\n      <g>\r\n       <use style=\"stroke:#000000;stroke-width:0.8;\" x=\"337.105067\" xlink:href=\"#m5a1c40fbfe\" y=\"279.551872\"/>\r\n      </g>\r\n     </g>\r\n     <g id=\"text_6\">\r\n      <!-- 100 -->\r\n      <g transform=\"translate(327.561317 294.150309)scale(0.1 -0.1)\">\r\n       <defs>\r\n        <path d=\"M 12.40625 8.296875 \r\nL 28.515625 8.296875 \r\nL 28.515625 63.921875 \r\nL 10.984375 60.40625 \r\nL 10.984375 69.390625 \r\nL 28.421875 72.90625 \r\nL 38.28125 72.90625 \r\nL 38.28125 8.296875 \r\nL 54.390625 8.296875 \r\nL 54.390625 0 \r\nL 12.40625 0 \r\nz\r\n\" id=\"DejaVuSans-49\"/>\r\n       </defs>\r\n       <use xlink:href=\"#DejaVuSans-49\"/>\r\n       <use x=\"63.623047\" xlink:href=\"#DejaVuSans-48\"/>\r\n       <use x=\"127.246094\" xlink:href=\"#DejaVuSans-48\"/>\r\n      </g>\r\n     </g>\r\n    </g>\r\n    <g id=\"text_7\">\r\n     <!-- epoch -->\r\n     <g transform=\"translate(180.734943 307.828434)scale(0.1 -0.1)\">\r\n      <defs>\r\n       <path d=\"M 56.203125 29.59375 \r\nL 56.203125 25.203125 \r\nL 14.890625 25.203125 \r\nQ 15.484375 15.921875 20.484375 11.0625 \r\nQ 25.484375 6.203125 34.421875 6.203125 \r\nQ 39.59375 6.203125 44.453125 7.46875 \r\nQ 49.3125 8.734375 54.109375 11.28125 \r\nL 54.109375 2.78125 \r\nQ 49.265625 0.734375 44.1875 -0.34375 \r\nQ 39.109375 -1.421875 33.890625 -1.421875 \r\nQ 20.796875 -1.421875 13.15625 6.1875 \r\nQ 5.515625 13.8125 5.515625 26.8125 \r\nQ 5.515625 40.234375 12.765625 48.109375 \r\nQ 20.015625 56 32.328125 56 \r\nQ 43.359375 56 49.78125 48.890625 \r\nQ 56.203125 41.796875 56.203125 29.59375 \r\nz\r\nM 47.21875 32.234375 \r\nQ 47.125 39.59375 43.09375 43.984375 \r\nQ 39.0625 48.390625 32.421875 48.390625 \r\nQ 24.90625 48.390625 20.390625 44.140625 \r\nQ 15.875 39.890625 15.1875 32.171875 \r\nz\r\n\" id=\"DejaVuSans-101\"/>\r\n       <path d=\"M 18.109375 8.203125 \r\nL 18.109375 -20.796875 \r\nL 9.078125 -20.796875 \r\nL 9.078125 54.6875 \r\nL 18.109375 54.6875 \r\nL 18.109375 46.390625 \r\nQ 20.953125 51.265625 25.265625 53.625 \r\nQ 29.59375 56 35.59375 56 \r\nQ 45.5625 56 51.78125 48.09375 \r\nQ 58.015625 40.1875 58.015625 27.296875 \r\nQ 58.015625 14.40625 51.78125 6.484375 \r\nQ 45.5625 -1.421875 35.59375 -1.421875 \r\nQ 29.59375 -1.421875 25.265625 0.953125 \r\nQ 20.953125 3.328125 18.109375 8.203125 \r\nz\r\nM 48.6875 27.296875 \r\nQ 48.6875 37.203125 44.609375 42.84375 \r\nQ 40.53125 48.484375 33.40625 48.484375 \r\nQ 26.265625 48.484375 22.1875 42.84375 \r\nQ 18.109375 37.203125 18.109375 27.296875 \r\nQ 18.109375 17.390625 22.1875 11.75 \r\nQ 26.265625 6.109375 33.40625 6.109375 \r\nQ 40.53125 6.109375 44.609375 11.75 \r\nQ 48.6875 17.390625 48.6875 27.296875 \r\nz\r\n\" id=\"DejaVuSans-112\"/>\r\n       <path d=\"M 30.609375 48.390625 \r\nQ 23.390625 48.390625 19.1875 42.75 \r\nQ 14.984375 37.109375 14.984375 27.296875 \r\nQ 14.984375 17.484375 19.15625 11.84375 \r\nQ 23.34375 6.203125 30.609375 6.203125 \r\nQ 37.796875 6.203125 41.984375 11.859375 \r\nQ 46.1875 17.53125 46.1875 27.296875 \r\nQ 46.1875 37.015625 41.984375 42.703125 \r\nQ 37.796875 48.390625 30.609375 48.390625 \r\nz\r\nM 30.609375 56 \r\nQ 42.328125 56 49.015625 48.375 \r\nQ 55.71875 40.765625 55.71875 27.296875 \r\nQ 55.71875 13.875 49.015625 6.21875 \r\nQ 42.328125 -1.421875 30.609375 -1.421875 \r\nQ 18.84375 -1.421875 12.171875 6.21875 \r\nQ 5.515625 13.875 5.515625 27.296875 \r\nQ 5.515625 40.765625 12.171875 48.375 \r\nQ 18.84375 56 30.609375 56 \r\nz\r\n\" id=\"DejaVuSans-111\"/>\r\n       <path d=\"M 48.78125 52.59375 \r\nL 48.78125 44.1875 \r\nQ 44.96875 46.296875 41.140625 47.34375 \r\nQ 37.3125 48.390625 33.40625 48.390625 \r\nQ 24.65625 48.390625 19.8125 42.84375 \r\nQ 14.984375 37.3125 14.984375 27.296875 \r\nQ 14.984375 17.28125 19.8125 11.734375 \r\nQ 24.65625 6.203125 33.40625 6.203125 \r\nQ 37.3125 6.203125 41.140625 7.25 \r\nQ 44.96875 8.296875 48.78125 10.40625 \r\nL 48.78125 2.09375 \r\nQ 45.015625 0.34375 40.984375 -0.53125 \r\nQ 36.96875 -1.421875 32.421875 -1.421875 \r\nQ 20.0625 -1.421875 12.78125 6.34375 \r\nQ 5.515625 14.109375 5.515625 27.296875 \r\nQ 5.515625 40.671875 12.859375 48.328125 \r\nQ 20.21875 56 33.015625 56 \r\nQ 37.15625 56 41.109375 55.140625 \r\nQ 45.0625 54.296875 48.78125 52.59375 \r\nz\r\n\" id=\"DejaVuSans-99\"/>\r\n       <path d=\"M 54.890625 33.015625 \r\nL 54.890625 0 \r\nL 45.90625 0 \r\nL 45.90625 32.71875 \r\nQ 45.90625 40.484375 42.875 44.328125 \r\nQ 39.84375 48.1875 33.796875 48.1875 \r\nQ 26.515625 48.1875 22.3125 43.546875 \r\nQ 18.109375 38.921875 18.109375 30.90625 \r\nL 18.109375 0 \r\nL 9.078125 0 \r\nL 9.078125 75.984375 \r\nL 18.109375 75.984375 \r\nL 18.109375 46.1875 \r\nQ 21.34375 51.125 25.703125 53.5625 \r\nQ 30.078125 56 35.796875 56 \r\nQ 45.21875 56 50.046875 50.171875 \r\nQ 54.890625 44.34375 54.890625 33.015625 \r\nz\r\n\" id=\"DejaVuSans-104\"/>\r\n      </defs>\r\n      <use xlink:href=\"#DejaVuSans-101\"/>\r\n      <use x=\"61.523438\" xlink:href=\"#DejaVuSans-112\"/>\r\n      <use x=\"125\" xlink:href=\"#DejaVuSans-111\"/>\r\n      <use x=\"186.181641\" xlink:href=\"#DejaVuSans-99\"/>\r\n      <use x=\"241.162109\" xlink:href=\"#DejaVuSans-104\"/>\r\n     </g>\r\n    </g>\r\n   </g>\r\n   <g id=\"matplotlib.axis_2\">\r\n    <g id=\"ytick_1\">\r\n     <g id=\"line2d_13\">\r\n      <path clip-path=\"url(#peae01873d8)\" d=\"M 43.78125 263.649742 \r\nL 348.144886 263.649742 \r\n\" style=\"fill:none;stroke:#b0b0b0;stroke-linecap:square;stroke-width:0.8;\"/>\r\n     </g>\r\n     <g id=\"line2d_14\">\r\n      <defs>\r\n       <path d=\"M 0 0 \r\nL -3.5 0 \r\n\" id=\"m9a8ec1b76f\" style=\"stroke:#000000;stroke-width:0.8;\"/>\r\n      </defs>\r\n      <g>\r\n       <use style=\"stroke:#000000;stroke-width:0.8;\" x=\"43.78125\" xlink:href=\"#m9a8ec1b76f\" y=\"263.649742\"/>\r\n      </g>\r\n     </g>\r\n     <g id=\"text_8\">\r\n      <!-- 0.2 -->\r\n      <g transform=\"translate(20.878125 267.448961)scale(0.1 -0.1)\">\r\n       <defs>\r\n        <path d=\"M 10.6875 12.40625 \r\nL 21 12.40625 \r\nL 21 0 \r\nL 10.6875 0 \r\nz\r\n\" id=\"DejaVuSans-46\"/>\r\n       </defs>\r\n       <use xlink:href=\"#DejaVuSans-48\"/>\r\n       <use x=\"63.623047\" xlink:href=\"#DejaVuSans-46\"/>\r\n       <use x=\"95.410156\" xlink:href=\"#DejaVuSans-50\"/>\r\n      </g>\r\n     </g>\r\n    </g>\r\n    <g id=\"ytick_2\">\r\n     <g id=\"line2d_15\">\r\n      <path clip-path=\"url(#peae01873d8)\" d=\"M 43.78125 227.556811 \r\nL 348.144886 227.556811 \r\n\" style=\"fill:none;stroke:#b0b0b0;stroke-linecap:square;stroke-width:0.8;\"/>\r\n     </g>\r\n     <g id=\"line2d_16\">\r\n      <g>\r\n       <use style=\"stroke:#000000;stroke-width:0.8;\" x=\"43.78125\" xlink:href=\"#m9a8ec1b76f\" y=\"227.556811\"/>\r\n      </g>\r\n     </g>\r\n     <g id=\"text_9\">\r\n      <!-- 0.3 -->\r\n      <g transform=\"translate(20.878125 231.356029)scale(0.1 -0.1)\">\r\n       <defs>\r\n        <path d=\"M 40.578125 39.3125 \r\nQ 47.65625 37.796875 51.625 33 \r\nQ 55.609375 28.21875 55.609375 21.1875 \r\nQ 55.609375 10.40625 48.1875 4.484375 \r\nQ 40.765625 -1.421875 27.09375 -1.421875 \r\nQ 22.515625 -1.421875 17.65625 -0.515625 \r\nQ 12.796875 0.390625 7.625 2.203125 \r\nL 7.625 11.71875 \r\nQ 11.71875 9.328125 16.59375 8.109375 \r\nQ 21.484375 6.890625 26.8125 6.890625 \r\nQ 36.078125 6.890625 40.9375 10.546875 \r\nQ 45.796875 14.203125 45.796875 21.1875 \r\nQ 45.796875 27.640625 41.28125 31.265625 \r\nQ 36.765625 34.90625 28.71875 34.90625 \r\nL 20.21875 34.90625 \r\nL 20.21875 43.015625 \r\nL 29.109375 43.015625 \r\nQ 36.375 43.015625 40.234375 45.921875 \r\nQ 44.09375 48.828125 44.09375 54.296875 \r\nQ 44.09375 59.90625 40.109375 62.90625 \r\nQ 36.140625 65.921875 28.71875 65.921875 \r\nQ 24.65625 65.921875 20.015625 65.03125 \r\nQ 15.375 64.15625 9.8125 62.3125 \r\nL 9.8125 71.09375 \r\nQ 15.4375 72.65625 20.34375 73.4375 \r\nQ 25.25 74.21875 29.59375 74.21875 \r\nQ 40.828125 74.21875 47.359375 69.109375 \r\nQ 53.90625 64.015625 53.90625 55.328125 \r\nQ 53.90625 49.265625 50.4375 45.09375 \r\nQ 46.96875 40.921875 40.578125 39.3125 \r\nz\r\n\" id=\"DejaVuSans-51\"/>\r\n       </defs>\r\n       <use xlink:href=\"#DejaVuSans-48\"/>\r\n       <use x=\"63.623047\" xlink:href=\"#DejaVuSans-46\"/>\r\n       <use x=\"95.410156\" xlink:href=\"#DejaVuSans-51\"/>\r\n      </g>\r\n     </g>\r\n    </g>\r\n    <g id=\"ytick_3\">\r\n     <g id=\"line2d_17\">\r\n      <path clip-path=\"url(#peae01873d8)\" d=\"M 43.78125 191.463879 \r\nL 348.144886 191.463879 \r\n\" style=\"fill:none;stroke:#b0b0b0;stroke-linecap:square;stroke-width:0.8;\"/>\r\n     </g>\r\n     <g id=\"line2d_18\">\r\n      <g>\r\n       <use style=\"stroke:#000000;stroke-width:0.8;\" x=\"43.78125\" xlink:href=\"#m9a8ec1b76f\" y=\"191.463879\"/>\r\n      </g>\r\n     </g>\r\n     <g id=\"text_10\">\r\n      <!-- 0.4 -->\r\n      <g transform=\"translate(20.878125 195.263097)scale(0.1 -0.1)\">\r\n       <use xlink:href=\"#DejaVuSans-48\"/>\r\n       <use x=\"63.623047\" xlink:href=\"#DejaVuSans-46\"/>\r\n       <use x=\"95.410156\" xlink:href=\"#DejaVuSans-52\"/>\r\n      </g>\r\n     </g>\r\n    </g>\r\n    <g id=\"ytick_4\">\r\n     <g id=\"line2d_19\">\r\n      <path clip-path=\"url(#peae01873d8)\" d=\"M 43.78125 155.370947 \r\nL 348.144886 155.370947 \r\n\" style=\"fill:none;stroke:#b0b0b0;stroke-linecap:square;stroke-width:0.8;\"/>\r\n     </g>\r\n     <g id=\"line2d_20\">\r\n      <g>\r\n       <use style=\"stroke:#000000;stroke-width:0.8;\" x=\"43.78125\" xlink:href=\"#m9a8ec1b76f\" y=\"155.370947\"/>\r\n      </g>\r\n     </g>\r\n     <g id=\"text_11\">\r\n      <!-- 0.5 -->\r\n      <g transform=\"translate(20.878125 159.170165)scale(0.1 -0.1)\">\r\n       <defs>\r\n        <path d=\"M 10.796875 72.90625 \r\nL 49.515625 72.90625 \r\nL 49.515625 64.59375 \r\nL 19.828125 64.59375 \r\nL 19.828125 46.734375 \r\nQ 21.96875 47.46875 24.109375 47.828125 \r\nQ 26.265625 48.1875 28.421875 48.1875 \r\nQ 40.625 48.1875 47.75 41.5 \r\nQ 54.890625 34.8125 54.890625 23.390625 \r\nQ 54.890625 11.625 47.5625 5.09375 \r\nQ 40.234375 -1.421875 26.90625 -1.421875 \r\nQ 22.3125 -1.421875 17.546875 -0.640625 \r\nQ 12.796875 0.140625 7.71875 1.703125 \r\nL 7.71875 11.625 \r\nQ 12.109375 9.234375 16.796875 8.0625 \r\nQ 21.484375 6.890625 26.703125 6.890625 \r\nQ 35.15625 6.890625 40.078125 11.328125 \r\nQ 45.015625 15.765625 45.015625 23.390625 \r\nQ 45.015625 31 40.078125 35.4375 \r\nQ 35.15625 39.890625 26.703125 39.890625 \r\nQ 22.75 39.890625 18.8125 39.015625 \r\nQ 14.890625 38.140625 10.796875 36.28125 \r\nz\r\n\" id=\"DejaVuSans-53\"/>\r\n       </defs>\r\n       <use xlink:href=\"#DejaVuSans-48\"/>\r\n       <use x=\"63.623047\" xlink:href=\"#DejaVuSans-46\"/>\r\n       <use x=\"95.410156\" xlink:href=\"#DejaVuSans-53\"/>\r\n      </g>\r\n     </g>\r\n    </g>\r\n    <g id=\"ytick_5\">\r\n     <g id=\"line2d_21\">\r\n      <path clip-path=\"url(#peae01873d8)\" d=\"M 43.78125 119.278015 \r\nL 348.144886 119.278015 \r\n\" style=\"fill:none;stroke:#b0b0b0;stroke-linecap:square;stroke-width:0.8;\"/>\r\n     </g>\r\n     <g id=\"line2d_22\">\r\n      <g>\r\n       <use style=\"stroke:#000000;stroke-width:0.8;\" x=\"43.78125\" xlink:href=\"#m9a8ec1b76f\" y=\"119.278015\"/>\r\n      </g>\r\n     </g>\r\n     <g id=\"text_12\">\r\n      <!-- 0.6 -->\r\n      <g transform=\"translate(20.878125 123.077233)scale(0.1 -0.1)\">\r\n       <use xlink:href=\"#DejaVuSans-48\"/>\r\n       <use x=\"63.623047\" xlink:href=\"#DejaVuSans-46\"/>\r\n       <use x=\"95.410156\" xlink:href=\"#DejaVuSans-54\"/>\r\n      </g>\r\n     </g>\r\n    </g>\r\n    <g id=\"ytick_6\">\r\n     <g id=\"line2d_23\">\r\n      <path clip-path=\"url(#peae01873d8)\" d=\"M 43.78125 83.185083 \r\nL 348.144886 83.185083 \r\n\" style=\"fill:none;stroke:#b0b0b0;stroke-linecap:square;stroke-width:0.8;\"/>\r\n     </g>\r\n     <g id=\"line2d_24\">\r\n      <g>\r\n       <use style=\"stroke:#000000;stroke-width:0.8;\" x=\"43.78125\" xlink:href=\"#m9a8ec1b76f\" y=\"83.185083\"/>\r\n      </g>\r\n     </g>\r\n     <g id=\"text_13\">\r\n      <!-- 0.7 -->\r\n      <g transform=\"translate(20.878125 86.984301)scale(0.1 -0.1)\">\r\n       <defs>\r\n        <path d=\"M 8.203125 72.90625 \r\nL 55.078125 72.90625 \r\nL 55.078125 68.703125 \r\nL 28.609375 0 \r\nL 18.3125 0 \r\nL 43.21875 64.59375 \r\nL 8.203125 64.59375 \r\nz\r\n\" id=\"DejaVuSans-55\"/>\r\n       </defs>\r\n       <use xlink:href=\"#DejaVuSans-48\"/>\r\n       <use x=\"63.623047\" xlink:href=\"#DejaVuSans-46\"/>\r\n       <use x=\"95.410156\" xlink:href=\"#DejaVuSans-55\"/>\r\n      </g>\r\n     </g>\r\n    </g>\r\n    <g id=\"ytick_7\">\r\n     <g id=\"line2d_25\">\r\n      <path clip-path=\"url(#peae01873d8)\" d=\"M 43.78125 47.092151 \r\nL 348.144886 47.092151 \r\n\" style=\"fill:none;stroke:#b0b0b0;stroke-linecap:square;stroke-width:0.8;\"/>\r\n     </g>\r\n     <g id=\"line2d_26\">\r\n      <g>\r\n       <use style=\"stroke:#000000;stroke-width:0.8;\" x=\"43.78125\" xlink:href=\"#m9a8ec1b76f\" y=\"47.092151\"/>\r\n      </g>\r\n     </g>\r\n     <g id=\"text_14\">\r\n      <!-- 0.8 -->\r\n      <g transform=\"translate(20.878125 50.891369)scale(0.1 -0.1)\">\r\n       <use xlink:href=\"#DejaVuSans-48\"/>\r\n       <use x=\"63.623047\" xlink:href=\"#DejaVuSans-46\"/>\r\n       <use x=\"95.410156\" xlink:href=\"#DejaVuSans-56\"/>\r\n      </g>\r\n     </g>\r\n    </g>\r\n    <g id=\"ytick_8\">\r\n     <g id=\"line2d_27\">\r\n      <path clip-path=\"url(#peae01873d8)\" d=\"M 43.78125 10.999219 \r\nL 348.144886 10.999219 \r\n\" style=\"fill:none;stroke:#b0b0b0;stroke-linecap:square;stroke-width:0.8;\"/>\r\n     </g>\r\n     <g id=\"line2d_28\">\r\n      <g>\r\n       <use style=\"stroke:#000000;stroke-width:0.8;\" x=\"43.78125\" xlink:href=\"#m9a8ec1b76f\" y=\"10.999219\"/>\r\n      </g>\r\n     </g>\r\n     <g id=\"text_15\">\r\n      <!-- 0.9 -->\r\n      <g transform=\"translate(20.878125 14.798438)scale(0.1 -0.1)\">\r\n       <defs>\r\n        <path d=\"M 10.984375 1.515625 \r\nL 10.984375 10.5 \r\nQ 14.703125 8.734375 18.5 7.8125 \r\nQ 22.3125 6.890625 25.984375 6.890625 \r\nQ 35.75 6.890625 40.890625 13.453125 \r\nQ 46.046875 20.015625 46.78125 33.40625 \r\nQ 43.953125 29.203125 39.59375 26.953125 \r\nQ 35.25 24.703125 29.984375 24.703125 \r\nQ 19.046875 24.703125 12.671875 31.3125 \r\nQ 6.296875 37.9375 6.296875 49.421875 \r\nQ 6.296875 60.640625 12.9375 67.421875 \r\nQ 19.578125 74.21875 30.609375 74.21875 \r\nQ 43.265625 74.21875 49.921875 64.515625 \r\nQ 56.59375 54.828125 56.59375 36.375 \r\nQ 56.59375 19.140625 48.40625 8.859375 \r\nQ 40.234375 -1.421875 26.421875 -1.421875 \r\nQ 22.703125 -1.421875 18.890625 -0.6875 \r\nQ 15.09375 0.046875 10.984375 1.515625 \r\nz\r\nM 30.609375 32.421875 \r\nQ 37.25 32.421875 41.125 36.953125 \r\nQ 45.015625 41.5 45.015625 49.421875 \r\nQ 45.015625 57.28125 41.125 61.84375 \r\nQ 37.25 66.40625 30.609375 66.40625 \r\nQ 23.96875 66.40625 20.09375 61.84375 \r\nQ 16.21875 57.28125 16.21875 49.421875 \r\nQ 16.21875 41.5 20.09375 36.953125 \r\nQ 23.96875 32.421875 30.609375 32.421875 \r\nz\r\n\" id=\"DejaVuSans-57\"/>\r\n       </defs>\r\n       <use xlink:href=\"#DejaVuSans-48\"/>\r\n       <use x=\"63.623047\" xlink:href=\"#DejaVuSans-46\"/>\r\n       <use x=\"95.410156\" xlink:href=\"#DejaVuSans-57\"/>\r\n      </g>\r\n     </g>\r\n    </g>\r\n    <g id=\"text_16\">\r\n     <!-- loss -->\r\n     <g transform=\"translate(14.798438 153.309684)rotate(-90)scale(0.1 -0.1)\">\r\n      <defs>\r\n       <path d=\"M 9.421875 75.984375 \r\nL 18.40625 75.984375 \r\nL 18.40625 0 \r\nL 9.421875 0 \r\nz\r\n\" id=\"DejaVuSans-108\"/>\r\n       <path d=\"M 44.28125 53.078125 \r\nL 44.28125 44.578125 \r\nQ 40.484375 46.53125 36.375 47.5 \r\nQ 32.28125 48.484375 27.875 48.484375 \r\nQ 21.1875 48.484375 17.84375 46.4375 \r\nQ 14.5 44.390625 14.5 40.28125 \r\nQ 14.5 37.15625 16.890625 35.375 \r\nQ 19.28125 33.59375 26.515625 31.984375 \r\nL 29.59375 31.296875 \r\nQ 39.15625 29.25 43.1875 25.515625 \r\nQ 47.21875 21.78125 47.21875 15.09375 \r\nQ 47.21875 7.46875 41.1875 3.015625 \r\nQ 35.15625 -1.421875 24.609375 -1.421875 \r\nQ 20.21875 -1.421875 15.453125 -0.5625 \r\nQ 10.6875 0.296875 5.421875 2 \r\nL 5.421875 11.28125 \r\nQ 10.40625 8.6875 15.234375 7.390625 \r\nQ 20.0625 6.109375 24.8125 6.109375 \r\nQ 31.15625 6.109375 34.5625 8.28125 \r\nQ 37.984375 10.453125 37.984375 14.40625 \r\nQ 37.984375 18.0625 35.515625 20.015625 \r\nQ 33.0625 21.96875 24.703125 23.78125 \r\nL 21.578125 24.515625 \r\nQ 13.234375 26.265625 9.515625 29.90625 \r\nQ 5.8125 33.546875 5.8125 39.890625 \r\nQ 5.8125 47.609375 11.28125 51.796875 \r\nQ 16.75 56 26.8125 56 \r\nQ 31.78125 56 36.171875 55.265625 \r\nQ 40.578125 54.546875 44.28125 53.078125 \r\nz\r\n\" id=\"DejaVuSans-115\"/>\r\n      </defs>\r\n      <use xlink:href=\"#DejaVuSans-108\"/>\r\n      <use x=\"27.783203\" xlink:href=\"#DejaVuSans-111\"/>\r\n      <use x=\"88.964844\" xlink:href=\"#DejaVuSans-115\"/>\r\n      <use x=\"141.064453\" xlink:href=\"#DejaVuSans-115\"/>\r\n     </g>\r\n    </g>\r\n   </g>\r\n   <g id=\"line2d_29\">\r\n    <path clip-path=\"url(#peae01873d8)\" d=\"M 57.615961 20.106417 \r\nL 60.410852 24.864698 \r\nL 63.205743 91.702926 \r\nL 66.000634 89.575822 \r\nL 68.795525 118.3452 \r\nL 71.590416 101.483841 \r\nL 74.385307 117.482117 \r\nL 77.180198 118.98403 \r\nL 79.975089 142.252861 \r\nL 82.76998 156.034603 \r\nL 85.564871 147.872525 \r\nL 88.359762 147.240773 \r\nL 91.154653 145.313912 \r\nL 93.949545 171.302833 \r\nL 96.744436 172.536564 \r\nL 99.539327 157.741977 \r\nL 102.334218 166.610952 \r\nL 105.129109 173.85396 \r\nL 107.924 182.426486 \r\nL 110.718891 158.784919 \r\nL 113.513782 183.298636 \r\nL 116.308673 168.912377 \r\nL 119.103564 174.763661 \r\nL 121.898455 162.345729 \r\nL 124.693346 187.945716 \r\nL 127.488237 183.501246 \r\nL 130.283128 201.504744 \r\nL 133.078019 205.886428 \r\nL 135.87291 205.117175 \r\nL 138.667801 205.79404 \r\nL 141.462693 181.876698 \r\nL 144.257584 196.786574 \r\nL 147.052475 201.882782 \r\nL 149.847366 209.269067 \r\nL 152.642257 208.525758 \r\nL 155.437148 186.092269 \r\nL 158.232039 208.775138 \r\nL 161.02693 214.929133 \r\nL 163.821821 223.969804 \r\nL 166.616712 208.645177 \r\nL 169.411603 208.774492 \r\nL 172.206494 217.904583 \r\nL 175.001385 208.621115 \r\nL 177.796276 228.896963 \r\nL 180.591167 226.161953 \r\nL 183.386058 183.675825 \r\nL 186.180949 213.922289 \r\nL 188.975841 226.254685 \r\nL 191.770732 211.831423 \r\nL 194.565623 206.240243 \r\nL 197.360514 229.965075 \r\nL 200.155405 234.587028 \r\nL 202.950296 248.41732 \r\nL 205.745187 222.51267 \r\nL 208.540078 237.586853 \r\nL 211.334969 218.945611 \r\nL 214.12986 242.573635 \r\nL 216.924751 242.751462 \r\nL 219.719642 217.935002 \r\nL 222.514533 250.305849 \r\nL 225.309424 230.097779 \r\nL 228.104315 214.424264 \r\nL 230.899206 194.414339 \r\nL 233.694097 224.482353 \r\nL 236.488989 223.260583 \r\nL 239.28388 244.289571 \r\nL 242.078771 226.790457 \r\nL 244.873662 227.755705 \r\nL 247.668553 223.881783 \r\nL 250.463444 236.357058 \r\nL 253.258335 236.699912 \r\nL 256.053226 237.013132 \r\nL 258.848117 259.502464 \r\nL 261.643008 242.231168 \r\nL 264.437899 254.660691 \r\nL 267.23279 247.422599 \r\nL 270.027681 226.177152 \r\nL 272.822572 263.943051 \r\nL 275.617463 257.447391 \r\nL 278.412354 217.753346 \r\nL 281.207245 257.910965 \r\nL 284.002137 265.434309 \r\nL 286.797028 251.357747 \r\nL 289.591919 237.556777 \r\nL 292.38681 250.886552 \r\nL 295.181701 234.355085 \r\nL 297.976592 211.939731 \r\nL 300.771483 254.553588 \r\nL 303.566374 242.788937 \r\nL 306.361265 255.518696 \r\nL 309.156156 242.429788 \r\nL 311.951047 230.164943 \r\nL 314.745938 226.594129 \r\nL 317.540829 249.138561 \r\nL 320.33572 215.287572 \r\nL 323.130611 253.241995 \r\nL 325.925502 262.375415 \r\nL 328.720394 267.197326 \r\nL 331.515285 243.794114 \r\nL 334.310176 258.910032 \r\n\" style=\"fill:none;stroke:#4682b4;stroke-linecap:square;stroke-width:1.5;\"/>\r\n   </g>\r\n   <g id=\"patch_3\">\r\n    <path d=\"M 43.78125 279.551872 \r\nL 43.78125 7.751872 \r\n\" style=\"fill:none;stroke:#000000;stroke-linecap:square;stroke-linejoin:miter;stroke-width:0.8;\"/>\r\n   </g>\r\n   <g id=\"patch_4\">\r\n    <path d=\"M 348.144886 279.551872 \r\nL 348.144886 7.751872 \r\n\" style=\"fill:none;stroke:#000000;stroke-linecap:square;stroke-linejoin:miter;stroke-width:0.8;\"/>\r\n   </g>\r\n   <g id=\"patch_5\">\r\n    <path d=\"M 43.78125 279.551872 \r\nL 348.144886 279.551872 \r\n\" style=\"fill:none;stroke:#000000;stroke-linecap:square;stroke-linejoin:miter;stroke-width:0.8;\"/>\r\n   </g>\r\n   <g id=\"patch_6\">\r\n    <path d=\"M 43.78125 7.751872 \r\nL 348.144886 7.751872 \r\n\" style=\"fill:none;stroke:#000000;stroke-linecap:square;stroke-linejoin:miter;stroke-width:0.8;\"/>\r\n   </g>\r\n  </g>\r\n  <g id=\"axes_2\">\r\n   <g id=\"patch_7\">\r\n    <path d=\"M 409.017614 279.551872 \r\nL 713.38125 279.551872 \r\nL 713.38125 7.751872 \r\nL 409.017614 7.751872 \r\nz\r\n\" style=\"fill:#ffffff;\"/>\r\n   </g>\r\n   <g id=\"matplotlib.axis_3\">\r\n    <g id=\"xtick_7\">\r\n     <g id=\"line2d_30\">\r\n      <path clip-path=\"url(#p67a3f286a5)\" d=\"M 422.852324 279.551872 \r\nL 422.852324 7.751872 \r\n\" style=\"fill:none;stroke:#b0b0b0;stroke-linecap:square;stroke-width:0.8;\"/>\r\n     </g>\r\n     <g id=\"line2d_31\">\r\n      <g>\r\n       <use style=\"stroke:#000000;stroke-width:0.8;\" x=\"422.852324\" xlink:href=\"#m5a1c40fbfe\" y=\"279.551872\"/>\r\n      </g>\r\n     </g>\r\n     <g id=\"text_17\">\r\n      <!-- 0 -->\r\n      <g transform=\"translate(419.671074 294.150309)scale(0.1 -0.1)\">\r\n       <use xlink:href=\"#DejaVuSans-48\"/>\r\n      </g>\r\n     </g>\r\n    </g>\r\n    <g id=\"xtick_8\">\r\n     <g id=\"line2d_32\">\r\n      <path clip-path=\"url(#p67a3f286a5)\" d=\"M 478.750146 279.551872 \r\nL 478.750146 7.751872 \r\n\" style=\"fill:none;stroke:#b0b0b0;stroke-linecap:square;stroke-width:0.8;\"/>\r\n     </g>\r\n     <g id=\"line2d_33\">\r\n      <g>\r\n       <use style=\"stroke:#000000;stroke-width:0.8;\" x=\"478.750146\" xlink:href=\"#m5a1c40fbfe\" y=\"279.551872\"/>\r\n      </g>\r\n     </g>\r\n     <g id=\"text_18\">\r\n      <!-- 20 -->\r\n      <g transform=\"translate(472.387646 294.150309)scale(0.1 -0.1)\">\r\n       <use xlink:href=\"#DejaVuSans-50\"/>\r\n       <use x=\"63.623047\" xlink:href=\"#DejaVuSans-48\"/>\r\n      </g>\r\n     </g>\r\n    </g>\r\n    <g id=\"xtick_9\">\r\n     <g id=\"line2d_34\">\r\n      <path clip-path=\"url(#p67a3f286a5)\" d=\"M 534.647967 279.551872 \r\nL 534.647967 7.751872 \r\n\" style=\"fill:none;stroke:#b0b0b0;stroke-linecap:square;stroke-width:0.8;\"/>\r\n     </g>\r\n     <g id=\"line2d_35\">\r\n      <g>\r\n       <use style=\"stroke:#000000;stroke-width:0.8;\" x=\"534.647967\" xlink:href=\"#m5a1c40fbfe\" y=\"279.551872\"/>\r\n      </g>\r\n     </g>\r\n     <g id=\"text_19\">\r\n      <!-- 40 -->\r\n      <g transform=\"translate(528.285467 294.150309)scale(0.1 -0.1)\">\r\n       <use xlink:href=\"#DejaVuSans-52\"/>\r\n       <use x=\"63.623047\" xlink:href=\"#DejaVuSans-48\"/>\r\n      </g>\r\n     </g>\r\n    </g>\r\n    <g id=\"xtick_10\">\r\n     <g id=\"line2d_36\">\r\n      <path clip-path=\"url(#p67a3f286a5)\" d=\"M 590.545788 279.551872 \r\nL 590.545788 7.751872 \r\n\" style=\"fill:none;stroke:#b0b0b0;stroke-linecap:square;stroke-width:0.8;\"/>\r\n     </g>\r\n     <g id=\"line2d_37\">\r\n      <g>\r\n       <use style=\"stroke:#000000;stroke-width:0.8;\" x=\"590.545788\" xlink:href=\"#m5a1c40fbfe\" y=\"279.551872\"/>\r\n      </g>\r\n     </g>\r\n     <g id=\"text_20\">\r\n      <!-- 60 -->\r\n      <g transform=\"translate(584.183288 294.150309)scale(0.1 -0.1)\">\r\n       <use xlink:href=\"#DejaVuSans-54\"/>\r\n       <use x=\"63.623047\" xlink:href=\"#DejaVuSans-48\"/>\r\n      </g>\r\n     </g>\r\n    </g>\r\n    <g id=\"xtick_11\">\r\n     <g id=\"line2d_38\">\r\n      <path clip-path=\"url(#p67a3f286a5)\" d=\"M 646.443609 279.551872 \r\nL 646.443609 7.751872 \r\n\" style=\"fill:none;stroke:#b0b0b0;stroke-linecap:square;stroke-width:0.8;\"/>\r\n     </g>\r\n     <g id=\"line2d_39\">\r\n      <g>\r\n       <use style=\"stroke:#000000;stroke-width:0.8;\" x=\"646.443609\" xlink:href=\"#m5a1c40fbfe\" y=\"279.551872\"/>\r\n      </g>\r\n     </g>\r\n     <g id=\"text_21\">\r\n      <!-- 80 -->\r\n      <g transform=\"translate(640.081109 294.150309)scale(0.1 -0.1)\">\r\n       <use xlink:href=\"#DejaVuSans-56\"/>\r\n       <use x=\"63.623047\" xlink:href=\"#DejaVuSans-48\"/>\r\n      </g>\r\n     </g>\r\n    </g>\r\n    <g id=\"xtick_12\">\r\n     <g id=\"line2d_40\">\r\n      <path clip-path=\"url(#p67a3f286a5)\" d=\"M 702.34143 279.551872 \r\nL 702.34143 7.751872 \r\n\" style=\"fill:none;stroke:#b0b0b0;stroke-linecap:square;stroke-width:0.8;\"/>\r\n     </g>\r\n     <g id=\"line2d_41\">\r\n      <g>\r\n       <use style=\"stroke:#000000;stroke-width:0.8;\" x=\"702.34143\" xlink:href=\"#m5a1c40fbfe\" y=\"279.551872\"/>\r\n      </g>\r\n     </g>\r\n     <g id=\"text_22\">\r\n      <!-- 100 -->\r\n      <g transform=\"translate(692.79768 294.150309)scale(0.1 -0.1)\">\r\n       <use xlink:href=\"#DejaVuSans-49\"/>\r\n       <use x=\"63.623047\" xlink:href=\"#DejaVuSans-48\"/>\r\n       <use x=\"127.246094\" xlink:href=\"#DejaVuSans-48\"/>\r\n      </g>\r\n     </g>\r\n    </g>\r\n    <g id=\"text_23\">\r\n     <!-- epoch -->\r\n     <g transform=\"translate(545.971307 307.828434)scale(0.1 -0.1)\">\r\n      <use xlink:href=\"#DejaVuSans-101\"/>\r\n      <use x=\"61.523438\" xlink:href=\"#DejaVuSans-112\"/>\r\n      <use x=\"125\" xlink:href=\"#DejaVuSans-111\"/>\r\n      <use x=\"186.181641\" xlink:href=\"#DejaVuSans-99\"/>\r\n      <use x=\"241.162109\" xlink:href=\"#DejaVuSans-104\"/>\r\n     </g>\r\n    </g>\r\n   </g>\r\n   <g id=\"matplotlib.axis_4\">\r\n    <g id=\"ytick_9\">\r\n     <g id=\"line2d_42\">\r\n      <path clip-path=\"url(#p67a3f286a5)\" d=\"M 409.017614 257.443744 \r\nL 713.38125 257.443744 \r\n\" style=\"fill:none;stroke:#b0b0b0;stroke-linecap:square;stroke-width:0.8;\"/>\r\n     </g>\r\n     <g id=\"line2d_43\">\r\n      <g>\r\n       <use style=\"stroke:#000000;stroke-width:0.8;\" x=\"409.017614\" xlink:href=\"#m9a8ec1b76f\" y=\"257.443744\"/>\r\n      </g>\r\n     </g>\r\n     <g id=\"text_24\">\r\n      <!-- 0.5 -->\r\n      <g transform=\"translate(386.114489 261.242962)scale(0.1 -0.1)\">\r\n       <use xlink:href=\"#DejaVuSans-48\"/>\r\n       <use x=\"63.623047\" xlink:href=\"#DejaVuSans-46\"/>\r\n       <use x=\"95.410156\" xlink:href=\"#DejaVuSans-53\"/>\r\n      </g>\r\n     </g>\r\n    </g>\r\n    <g id=\"ytick_10\">\r\n     <g id=\"line2d_44\">\r\n      <path clip-path=\"url(#p67a3f286a5)\" d=\"M 409.017614 203.473883 \r\nL 713.38125 203.473883 \r\n\" style=\"fill:none;stroke:#b0b0b0;stroke-linecap:square;stroke-width:0.8;\"/>\r\n     </g>\r\n     <g id=\"line2d_45\">\r\n      <g>\r\n       <use style=\"stroke:#000000;stroke-width:0.8;\" x=\"409.017614\" xlink:href=\"#m9a8ec1b76f\" y=\"203.473883\"/>\r\n      </g>\r\n     </g>\r\n     <g id=\"text_25\">\r\n      <!-- 0.6 -->\r\n      <g transform=\"translate(386.114489 207.273102)scale(0.1 -0.1)\">\r\n       <use xlink:href=\"#DejaVuSans-48\"/>\r\n       <use x=\"63.623047\" xlink:href=\"#DejaVuSans-46\"/>\r\n       <use x=\"95.410156\" xlink:href=\"#DejaVuSans-54\"/>\r\n      </g>\r\n     </g>\r\n    </g>\r\n    <g id=\"ytick_11\">\r\n     <g id=\"line2d_46\">\r\n      <path clip-path=\"url(#p67a3f286a5)\" d=\"M 409.017614 149.504023 \r\nL 713.38125 149.504023 \r\n\" style=\"fill:none;stroke:#b0b0b0;stroke-linecap:square;stroke-width:0.8;\"/>\r\n     </g>\r\n     <g id=\"line2d_47\">\r\n      <g>\r\n       <use style=\"stroke:#000000;stroke-width:0.8;\" x=\"409.017614\" xlink:href=\"#m9a8ec1b76f\" y=\"149.504023\"/>\r\n      </g>\r\n     </g>\r\n     <g id=\"text_26\">\r\n      <!-- 0.7 -->\r\n      <g transform=\"translate(386.114489 153.303242)scale(0.1 -0.1)\">\r\n       <use xlink:href=\"#DejaVuSans-48\"/>\r\n       <use x=\"63.623047\" xlink:href=\"#DejaVuSans-46\"/>\r\n       <use x=\"95.410156\" xlink:href=\"#DejaVuSans-55\"/>\r\n      </g>\r\n     </g>\r\n    </g>\r\n    <g id=\"ytick_12\">\r\n     <g id=\"line2d_48\">\r\n      <path clip-path=\"url(#p67a3f286a5)\" d=\"M 409.017614 95.534163 \r\nL 713.38125 95.534163 \r\n\" style=\"fill:none;stroke:#b0b0b0;stroke-linecap:square;stroke-width:0.8;\"/>\r\n     </g>\r\n     <g id=\"line2d_49\">\r\n      <g>\r\n       <use style=\"stroke:#000000;stroke-width:0.8;\" x=\"409.017614\" xlink:href=\"#m9a8ec1b76f\" y=\"95.534163\"/>\r\n      </g>\r\n     </g>\r\n     <g id=\"text_27\">\r\n      <!-- 0.8 -->\r\n      <g transform=\"translate(386.114489 99.333382)scale(0.1 -0.1)\">\r\n       <use xlink:href=\"#DejaVuSans-48\"/>\r\n       <use x=\"63.623047\" xlink:href=\"#DejaVuSans-46\"/>\r\n       <use x=\"95.410156\" xlink:href=\"#DejaVuSans-56\"/>\r\n      </g>\r\n     </g>\r\n    </g>\r\n    <g id=\"ytick_13\">\r\n     <g id=\"line2d_50\">\r\n      <path clip-path=\"url(#p67a3f286a5)\" d=\"M 409.017614 41.564303 \r\nL 713.38125 41.564303 \r\n\" style=\"fill:none;stroke:#b0b0b0;stroke-linecap:square;stroke-width:0.8;\"/>\r\n     </g>\r\n     <g id=\"line2d_51\">\r\n      <g>\r\n       <use style=\"stroke:#000000;stroke-width:0.8;\" x=\"409.017614\" xlink:href=\"#m9a8ec1b76f\" y=\"41.564303\"/>\r\n      </g>\r\n     </g>\r\n     <g id=\"text_28\">\r\n      <!-- 0.9 -->\r\n      <g transform=\"translate(386.114489 45.363521)scale(0.1 -0.1)\">\r\n       <use xlink:href=\"#DejaVuSans-48\"/>\r\n       <use x=\"63.623047\" xlink:href=\"#DejaVuSans-46\"/>\r\n       <use x=\"95.410156\" xlink:href=\"#DejaVuSans-57\"/>\r\n      </g>\r\n     </g>\r\n    </g>\r\n    <g id=\"text_29\">\r\n     <!-- accuracy -->\r\n     <g transform=\"translate(380.034801 166.211247)rotate(-90)scale(0.1 -0.1)\">\r\n      <defs>\r\n       <path d=\"M 34.28125 27.484375 \r\nQ 23.390625 27.484375 19.1875 25 \r\nQ 14.984375 22.515625 14.984375 16.5 \r\nQ 14.984375 11.71875 18.140625 8.90625 \r\nQ 21.296875 6.109375 26.703125 6.109375 \r\nQ 34.1875 6.109375 38.703125 11.40625 \r\nQ 43.21875 16.703125 43.21875 25.484375 \r\nL 43.21875 27.484375 \r\nz\r\nM 52.203125 31.203125 \r\nL 52.203125 0 \r\nL 43.21875 0 \r\nL 43.21875 8.296875 \r\nQ 40.140625 3.328125 35.546875 0.953125 \r\nQ 30.953125 -1.421875 24.3125 -1.421875 \r\nQ 15.921875 -1.421875 10.953125 3.296875 \r\nQ 6 8.015625 6 15.921875 \r\nQ 6 25.140625 12.171875 29.828125 \r\nQ 18.359375 34.515625 30.609375 34.515625 \r\nL 43.21875 34.515625 \r\nL 43.21875 35.40625 \r\nQ 43.21875 41.609375 39.140625 45 \r\nQ 35.0625 48.390625 27.6875 48.390625 \r\nQ 23 48.390625 18.546875 47.265625 \r\nQ 14.109375 46.140625 10.015625 43.890625 \r\nL 10.015625 52.203125 \r\nQ 14.9375 54.109375 19.578125 55.046875 \r\nQ 24.21875 56 28.609375 56 \r\nQ 40.484375 56 46.34375 49.84375 \r\nQ 52.203125 43.703125 52.203125 31.203125 \r\nz\r\n\" id=\"DejaVuSans-97\"/>\r\n       <path d=\"M 8.5 21.578125 \r\nL 8.5 54.6875 \r\nL 17.484375 54.6875 \r\nL 17.484375 21.921875 \r\nQ 17.484375 14.15625 20.5 10.265625 \r\nQ 23.53125 6.390625 29.59375 6.390625 \r\nQ 36.859375 6.390625 41.078125 11.03125 \r\nQ 45.3125 15.671875 45.3125 23.6875 \r\nL 45.3125 54.6875 \r\nL 54.296875 54.6875 \r\nL 54.296875 0 \r\nL 45.3125 0 \r\nL 45.3125 8.40625 \r\nQ 42.046875 3.421875 37.71875 1 \r\nQ 33.40625 -1.421875 27.6875 -1.421875 \r\nQ 18.265625 -1.421875 13.375 4.4375 \r\nQ 8.5 10.296875 8.5 21.578125 \r\nz\r\nM 31.109375 56 \r\nz\r\n\" id=\"DejaVuSans-117\"/>\r\n       <path d=\"M 41.109375 46.296875 \r\nQ 39.59375 47.171875 37.8125 47.578125 \r\nQ 36.03125 48 33.890625 48 \r\nQ 26.265625 48 22.1875 43.046875 \r\nQ 18.109375 38.09375 18.109375 28.8125 \r\nL 18.109375 0 \r\nL 9.078125 0 \r\nL 9.078125 54.6875 \r\nL 18.109375 54.6875 \r\nL 18.109375 46.1875 \r\nQ 20.953125 51.171875 25.484375 53.578125 \r\nQ 30.03125 56 36.53125 56 \r\nQ 37.453125 56 38.578125 55.875 \r\nQ 39.703125 55.765625 41.0625 55.515625 \r\nz\r\n\" id=\"DejaVuSans-114\"/>\r\n       <path d=\"M 32.171875 -5.078125 \r\nQ 28.375 -14.84375 24.75 -17.8125 \r\nQ 21.140625 -20.796875 15.09375 -20.796875 \r\nL 7.90625 -20.796875 \r\nL 7.90625 -13.28125 \r\nL 13.1875 -13.28125 \r\nQ 16.890625 -13.28125 18.9375 -11.515625 \r\nQ 21 -9.765625 23.484375 -3.21875 \r\nL 25.09375 0.875 \r\nL 2.984375 54.6875 \r\nL 12.5 54.6875 \r\nL 29.59375 11.921875 \r\nL 46.6875 54.6875 \r\nL 56.203125 54.6875 \r\nz\r\n\" id=\"DejaVuSans-121\"/>\r\n      </defs>\r\n      <use xlink:href=\"#DejaVuSans-97\"/>\r\n      <use x=\"61.279297\" xlink:href=\"#DejaVuSans-99\"/>\r\n      <use x=\"116.259766\" xlink:href=\"#DejaVuSans-99\"/>\r\n      <use x=\"171.240234\" xlink:href=\"#DejaVuSans-117\"/>\r\n      <use x=\"234.619141\" xlink:href=\"#DejaVuSans-114\"/>\r\n      <use x=\"275.732422\" xlink:href=\"#DejaVuSans-97\"/>\r\n      <use x=\"337.011719\" xlink:href=\"#DejaVuSans-99\"/>\r\n      <use x=\"391.992188\" xlink:href=\"#DejaVuSans-121\"/>\r\n     </g>\r\n    </g>\r\n   </g>\r\n   <g id=\"line2d_52\">\r\n    <path clip-path=\"url(#p67a3f286a5)\" d=\"M 422.852324 267.197326 \r\nL 425.647215 244.438966 \r\nL 428.442106 172.912628 \r\nL 431.236998 195.671004 \r\nL 434.031889 182.666227 \r\nL 436.82678 179.415017 \r\nL 439.621671 172.912628 \r\nL 442.416562 172.912628 \r\nL 445.211453 146.903074 \r\nL 448.006344 101.386322 \r\nL 450.801235 143.651864 \r\nL 453.596126 130.647087 \r\nL 456.391017 140.400686 \r\nL 459.185908 124.144698 \r\nL 461.980799 114.391099 \r\nL 464.77569 124.144698 \r\nL 467.570581 114.391099 \r\nL 470.365472 107.888711 \r\nL 473.160363 85.130335 \r\nL 475.955255 124.144698 \r\nL 478.750146 85.130335 \r\nL 481.545037 127.395876 \r\nL 484.339928 111.139921 \r\nL 487.134819 107.888711 \r\nL 489.92971 78.627946 \r\nL 492.724601 88.381545 \r\nL 495.519492 81.879124 \r\nL 498.314383 81.879124 \r\nL 501.109274 72.125558 \r\nL 503.904165 52.61836 \r\nL 506.699056 111.139921 \r\nL 509.493947 68.874347 \r\nL 512.288838 78.627946 \r\nL 515.083729 65.623169 \r\nL 517.87862 72.125558 \r\nL 520.673511 59.120748 \r\nL 523.468403 65.623169 \r\nL 526.263294 46.115971 \r\nL 529.058185 33.111194 \r\nL 531.853076 65.623169 \r\nL 534.647967 88.381545 \r\nL 537.442858 65.623169 \r\nL 540.237749 52.61836 \r\nL 543.03264 65.623169 \r\nL 545.827531 59.120748 \r\nL 548.622422 81.879124 \r\nL 551.417313 62.371959 \r\nL 554.212204 42.864793 \r\nL 557.007095 59.120748 \r\nL 559.801986 75.376736 \r\nL 562.596877 52.61836 \r\nL 565.391768 55.86957 \r\nL 568.186659 33.111194 \r\nL 570.981551 55.86957 \r\nL 573.776442 52.61836 \r\nL 576.571333 65.623169 \r\nL 579.366224 36.362372 \r\nL 582.161115 26.608806 \r\nL 584.956006 49.367182 \r\nL 587.750897 36.362372 \r\nL 590.545788 46.115971 \r\nL 593.340679 55.86957 \r\nL 596.13557 81.879124 \r\nL 598.930461 49.367182 \r\nL 601.725352 59.120748 \r\nL 604.520243 42.864793 \r\nL 607.315134 65.623169 \r\nL 610.110025 46.115971 \r\nL 612.904916 52.61836 \r\nL 615.699807 49.367182 \r\nL 618.494699 39.613583 \r\nL 621.28959 33.111194 \r\nL 624.084481 23.357595 \r\nL 626.879372 52.61836 \r\nL 629.674263 36.362372 \r\nL 632.469154 39.613583 \r\nL 635.264045 49.367182 \r\nL 638.058936 20.106417 \r\nL 640.853827 36.362372 \r\nL 643.648718 55.86957 \r\nL 646.443609 39.613583 \r\nL 649.2385 29.859984 \r\nL 652.033391 39.613583 \r\nL 654.828282 46.115971 \r\nL 657.623173 36.362372 \r\nL 660.418064 49.367182 \r\nL 663.212955 62.371959 \r\nL 666.007847 29.859984 \r\nL 668.802738 39.613583 \r\nL 671.597629 39.613583 \r\nL 674.39252 42.864793 \r\nL 677.187411 46.115971 \r\nL 679.982302 49.367182 \r\nL 682.777193 36.362372 \r\nL 685.572084 42.864793 \r\nL 688.366975 33.111194 \r\nL 691.161866 20.106417 \r\nL 693.956757 29.859984 \r\nL 696.751648 42.864793 \r\nL 699.546539 29.859984 \r\n\" style=\"fill:none;stroke:#fa8072;stroke-linecap:square;stroke-width:1.5;\"/>\r\n   </g>\r\n   <g id=\"patch_8\">\r\n    <path d=\"M 409.017614 279.551872 \r\nL 409.017614 7.751872 \r\n\" style=\"fill:none;stroke:#000000;stroke-linecap:square;stroke-linejoin:miter;stroke-width:0.8;\"/>\r\n   </g>\r\n   <g id=\"patch_9\">\r\n    <path d=\"M 713.38125 279.551872 \r\nL 713.38125 7.751872 \r\n\" style=\"fill:none;stroke:#000000;stroke-linecap:square;stroke-linejoin:miter;stroke-width:0.8;\"/>\r\n   </g>\r\n   <g id=\"patch_10\">\r\n    <path d=\"M 409.017614 279.551872 \r\nL 713.38125 279.551872 \r\n\" style=\"fill:none;stroke:#000000;stroke-linecap:square;stroke-linejoin:miter;stroke-width:0.8;\"/>\r\n   </g>\r\n   <g id=\"patch_11\">\r\n    <path d=\"M 409.017614 7.751872 \r\nL 713.38125 7.751872 \r\n\" style=\"fill:none;stroke:#000000;stroke-linecap:square;stroke-linejoin:miter;stroke-width:0.8;\"/>\r\n   </g>\r\n  </g>\r\n </g>\r\n <defs>\r\n  <clipPath id=\"peae01873d8\">\r\n   <rect height=\"271.8\" width=\"304.363636\" x=\"43.78125\" y=\"7.751872\"/>\r\n  </clipPath>\r\n  <clipPath id=\"p67a3f286a5\">\r\n   <rect height=\"271.8\" width=\"304.363636\" x=\"409.017614\" y=\"7.751872\"/>\r\n  </clipPath>\r\n </defs>\r\n</svg>\r\n",
      "image/png": "[encoded data removed]"
     },
     "metadata": {
      "needs_background": "light"
     }
    }
   ],
   "source": [
    "_, axes = plt.subplots(1, 2, figsize=(12, 5))\n",
    "\n",
    "axes = axes.flatten()\n",
    "\n",
    "axes[0].plot(\n",
    "    history.epoch,\n",
    "    history.history['loss'],\n",
    "    color='steelblue'\n",
    ")\n",
    "axes[0].set_ylabel('loss')\n",
    "axes[0].set_xlabel('epoch')\n",
    "axes[0].grid(True)\n",
    "\n",
    "axes[1].plot(\n",
    "    history.epoch,\n",
    "    history.history['accuracy'],\n",
    "    color='salmon'\n",
    ")\n",
    "axes[1].set_ylabel('accuracy')\n",
    "axes[1].set_xlabel('epoch')\n",
    "axes[1].grid(True)\n",
    "\n",
    "plt.show();"
   ]
  },
  {
   "source": [
    "Сохранить веса обученных нейронных сетей."
   ],
   "cell_type": "markdown",
   "metadata": {}
  },
  {
   "source": [
    "path = Path.home() / 'aiu-02-sonar-pro-model.h5'\n",
    "\n",
    "net.save_weights(path)\n",
    "net.load_weights(path)"
   ],
   "cell_type": "code",
   "metadata": {},
   "execution_count": 12,
   "outputs": []
  },
  {
   "source": [
    "## Выполнить тестирование нейронной сети"
   ],
   "cell_type": "markdown",
   "metadata": {}
  },
  {
   "cell_type": "code",
   "execution_count": 13,
   "metadata": {},
   "outputs": [
    {
     "output_type": "stream",
     "name": "stdout",
     "text": [
      "2/2 [==============================] - 0s 2ms/step - loss: 0.1963 - accuracy: 0.9286\n",
      "\n",
      "Test loss: 0.19628307223320007\n",
      "Test accuracy: 0.9285714030265808\n"
     ]
    }
   ],
   "source": [
    "score = net.evaluate(x_test, y_test, verbose=1)\n",
    "\n",
    "print(f\"\\nTest loss: {score[0]}\")\n",
    "print(f\"Test accuracy: {score[1]}\")"
   ]
  },
  {
   "source": [
    "Таким образом полученная точность составляет 92.8%, что больше требуемой точности 90%."
   ],
   "cell_type": "markdown",
   "metadata": {}
  }
 ]
}