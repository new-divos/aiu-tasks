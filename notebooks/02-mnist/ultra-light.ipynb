{
 "metadata": {
  "language_info": {
   "codemirror_mode": {
    "name": "ipython",
    "version": 3
   },
   "file_extension": ".py",
   "mimetype": "text/x-python",
   "name": "python",
   "nbconvert_exporter": "python",
   "pygments_lexer": "ipython3",
   "version": 3
  },
  "orig_nbformat": 2
 },
 "nbformat": 4,
 "nbformat_minor": 2,
 "cells": [
  {
   "source": [
    "# Исследование влияния размеров обучающей и проверочной выборок на качество обучения"
   ],
   "cell_type": "markdown",
   "metadata": {}
  },
  {
   "source": [
    "**Создайте модель для распознавания рукописных цифр из набора MNIST (можно воспользоваться ноутбуком 1-го занятия) и проведите ряд тестов:**\n",
    "\n",
    "Запустите сеть с различными размерами обучающей и проверочной выборок:\n",
    "\n",
    "1. Размер `test_size=0.1`\n",
    "2. Размер `test_size=0.5`\n",
    "3. Размер `test_size=0.9`\n",
    "\n",
    "Напишите выводы, как изменение `test_size` влияет на точность сети."
   ],
   "cell_type": "markdown",
   "metadata": {}
  },
  {
   "cell_type": "code",
   "execution_count": null,
   "metadata": {},
   "outputs": [],
   "source": []
  }
 ]
}